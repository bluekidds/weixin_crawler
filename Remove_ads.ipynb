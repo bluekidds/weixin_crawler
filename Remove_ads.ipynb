{
 "cells": [
  {
   "cell_type": "code",
   "execution_count": 106,
   "metadata": {},
   "outputs": [],
   "source": [
    "import pandas as pd\n",
    "import dask.dataframe as dd\n",
    "\n",
    "\n",
    "pd.set_option('display.max_colwidth', -1)"
   ]
  },
  {
   "cell_type": "code",
   "execution_count": 11,
   "metadata": {},
   "outputs": [
    {
     "data": {
      "text/html": [
       "<div>\n",
       "<style scoped>\n",
       "    .dataframe tbody tr th:only-of-type {\n",
       "        vertical-align: middle;\n",
       "    }\n",
       "\n",
       "    .dataframe tbody tr th {\n",
       "        vertical-align: top;\n",
       "    }\n",
       "\n",
       "    .dataframe thead th {\n",
       "        text-align: right;\n",
       "    }\n",
       "</style>\n",
       "<table border=\"1\" class=\"dataframe\">\n",
       "  <thead>\n",
       "    <tr style=\"text-align: right;\">\n",
       "      <th></th>\n",
       "      <th>_id</th>\n",
       "      <th>url</th>\n",
       "      <th>account</th>\n",
       "      <th>time</th>\n",
       "      <th>title</th>\n",
       "      <th>ads_removed</th>\n",
       "    </tr>\n",
       "  </thead>\n",
       "  <tbody>\n",
       "    <tr>\n",
       "      <th>0</th>\n",
       "      <td>13ad618b7026af11019180c69da4c855</td>\n",
       "      <td>http://mp.weixin.qq.com/s?__biz=MjM5ODI4NTE0MQ...</td>\n",
       "      <td>CCTV4</td>\n",
       "      <td>2019-05-23</td>\n",
       "      <td>局地超37℃！热，何时是个头？</td>\n",
       "      <td>小满节气刚过中国北方多地就感受到了夏天的威力！这两天北方地区会出现今年首轮大范围高温天气而南...</td>\n",
       "    </tr>\n",
       "    <tr>\n",
       "      <th>1</th>\n",
       "      <td>852eeebc0f85a2b8d8de9ab1b0abda5c</td>\n",
       "      <td>http://mp.weixin.qq.com/s?__biz=MjM5ODI4NTE0MQ...</td>\n",
       "      <td>CCTV4</td>\n",
       "      <td>2019-10-07</td>\n",
       "      <td>你陪我一程，我念你一生！</td>\n",
       "      <td>一生之中，能遇到一个爱你、疼你、珍惜你，并且真正懂你的人，就是幸福......不是所有的人都...</td>\n",
       "    </tr>\n",
       "    <tr>\n",
       "      <th>2</th>\n",
       "      <td>de65d9279597662ea2f420c8574afc58</td>\n",
       "      <td>http://mp.weixin.qq.com/s?__biz=MjM5ODI4NTE0MQ...</td>\n",
       "      <td>CCTV4</td>\n",
       "      <td>2019-10-08</td>\n",
       "      <td>一再搅乱台海，美国想收割哪些利益？</td>\n",
       "      <td>连日来美台间动作不断特朗普不仅批准了80亿美元的对台军售美国在台协会台北办事处还鼓吹“美台合...</td>\n",
       "    </tr>\n",
       "    <tr>\n",
       "      <th>3</th>\n",
       "      <td>72a74ce05fa3b192c17104f30fa2c48b</td>\n",
       "      <td>http://mp.weixin.qq.com/s?__biz=MjM5ODI4NTE0MQ...</td>\n",
       "      <td>CCTV4</td>\n",
       "      <td>2019-12-19</td>\n",
       "      <td>国务院关税税则委员会公布第一批对美加征关税商品第二次排除清单</td>\n",
       "      <td>根据《国务院关税税则委员会关于试行开展对美加征关税商品排除工作的公告》（税委会公告〔2019...</td>\n",
       "    </tr>\n",
       "    <tr>\n",
       "      <th>4</th>\n",
       "      <td>4158ee904484cffad888f2c67bf7d517</td>\n",
       "      <td>http://mp.weixin.qq.com/s?__biz=MjM5ODI4NTE0MQ...</td>\n",
       "      <td>CCTV4</td>\n",
       "      <td>2019-03-24</td>\n",
       "      <td>穿越9000多公里！这两个男人的跨国故事，让人感动！</td>\n",
       "      <td>周末看点啥？CCTV4《外国人在中国》之《意大利设计师的中国情缘》等你来约中意人民交往中有着...</td>\n",
       "    </tr>\n",
       "  </tbody>\n",
       "</table>\n",
       "</div>"
      ],
      "text/plain": [
       "                                _id  \\\n",
       "0  13ad618b7026af11019180c69da4c855   \n",
       "1  852eeebc0f85a2b8d8de9ab1b0abda5c   \n",
       "2  de65d9279597662ea2f420c8574afc58   \n",
       "3  72a74ce05fa3b192c17104f30fa2c48b   \n",
       "4  4158ee904484cffad888f2c67bf7d517   \n",
       "\n",
       "                                                 url account        time  \\\n",
       "0  http://mp.weixin.qq.com/s?__biz=MjM5ODI4NTE0MQ...   CCTV4  2019-05-23   \n",
       "1  http://mp.weixin.qq.com/s?__biz=MjM5ODI4NTE0MQ...   CCTV4  2019-10-07   \n",
       "2  http://mp.weixin.qq.com/s?__biz=MjM5ODI4NTE0MQ...   CCTV4  2019-10-08   \n",
       "3  http://mp.weixin.qq.com/s?__biz=MjM5ODI4NTE0MQ...   CCTV4  2019-12-19   \n",
       "4  http://mp.weixin.qq.com/s?__biz=MjM5ODI4NTE0MQ...   CCTV4  2019-03-24   \n",
       "\n",
       "                            title  \\\n",
       "0                 局地超37℃！热，何时是个头？   \n",
       "1                    你陪我一程，我念你一生！   \n",
       "2               一再搅乱台海，美国想收割哪些利益？   \n",
       "3  国务院关税税则委员会公布第一批对美加征关税商品第二次排除清单   \n",
       "4      穿越9000多公里！这两个男人的跨国故事，让人感动！   \n",
       "\n",
       "                                         ads_removed  \n",
       "0  小满节气刚过中国北方多地就感受到了夏天的威力！这两天北方地区会出现今年首轮大范围高温天气而南...  \n",
       "1  一生之中，能遇到一个爱你、疼你、珍惜你，并且真正懂你的人，就是幸福......不是所有的人都...  \n",
       "2  连日来美台间动作不断特朗普不仅批准了80亿美元的对台军售美国在台协会台北办事处还鼓吹“美台合...  \n",
       "3  根据《国务院关税税则委员会关于试行开展对美加征关税商品排除工作的公告》（税委会公告〔2019...  \n",
       "4  周末看点啥？CCTV4《外国人在中国》之《意大利设计师的中国情缘》等你来约中意人民交往中有着...  "
      ]
     },
     "metadata": {},
     "output_type": "display_data"
    }
   ],
   "source": [
    "ads_removal = pd.read_csv('../data/wechat_sample_ads.csv')\n",
    "\n",
    "display(ads_removal.head())"
   ]
  },
  {
   "cell_type": "code",
   "execution_count": 21,
   "metadata": {},
   "outputs": [
    {
     "data": {
      "text/plain": [
       "'http://mp.weixin.qq.com/s?__biz=MjM5ODI4NTE0MQ==&amp;mid=2653683634&amp;idx=2&amp;sn=4158ee904484cffad888f2c67bf7d517&amp;chksm=bd1245888a65cc9ecde2264e91b7de62bff9fc6ce9d43ef973b6647acac64b1bade0c2e3f251&amp;scene=38#wechat_redirect'"
      ]
     },
     "execution_count": 21,
     "metadata": {},
     "output_type": "execute_result"
    }
   ],
   "source": [
    "ads_removal.iloc[4]['url']"
   ]
  },
  {
   "cell_type": "code",
   "execution_count": 20,
   "metadata": {},
   "outputs": [
    {
     "data": {
      "text/plain": [
       "军武次位面    5\n",
       "军武榜      5\n",
       "新华社      5\n",
       "央视网      5\n",
       "中国新闻网    5\n",
       "        ..\n",
       "局座召忠     5\n",
       "共青团中央    5\n",
       "铁血军事     5\n",
       "观察者网     5\n",
       "米尔军事     5\n",
       "Name: account, Length: 47, dtype: int64"
      ]
     },
     "execution_count": 20,
     "metadata": {},
     "output_type": "execute_result"
    }
   ],
   "source": [
    "ads_removal.account.value_counts()"
   ]
  },
  {
   "cell_type": "code",
   "execution_count": 14,
   "metadata": {},
   "outputs": [
    {
     "data": {
      "text/plain": [
       "'http://mp.weixin.qq.com/s?__biz=MjM5ODI4NTE0MQ==&amp;mid=2653686329&amp;idx=2&amp;sn=13ad618b7026af11019180c69da4c855&amp;chksm=bd15b0038a623915282fbb7d20803bced4d29e547ea2885bf6b7e07ec2c1be561a54e1168c26&amp;scene=38#wechat_redirect'"
      ]
     },
     "execution_count": 14,
     "metadata": {},
     "output_type": "execute_result"
    }
   ],
   "source": [
    "ads_removal.iloc[0]['url']"
   ]
  },
  {
   "cell_type": "code",
   "execution_count": 16,
   "metadata": {},
   "outputs": [],
   "source": [
    "data = dd.read_csv('../data/19_20_sentiment.csv',blocksize=64 * 1024 * 1024)"
   ]
  },
  {
   "cell_type": "code",
   "execution_count": 190,
   "metadata": {},
   "outputs": [],
   "source": [
    "result = data.account.value_counts()\n",
    "result = result.compute(num_workers=4)\n"
   ]
  },
  {
   "cell_type": "code",
   "execution_count": 194,
   "metadata": {},
   "outputs": [
    {
     "data": {
      "text/plain": [
       "('观察者网', 10110)"
      ]
     },
     "metadata": {},
     "output_type": "display_data"
    },
    {
     "data": {
      "text/plain": [
       "('澎湃新闻', 8470)"
      ]
     },
     "metadata": {},
     "output_type": "display_data"
    },
    {
     "data": {
      "text/plain": [
       "('人民日报', 8385)"
      ]
     },
     "metadata": {},
     "output_type": "display_data"
    },
    {
     "data": {
      "text/plain": [
       "('环球网', 8307)"
      ]
     },
     "metadata": {},
     "output_type": "display_data"
    },
    {
     "data": {
      "text/plain": [
       "('参考消息', 7997)"
      ]
     },
     "metadata": {},
     "output_type": "display_data"
    },
    {
     "data": {
      "text/plain": [
       "('中国经济网', 7913)"
      ]
     },
     "metadata": {},
     "output_type": "display_data"
    },
    {
     "data": {
      "text/plain": [
       "('环球时报', 7823)"
      ]
     },
     "metadata": {},
     "output_type": "display_data"
    },
    {
     "data": {
      "text/plain": [
       "('新华社', 7790)"
      ]
     },
     "metadata": {},
     "output_type": "display_data"
    },
    {
     "data": {
      "text/plain": [
       "('中国搜索', 7366)"
      ]
     },
     "metadata": {},
     "output_type": "display_data"
    },
    {
     "data": {
      "text/plain": [
       "('央视新闻', 6993)"
      ]
     },
     "metadata": {},
     "output_type": "display_data"
    },
    {
     "data": {
      "text/plain": [
       "('人民网', 6509)"
      ]
     },
     "metadata": {},
     "output_type": "display_data"
    },
    {
     "data": {
      "text/plain": [
       "('中国青年报', 6492)"
      ]
     },
     "metadata": {},
     "output_type": "display_data"
    },
    {
     "data": {
      "text/plain": [
       "('新华网', 6446)"
      ]
     },
     "metadata": {},
     "output_type": "display_data"
    },
    {
     "data": {
      "text/plain": [
       "('南方都市报', 6244)"
      ]
     },
     "metadata": {},
     "output_type": "display_data"
    },
    {
     "data": {
      "text/plain": [
       "('中国新闻网', 5419)"
      ]
     },
     "metadata": {},
     "output_type": "display_data"
    },
    {
     "data": {
      "text/plain": [
       "('央视财经', 5218)"
      ]
     },
     "metadata": {},
     "output_type": "display_data"
    },
    {
     "data": {
      "text/plain": [
       "('央视网', 5204)"
      ]
     },
     "metadata": {},
     "output_type": "display_data"
    },
    {
     "data": {
      "text/plain": [
       "('共青团中央', 4709)"
      ]
     },
     "metadata": {},
     "output_type": "display_data"
    },
    {
     "data": {
      "text/plain": [
       "('半月谈', 4618)"
      ]
     },
     "metadata": {},
     "output_type": "display_data"
    },
    {
     "data": {
      "text/plain": [
       "('界面新闻', 4607)"
      ]
     },
     "metadata": {},
     "output_type": "display_data"
    },
    {
     "data": {
      "text/plain": [
       "('占豪', 4602)"
      ]
     },
     "metadata": {},
     "output_type": "display_data"
    },
    {
     "data": {
      "text/plain": [
       "('中国普法', 3731)"
      ]
     },
     "metadata": {},
     "output_type": "display_data"
    },
    {
     "data": {
      "text/plain": [
       "('共产党员', 3354)"
      ]
     },
     "metadata": {},
     "output_type": "display_data"
    },
    {
     "data": {
      "text/plain": [
       "('正商阅读', 3322)"
      ]
     },
     "metadata": {},
     "output_type": "display_data"
    },
    {
     "data": {
      "text/plain": [
       "('新财迷', 3305)"
      ]
     },
     "metadata": {},
     "output_type": "display_data"
    },
    {
     "data": {
      "text/plain": [
       "('讲武堂', 3280)"
      ]
     },
     "metadata": {},
     "output_type": "display_data"
    },
    {
     "data": {
      "text/plain": [
       "('军武次位面', 3100)"
      ]
     },
     "metadata": {},
     "output_type": "display_data"
    },
    {
     "data": {
      "text/plain": [
       "('凤凰网', 3012)"
      ]
     },
     "metadata": {},
     "output_type": "display_data"
    },
    {
     "data": {
      "text/plain": [
       "('中国新闻周刊', 2991)"
      ]
     },
     "metadata": {},
     "output_type": "display_data"
    },
    {
     "data": {
      "text/plain": [
       "('凤凰网财经', 2970)"
      ]
     },
     "metadata": {},
     "output_type": "display_data"
    },
    {
     "data": {
      "text/plain": [
       "('正商参阅', 2805)"
      ]
     },
     "metadata": {},
     "output_type": "display_data"
    },
    {
     "data": {
      "text/plain": [
       "('中央纪委国家监委网站', 2773)"
      ]
     },
     "metadata": {},
     "output_type": "display_data"
    },
    {
     "data": {
      "text/plain": [
       "('国魂', 2761)"
      ]
     },
     "metadata": {},
     "output_type": "display_data"
    },
    {
     "data": {
      "text/plain": [
       "('CCTV4', 2597)"
      ]
     },
     "metadata": {},
     "output_type": "display_data"
    },
    {
     "data": {
      "text/plain": [
       "('铁血军事', 2566)"
      ]
     },
     "metadata": {},
     "output_type": "display_data"
    },
    {
     "data": {
      "text/plain": [
       "('瞭望智库', 2496)"
      ]
     },
     "metadata": {},
     "output_type": "display_data"
    },
    {
     "data": {
      "text/plain": [
       "('今日防务观察', 2479)"
      ]
     },
     "metadata": {},
     "output_type": "display_data"
    },
    {
     "data": {
      "text/plain": [
       "('财经要参', 2398)"
      ]
     },
     "metadata": {},
     "output_type": "display_data"
    },
    {
     "data": {
      "text/plain": [
       "('凤凰网军事频道', 2326)"
      ]
     },
     "metadata": {},
     "output_type": "display_data"
    },
    {
     "data": {
      "text/plain": [
       "('中国政府网', 2194)"
      ]
     },
     "metadata": {},
     "output_type": "display_data"
    },
    {
     "data": {
      "text/plain": [
       "('中央政法委长安剑', 2139)"
      ]
     },
     "metadata": {},
     "output_type": "display_data"
    },
    {
     "data": {
      "text/plain": [
       "('米尔军事', 2100)"
      ]
     },
     "metadata": {},
     "output_type": "display_data"
    },
    {
     "data": {
      "text/plain": [
       "('军武榜', 2011)"
      ]
     },
     "metadata": {},
     "output_type": "display_data"
    },
    {
     "data": {
      "text/plain": [
       "('局座召忠', 1798)"
      ]
     },
     "metadata": {},
     "output_type": "display_data"
    },
    {
     "data": {
      "text/plain": [
       "('学习小组', 640)"
      ]
     },
     "metadata": {},
     "output_type": "display_data"
    },
    {
     "data": {
      "text/plain": [
       "('侠客岛', 628)"
      ]
     },
     "metadata": {},
     "output_type": "display_data"
    },
    {
     "data": {
      "text/plain": [
       "('今日平说', 245)"
      ]
     },
     "metadata": {},
     "output_type": "display_data"
    }
   ],
   "source": [
    "for re in result.items():\n",
    "    display(re)"
   ]
  },
  {
   "cell_type": "code",
   "execution_count": 18,
   "metadata": {},
   "outputs": [
    {
     "data": {
      "text/plain": [
       "Index(['_id', 'account', 'time', 'author', 'official', 'license', 'forprofit',\n",
       "       'media', 'censor', 'title', 'content', 'url'],\n",
       "      dtype='object')"
      ]
     },
     "execution_count": 18,
     "metadata": {},
     "output_type": "execute_result"
    }
   ],
   "source": [
    "data.columns"
   ]
  },
  {
   "cell_type": "code",
   "execution_count": 39,
   "metadata": {},
   "outputs": [
    {
     "data": {
      "text/html": [
       "<div>\n",
       "<style scoped>\n",
       "    .dataframe tbody tr th:only-of-type {\n",
       "        vertical-align: middle;\n",
       "    }\n",
       "\n",
       "    .dataframe tbody tr th {\n",
       "        vertical-align: top;\n",
       "    }\n",
       "\n",
       "    .dataframe thead th {\n",
       "        text-align: right;\n",
       "    }\n",
       "</style>\n",
       "<table border=\"1\" class=\"dataframe\">\n",
       "  <thead>\n",
       "    <tr style=\"text-align: right;\">\n",
       "      <th></th>\n",
       "      <th>_id</th>\n",
       "      <th>account</th>\n",
       "      <th>time</th>\n",
       "      <th>author</th>\n",
       "      <th>official</th>\n",
       "      <th>license</th>\n",
       "      <th>forprofit</th>\n",
       "      <th>media</th>\n",
       "      <th>censor</th>\n",
       "      <th>title</th>\n",
       "      <th>content</th>\n",
       "      <th>url</th>\n",
       "    </tr>\n",
       "  </thead>\n",
       "  <tbody>\n",
       "    <tr>\n",
       "      <th>40</th>\n",
       "      <td>c4294871dae623161f003f17cef39409</td>\n",
       "      <td>观察者网</td>\n",
       "      <td>2019-10-01</td>\n",
       "      <td>原創</td>\n",
       "      <td>0</td>\n",
       "      <td>1</td>\n",
       "      <td>1</td>\n",
       "      <td>5.0</td>\n",
       "      <td>0</td>\n",
       "      <td>他们又一段独家画面首度公开</td>\n",
       "      <td>来源：央视新闻客户端在看的你正在变好看！</td>\n",
       "      <td>http://mp.weixin.qq.com/s?__biz=MjM5MjA4MjA4MA...</td>\n",
       "    </tr>\n",
       "    <tr>\n",
       "      <th>1108</th>\n",
       "      <td>a8e1d454cda8ded554fd052b92bf3d4a</td>\n",
       "      <td>观察者网</td>\n",
       "      <td>2019-09-25</td>\n",
       "      <td>原創</td>\n",
       "      <td>0</td>\n",
       "      <td>1</td>\n",
       "      <td>1</td>\n",
       "      <td>7.0</td>\n",
       "      <td>0</td>\n",
       "      <td>抓到\"内鬼\"？！</td>\n",
       "      <td>国泰航空接二连三发生客机氧气瓶疑似被自家员工排气事件。今日（24日）国泰发表声明，称根据调查...</td>\n",
       "      <td>http://mp.weixin.qq.com/s?__biz=MjM5MjA4MjA4MA...</td>\n",
       "    </tr>\n",
       "    <tr>\n",
       "      <th>1109</th>\n",
       "      <td>8b4ac0137e69514aeb812509ff15f383</td>\n",
       "      <td>观察者网</td>\n",
       "      <td>2019-09-24</td>\n",
       "      <td>原創</td>\n",
       "      <td>0</td>\n",
       "      <td>1</td>\n",
       "      <td>1</td>\n",
       "      <td>33.0</td>\n",
       "      <td>0</td>\n",
       "      <td>微信国旗头像刷屏，怎么回事？</td>\n",
       "      <td>#微信国旗头像#更直接登上微博热搜第一：微博知名微博程序猿发出“灵魂质问”…来源|观察者网 ...</td>\n",
       "      <td>http://mp.weixin.qq.com/s?__biz=MjM5MjA4MjA4MA...</td>\n",
       "    </tr>\n",
       "    <tr>\n",
       "      <th>1110</th>\n",
       "      <td>ff3532637fb04c04cb2bd4f44947ec92</td>\n",
       "      <td>观察者网</td>\n",
       "      <td>2019-09-24</td>\n",
       "      <td>原創</td>\n",
       "      <td>0</td>\n",
       "      <td>1</td>\n",
       "      <td>1</td>\n",
       "      <td>7.0</td>\n",
       "      <td>0</td>\n",
       "      <td>还有谁！</td>\n",
       "      <td>据中新网9月24日报道，2019年女排世界杯在当天继续进行，七连胜的中国女排迎战七连败的肯尼...</td>\n",
       "      <td>http://mp.weixin.qq.com/s?__biz=MjM5MjA4MjA4MA...</td>\n",
       "    </tr>\n",
       "    <tr>\n",
       "      <th>1885</th>\n",
       "      <td>9b2c4910bcfe7099d23a8497ca7e63d9</td>\n",
       "      <td>观察者网</td>\n",
       "      <td>2019-09-20</td>\n",
       "      <td>原創</td>\n",
       "      <td>0</td>\n",
       "      <td>1</td>\n",
       "      <td>1</td>\n",
       "      <td>6.0</td>\n",
       "      <td>0</td>\n",
       "      <td>新西兰总理访日，张口就是\"我国和中国…\"</td>\n",
       "      <td>审核|隆洋在看的你正在变好看！</td>\n",
       "      <td>http://mp.weixin.qq.com/s?__biz=MjM5MjA4MjA4MA...</td>\n",
       "    </tr>\n",
       "    <tr>\n",
       "      <th>1886</th>\n",
       "      <td>9daf35c8339158b325f8938cba3cee05</td>\n",
       "      <td>观察者网</td>\n",
       "      <td>2019-09-20</td>\n",
       "      <td>原創</td>\n",
       "      <td>0</td>\n",
       "      <td>1</td>\n",
       "      <td>1</td>\n",
       "      <td>4.0</td>\n",
       "      <td>0</td>\n",
       "      <td>外交部回应联邦快递飞行员被捕</td>\n",
       "      <td>审核|邱荔在看的你正在变好看！</td>\n",
       "      <td>http://mp.weixin.qq.com/s?__biz=MjM5MjA4MjA4MA...</td>\n",
       "    </tr>\n",
       "    <tr>\n",
       "      <th>1887</th>\n",
       "      <td>3c66b148d78470da219dad89cd808a80</td>\n",
       "      <td>观察者网</td>\n",
       "      <td>2019-09-20</td>\n",
       "      <td>原創</td>\n",
       "      <td>0</td>\n",
       "      <td>1</td>\n",
       "      <td>1</td>\n",
       "      <td>7.0</td>\n",
       "      <td>0</td>\n",
       "      <td>香港消防处：出了3个\"内鬼\"</td>\n",
       "      <td>（观察者网讯）\\n\\n\\n\\n审核|隆洋在看的你正在变好看！</td>\n",
       "      <td>http://mp.weixin.qq.com/s?__biz=MjM5MjA4MjA4MA...</td>\n",
       "    </tr>\n",
       "    <tr>\n",
       "      <th>1888</th>\n",
       "      <td>7e7ea7bd5431e822cb0d8f4bfad9c3be</td>\n",
       "      <td>观察者网</td>\n",
       "      <td>2019-09-20</td>\n",
       "      <td>原創</td>\n",
       "      <td>0</td>\n",
       "      <td>1</td>\n",
       "      <td>1</td>\n",
       "      <td>NaN</td>\n",
       "      <td>1</td>\n",
       "      <td>民警破坏军婚被判1年2个月</td>\n",
       "      <td>在看的你正在变好看！</td>\n",
       "      <td>http://mp.weixin.qq.com/s?__biz=MjM5MjA4MjA4MA...</td>\n",
       "    </tr>\n",
       "    <tr>\n",
       "      <th>1889</th>\n",
       "      <td>302549ec18b82e80c1b1e62b8c5623a2</td>\n",
       "      <td>观察者网</td>\n",
       "      <td>2019-09-20</td>\n",
       "      <td>张晨静</td>\n",
       "      <td>0</td>\n",
       "      <td>1</td>\n",
       "      <td>1</td>\n",
       "      <td>8.0</td>\n",
       "      <td>0</td>\n",
       "      <td>特鲁多刚道完歉，又被扒出多张“扮黑人”照</td>\n",
       "      <td>► 文 观察者网 张晨静责编|于杨审核|邱荔在看的你正在变好看！</td>\n",
       "      <td>http://mp.weixin.qq.com/s?__biz=MjM5MjA4MjA4MA...</td>\n",
       "    </tr>\n",
       "    <tr>\n",
       "      <th>1890</th>\n",
       "      <td>d8d9a731a3bd5f92f7d0fd5b8075320a</td>\n",
       "      <td>观察者网</td>\n",
       "      <td>2019-09-20</td>\n",
       "      <td>原創</td>\n",
       "      <td>0</td>\n",
       "      <td>1</td>\n",
       "      <td>1</td>\n",
       "      <td>9.0</td>\n",
       "      <td>0</td>\n",
       "      <td>\"跟某国领导人的承诺涉密\"…特朗普遭举报！</td>\n",
       "      <td>审核|隆洋在看的你正在变好看！</td>\n",
       "      <td>http://mp.weixin.qq.com/s?__biz=MjM5MjA4MjA4MA...</td>\n",
       "    </tr>\n",
       "  </tbody>\n",
       "</table>\n",
       "</div>"
      ],
      "text/plain": [
       "                                   _id account        time author  official  \\\n",
       "40    c4294871dae623161f003f17cef39409    观察者网  2019-10-01     原創         0   \n",
       "1108  a8e1d454cda8ded554fd052b92bf3d4a    观察者网  2019-09-25     原創         0   \n",
       "1109  8b4ac0137e69514aeb812509ff15f383    观察者网  2019-09-24     原創         0   \n",
       "1110  ff3532637fb04c04cb2bd4f44947ec92    观察者网  2019-09-24     原創         0   \n",
       "1885  9b2c4910bcfe7099d23a8497ca7e63d9    观察者网  2019-09-20     原創         0   \n",
       "1886  9daf35c8339158b325f8938cba3cee05    观察者网  2019-09-20     原創         0   \n",
       "1887  3c66b148d78470da219dad89cd808a80    观察者网  2019-09-20     原創         0   \n",
       "1888  7e7ea7bd5431e822cb0d8f4bfad9c3be    观察者网  2019-09-20     原創         0   \n",
       "1889  302549ec18b82e80c1b1e62b8c5623a2    观察者网  2019-09-20    张晨静         0   \n",
       "1890  d8d9a731a3bd5f92f7d0fd5b8075320a    观察者网  2019-09-20     原創         0   \n",
       "\n",
       "      license  forprofit  media  censor                  title  \\\n",
       "40          1          1    5.0       0          他们又一段独家画面首度公开   \n",
       "1108        1          1    7.0       0               抓到\"内鬼\"？！   \n",
       "1109        1          1   33.0       0         微信国旗头像刷屏，怎么回事？   \n",
       "1110        1          1    7.0       0                   还有谁！   \n",
       "1885        1          1    6.0       0   新西兰总理访日，张口就是\"我国和中国…\"   \n",
       "1886        1          1    4.0       0         外交部回应联邦快递飞行员被捕   \n",
       "1887        1          1    7.0       0         香港消防处：出了3个\"内鬼\"   \n",
       "1888        1          1    NaN       1          民警破坏军婚被判1年2个月   \n",
       "1889        1          1    8.0       0   特鲁多刚道完歉，又被扒出多张“扮黑人”照   \n",
       "1890        1          1    9.0       0  \"跟某国领导人的承诺涉密\"…特朗普遭举报！   \n",
       "\n",
       "                                                content  \\\n",
       "40                                 来源：央视新闻客户端在看的你正在变好看！   \n",
       "1108  国泰航空接二连三发生客机氧气瓶疑似被自家员工排气事件。今日（24日）国泰发表声明，称根据调查...   \n",
       "1109  #微信国旗头像#更直接登上微博热搜第一：微博知名微博程序猿发出“灵魂质问”…来源|观察者网 ...   \n",
       "1110  据中新网9月24日报道，2019年女排世界杯在当天继续进行，七连胜的中国女排迎战七连败的肯尼...   \n",
       "1885                                    审核|隆洋在看的你正在变好看！   \n",
       "1886                                    审核|邱荔在看的你正在变好看！   \n",
       "1887                     （观察者网讯）\\n\\n\\n\\n审核|隆洋在看的你正在变好看！   \n",
       "1888                                         在看的你正在变好看！   \n",
       "1889                   ► 文 观察者网 张晨静责编|于杨审核|邱荔在看的你正在变好看！   \n",
       "1890                                    审核|隆洋在看的你正在变好看！   \n",
       "\n",
       "                                                    url  \n",
       "40    http://mp.weixin.qq.com/s?__biz=MjM5MjA4MjA4MA...  \n",
       "1108  http://mp.weixin.qq.com/s?__biz=MjM5MjA4MjA4MA...  \n",
       "1109  http://mp.weixin.qq.com/s?__biz=MjM5MjA4MjA4MA...  \n",
       "1110  http://mp.weixin.qq.com/s?__biz=MjM5MjA4MjA4MA...  \n",
       "1885  http://mp.weixin.qq.com/s?__biz=MjM5MjA4MjA4MA...  \n",
       "1886  http://mp.weixin.qq.com/s?__biz=MjM5MjA4MjA4MA...  \n",
       "1887  http://mp.weixin.qq.com/s?__biz=MjM5MjA4MjA4MA...  \n",
       "1888  http://mp.weixin.qq.com/s?__biz=MjM5MjA4MjA4MA...  \n",
       "1889  http://mp.weixin.qq.com/s?__biz=MjM5MjA4MjA4MA...  \n",
       "1890  http://mp.weixin.qq.com/s?__biz=MjM5MjA4MjA4MA...  "
      ]
     },
     "execution_count": 39,
     "metadata": {},
     "output_type": "execute_result"
    }
   ],
   "source": [
    "data[data['account']=='观察者网'].head(10)"
   ]
  },
  {
   "cell_type": "code",
   "execution_count": 30,
   "metadata": {},
   "outputs": [],
   "source": [
    "content = data.head(5)[['content', 'url']]"
   ]
  },
  {
   "cell_type": "code",
   "execution_count": 35,
   "metadata": {},
   "outputs": [
    {
     "data": {
      "text/plain": [
       "'http://mp.weixin.qq.com/s?__biz=MzI0MjI0Nzc5Mg==&amp;mid=2653895541&amp;idx=2&amp;sn=182a806d8bf404bfd64f2a229ea5e4bd&amp;chksm=f2a4aa6ac5d3237c4efde13aea9fa5c49a5eaa0312b00063a682774b238c3fcab1066ded800b&amp;scene=38#wechat_redirect'"
      ]
     },
     "metadata": {},
     "output_type": "display_data"
    },
    {
     "data": {
      "text/plain": [
       "'▲外交部网站截图2019年2月27日深夜，巴基斯坦外长库雷希紧急给王毅国务委员兼外长打电话，通报巴印局势最新情况，希中方继续为缓和当前紧张局势发挥建设性作用。王毅对巴印紧张局势升级深表忧虑，向库雷希介绍了中方所做的劝和促谈工作，重申希望巴印双方保持克制，切实履行防止事态扩大的承诺。王毅同时强调，各国主权和领土完整应切实得到尊重，中方不愿看到有违国际关系准则的行为。▲资料图片：2018年11月2日，王毅会见巴基斯坦外长库雷希。（外交部网站）声明：本文转自“外交部网站”，在此致谢！还不知道这些事？快戳蓝字中美贸易摩擦曙光渐明，下一步中国该怎么办？没时间相处，来不及吵架，无数次被放鸽子，这样的感情你能接受吗？北京交通大学爆炸事故原因公布，12人被追责总书记慰问基层干部群众，为何第一站选择北京市公安局？公安机关扫黑成绩单：查处“保护伞”152人！中国新拳王被问，“你的力量从何而来？”回答振聋发聩美军舰通过台海 中国空军同日飞越巴士海峡远训小学生奖状印广告，别让老百姓再说：早干嘛去了！“退役军人被打”的虚假视频从何而来？细节曝光！长春爆炸案告破：现场死者为嫌疑人，身患癌症悲观厌世难以置信！监控拍下女童被拐全程，只用了60秒！中央纪委驻财政部纪检组原组长莫建成一审被判十四年'"
      ]
     },
     "metadata": {},
     "output_type": "display_data"
    }
   ],
   "source": [
    "display(content.iloc[1]['url'])\n",
    "display(content.iloc[1]['content'])"
   ]
  },
  {
   "cell_type": "code",
   "execution_count": 36,
   "metadata": {},
   "outputs": [
    {
     "data": {
      "text/plain": [
       "'http://mp.weixin.qq.com/s?__biz=MzI0MjI0Nzc5Mg==&amp;mid=2653896454&amp;idx=2&amp;sn=4accccbf4873986f8ec6cb6516e6b683&amp;chksm=f2a4ae19c5d3270fb164252620702d81aa54ce5dcfc3561983d40c570cb57d058b4a299a3efa&amp;scene=38#wechat_redirect'"
      ]
     },
     "metadata": {},
     "output_type": "display_data"
    },
    {
     "data": {
      "text/plain": [
       "'导语长安君（ID:changan-j）：近日，一位东北大哥改签火车票，本应拨打12306，却误拨了检察服务热线12309。最终他改签成功了吗？你可能猜到了开头，却没猜到这个结尾......东北大哥喂，我的火车票怎么改签不了啊！？您好，您现在拨打的是检察服务热线12309。简小帅东北大哥对对对，赶快派人检查一下订票系统，大过年的，多少人等着买火车票呢。抱歉，我想您需要拨打的是铁路统一订票电话12306热线，我这里是检察机关的12309热线。简小帅东北大哥的车票成功改签了吗？戳视频，看意想不到的结局☟☟☟声明：本文转自最高人民检察院，在此致谢！还不知道这些事？快戳蓝字百年未有之大变局中，习总书记强调这两个字有何深意？特殊节点《求是》杂志披露习近平内部重要讲话，该作何理解？中央政法工作会议，郭声琨书记讲了什么？陈一新：调查研究应常做常新常效，中央政法委启动新一轮“十大课题”调研部分字改拼音，教育部“还没定”，你怎么看？检察院出了什么样的“建议”？给企业也给政府，超八成都被采纳！整治“流量黑产”，别只盯着蔡徐坤那点事！中美关系、台湾问题、学历造假……政协首场发布会全是干货！更多抗癌药进入医保！首场“部长通道”采访，先睹为快揭秘！最高检“十大护法”的各路武林绝学最新改革纲要来了！未来5年，全国法院将给百姓带来哪些司改“红利”？联合调查组结论公布！“凯奇莱案”卷宗丢失等问题水落石出【一】'"
      ]
     },
     "metadata": {},
     "output_type": "display_data"
    }
   ],
   "source": [
    "display(content.iloc[2]['url'])\n",
    "display(content.iloc[2]['content'])"
   ]
  },
  {
   "cell_type": "code",
   "execution_count": 147,
   "metadata": {},
   "outputs": [],
   "source": [
    "from collections import defaultdict"
   ]
  },
  {
   "cell_type": "code",
   "execution_count": 152,
   "metadata": {},
   "outputs": [
    {
     "data": {
      "text/plain": [
       "defaultdict(dict,\n",
       "            {'观察者网': {},\n",
       "             '澎湃新闻': {},\n",
       "             '人民日报': {},\n",
       "             '环球网': {},\n",
       "             '参考消息': {},\n",
       "             '中国经济网': {},\n",
       "             '环球时报': {},\n",
       "             '新华社': {},\n",
       "             '中国搜索': {},\n",
       "             '央视新闻': {},\n",
       "             '人民网': {},\n",
       "             '中国青年报': {},\n",
       "             '新华网': {},\n",
       "             '南方都市报': {},\n",
       "             '中国新闻网': {},\n",
       "             '央视财经': {},\n",
       "             '央视网': {},\n",
       "             '共青团中央': {},\n",
       "             '半月谈': {},\n",
       "             '界面新闻': {},\n",
       "             '占豪': {},\n",
       "             '中国普法': {},\n",
       "             '共产党员': {},\n",
       "             '正商阅读': {},\n",
       "             '新财迷': {},\n",
       "             '讲武堂': {},\n",
       "             '军武次位面': {},\n",
       "             '凤凰网': {},\n",
       "             '中国新闻周刊': {},\n",
       "             '凤凰网财经': {},\n",
       "             '正商参阅': {},\n",
       "             '中央纪委国家监委网站': {},\n",
       "             '国魂': {},\n",
       "             'CCTV4': {},\n",
       "             '铁血军事': {},\n",
       "             '瞭望智库': {},\n",
       "             '今日防务观察': {},\n",
       "             '财经要参': {},\n",
       "             '凤凰网军事频道': {},\n",
       "             '中国政府网': {},\n",
       "             '中央政法委长安剑': {},\n",
       "             '米尔军事': {},\n",
       "             '军武榜': {},\n",
       "             '局座召忠': {},\n",
       "             '学习小组': {},\n",
       "             '侠客岛': {},\n",
       "             '今日平说': {}})"
      ]
     },
     "metadata": {},
     "output_type": "display_data"
    }
   ],
   "source": [
    "#new_ads_removal = dict.fromkeys(result.keys(), {})\n",
    "new_ads_removal = defaultdict(dict)\n",
    "new_ads_removal.update((k, {}) for k in result.keys())\n",
    "display(new_ads_removal)"
   ]
  },
  {
   "cell_type": "markdown",
   "metadata": {},
   "source": [
    "## 观察者网"
   ]
  },
  {
   "cell_type": "code",
   "execution_count": 182,
   "metadata": {},
   "outputs": [],
   "source": [
    "obs = data[data['account']=='观察者网'][['url','content']].head(1)\n",
    "#display(obs)"
   ]
  },
  {
   "cell_type": "code",
   "execution_count": 153,
   "metadata": {},
   "outputs": [
    {
     "data": {
      "text/plain": [
       "{'front': ['你正在变好看！'], 'end': ['观察者网 综合', '观察者网综合']}"
      ]
     },
     "metadata": {},
     "output_type": "display_data"
    }
   ],
   "source": [
    "new_ads_removal['观察者网']['front'] = ['你正在变好看！']\n",
    "new_ads_removal['观察者网']['end'] = ['观察者网 综合']\n",
    "new_ads_removal['观察者网']['end'].append('观察者网综合')\n",
    "display(new_ads_removal['观察者网'])"
   ]
  },
  {
   "cell_type": "markdown",
   "metadata": {},
   "source": [
    "## 澎湃新闻"
   ]
  },
  {
   "cell_type": "code",
   "execution_count": 123,
   "metadata": {},
   "outputs": [
    {
     "data": {
      "text/plain": [
       "(Delayed('int-38586c6a-d6e0-4acc-9bc6-eb6a7a4b246d'), 12)"
      ]
     },
     "execution_count": 123,
     "metadata": {},
     "output_type": "execute_result"
    }
   ],
   "source": [
    "data[data['account']=='澎湃新闻'].shape"
   ]
  },
  {
   "cell_type": "code",
   "execution_count": 178,
   "metadata": {},
   "outputs": [],
   "source": [
    "obs = data[data['account']=='澎湃新闻'][['url','content']].head(1)\n",
    "#display(obs)"
   ]
  },
  {
   "cell_type": "code",
   "execution_count": 154,
   "metadata": {},
   "outputs": [
    {
     "data": {
      "text/plain": [
       "{'end': ['本期编辑']}"
      ]
     },
     "metadata": {},
     "output_type": "display_data"
    }
   ],
   "source": [
    "new_ads_removal['澎湃新闻']['end'] = ['本期编辑']\n",
    "display(new_ads_removal['澎湃新闻'])"
   ]
  },
  {
   "cell_type": "markdown",
   "metadata": {},
   "source": [
    "## 人民日报\n"
   ]
  },
  {
   "cell_type": "code",
   "execution_count": 161,
   "metadata": {},
   "outputs": [],
   "source": [
    "#obs = data[data['account']=='人民日报'][['url','content']].head(20)\n",
    "#display(obs)"
   ]
  },
  {
   "cell_type": "code",
   "execution_count": 205,
   "metadata": {},
   "outputs": [
    {
     "data": {
      "text/plain": [
       "{'end': ['来源：']}"
      ]
     },
     "metadata": {},
     "output_type": "display_data"
    }
   ],
   "source": [
    "new_ads_removal['人民日报']['end'] = ['来源：']\n",
    "display(new_ads_removal['人民日报'])\n"
   ]
  },
  {
   "cell_type": "markdown",
   "metadata": {},
   "source": [
    "## 4 - 环球网"
   ]
  },
  {
   "cell_type": "code",
   "execution_count": 169,
   "metadata": {},
   "outputs": [],
   "source": [
    "obs = data[data['account']=='环球网'][['url','content']].head(20)\n"
   ]
  },
  {
   "cell_type": "code",
   "execution_count": 170,
   "metadata": {},
   "outputs": [
    {
     "data": {
      "text/plain": [
       "{'end': ['来源：']}"
      ]
     },
     "metadata": {},
     "output_type": "display_data"
    }
   ],
   "source": [
    "new_ads_removal['环球网']['end'] = ['来源：']\n",
    "display(new_ads_removal['环球网'])\n"
   ]
  },
  {
   "cell_type": "markdown",
   "metadata": {},
   "source": [
    "## 5 - 参考消息"
   ]
  },
  {
   "cell_type": "code",
   "execution_count": 177,
   "metadata": {},
   "outputs": [],
   "source": [
    "obs = data[data['account']=='参考消息'][['url','content']].head(20)\n"
   ]
  },
  {
   "cell_type": "code",
   "execution_count": 176,
   "metadata": {},
   "outputs": [
    {
     "data": {
      "text/plain": [
       "{'end': ['本期推送', '来源', '文章编辑']}"
      ]
     },
     "metadata": {},
     "output_type": "display_data"
    }
   ],
   "source": [
    "new_ads_removal['参考消息']['end'] = ['本期推送']\n",
    "new_ads_removal['参考消息']['end'].append('来源')\n",
    "new_ads_removal['参考消息']['end'].append('文章编辑')\n",
    "display(new_ads_removal['参考消息'])\n"
   ]
  },
  {
   "cell_type": "markdown",
   "metadata": {},
   "source": [
    "## 6 - 中国经济网"
   ]
  },
  {
   "cell_type": "code",
   "execution_count": 180,
   "metadata": {},
   "outputs": [],
   "source": [
    "obs = data[data['account']=='中国经济网'][['url','content']].head(20)\n",
    "#display(obs)"
   ]
  },
  {
   "cell_type": "code",
   "execution_count": 181,
   "metadata": {},
   "outputs": [
    {
     "data": {
      "text/plain": [
       "{'end': ['来源']}"
      ]
     },
     "metadata": {},
     "output_type": "display_data"
    }
   ],
   "source": [
    "new_ads_removal['中国经济网']['end'] = ['来源']\n",
    "display(new_ads_removal['中国经济网'])\n"
   ]
  },
  {
   "cell_type": "markdown",
   "metadata": {},
   "source": [
    "## 7 - 环球时报"
   ]
  },
  {
   "cell_type": "code",
   "execution_count": 199,
   "metadata": {},
   "outputs": [],
   "source": [
    "global_news = data[data['account']=='环球时报'][['url','content']].head(20)\n",
    "#display(global_news)"
   ]
  },
  {
   "cell_type": "code",
   "execution_count": 198,
   "metadata": {},
   "outputs": [
    {
     "data": {
      "text/plain": [
       "{'end': ['来源', '了解《环球时报']}"
      ]
     },
     "metadata": {},
     "output_type": "display_data"
    }
   ],
   "source": [
    "new_ads_removal['环球时报']['end'] = ['来源']\n",
    "new_ads_removal['环球时报']['end'].append('了解《环球时报')\n",
    "display(new_ads_removal['环球时报'])"
   ]
  },
  {
   "cell_type": "markdown",
   "metadata": {},
   "source": [
    "## 8 - 新华社"
   ]
  },
  {
   "cell_type": "code",
   "execution_count": 201,
   "metadata": {},
   "outputs": [],
   "source": [
    "global_news = data[data['account']=='新华社'][['url','content']].head(10)\n",
    "#display(global_news)"
   ]
  },
  {
   "cell_type": "code",
   "execution_count": 202,
   "metadata": {},
   "outputs": [
    {
     "data": {
      "text/plain": [
       "{'end': ['来源：'], 'internal': ['图片来源：']}"
      ]
     },
     "metadata": {},
     "output_type": "display_data"
    }
   ],
   "source": [
    "new_ads_removal['新华社']['end'] = ['来源：']\n",
    "new_ads_removal['新华社']['internal'] = ['图片来源：'] # Remove internal first\n",
    "display(new_ads_removal['新华社'])"
   ]
  },
  {
   "cell_type": "markdown",
   "metadata": {},
   "source": [
    "## 9 - 中国搜索"
   ]
  },
  {
   "cell_type": "code",
   "execution_count": 204,
   "metadata": {},
   "outputs": [],
   "source": [
    "global_news = data[data['account']=='中国搜索'][['url','content']].head(15)\n"
   ]
  },
  {
   "cell_type": "code",
   "execution_count": 206,
   "metadata": {},
   "outputs": [
    {
     "data": {
      "text/plain": [
       "{'end': ['来源', '特别推荐']}"
      ]
     },
     "metadata": {},
     "output_type": "display_data"
    }
   ],
   "source": [
    "new_ads_removal['中国搜索']['end'] = ['来源']\n",
    "new_ads_removal['中国搜索']['end'].append('特别推荐')\n",
    "display(new_ads_removal['中国搜索'])"
   ]
  },
  {
   "cell_type": "code",
   "execution_count": null,
   "metadata": {},
   "outputs": [],
   "source": []
  },
  {
   "cell_type": "markdown",
   "metadata": {},
   "source": [
    "## 10 - 央视新闻"
   ]
  },
  {
   "cell_type": "code",
   "execution_count": 208,
   "metadata": {},
   "outputs": [],
   "source": [
    "obs = data[data['account']=='央视新闻'][['url','content']].head(15)\n",
    "#display(obs)"
   ]
  },
  {
   "cell_type": "code",
   "execution_count": 209,
   "metadata": {},
   "outputs": [
    {
     "data": {
      "text/plain": [
       "{'end': ['本文来源', '更多新闻']}"
      ]
     },
     "metadata": {},
     "output_type": "display_data"
    }
   ],
   "source": [
    "new_ads_removal['央视新闻']['end'] = ['本文来源']\n",
    "new_ads_removal['央视新闻']['end'].append('更多新闻')\n",
    "display(new_ads_removal['央视新闻'])"
   ]
  },
  {
   "cell_type": "markdown",
   "metadata": {},
   "source": [
    "## 11 - 人民网"
   ]
  },
  {
   "cell_type": "code",
   "execution_count": 211,
   "metadata": {},
   "outputs": [],
   "source": [
    "obs = data[data['account']=='人民网'][['url','content']].head(15)\n",
    "#display(obs)"
   ]
  },
  {
   "cell_type": "code",
   "execution_count": 212,
   "metadata": {},
   "outputs": [
    {
     "data": {
      "text/plain": [
       "{'end': ['来源：', '责编：', '大家都在看']}"
      ]
     },
     "metadata": {},
     "output_type": "display_data"
    }
   ],
   "source": [
    "new_ads_removal['人民网']['end'] = ['来源：']\n",
    "new_ads_removal['人民网']['end'].append('责编：')\n",
    "new_ads_removal['人民网']['end'].append('大家都在看')\n",
    "display(new_ads_removal['人民网'])"
   ]
  },
  {
   "cell_type": "markdown",
   "metadata": {},
   "source": [
    "## 切詞POS修正\n",
    "\n",
    "\n",
    "- 將資料加入詞性\n",
    "- 直接刪除 - do this"
   ]
  },
  {
   "cell_type": "code",
   "execution_count": 213,
   "metadata": {},
   "outputs": [
    {
     "data": {
      "text/plain": [
       "defaultdict(dict,\n",
       "            {'观察者网': {'front': ['你正在变好看！'], 'end': ['观察者网 综合', '观察者网综合']},\n",
       "             '澎湃新闻': {'end': ['本期编辑']},\n",
       "             '人民日报': {'end': ['来源：']},\n",
       "             '环球网': {'end': ['来源：']},\n",
       "             '参考消息': {'end': ['本期推送', '来源', '文章编辑']},\n",
       "             '中国经济网': {'end': ['来源']},\n",
       "             '环球时报': {'end': ['来源', '了解《环球时报']},\n",
       "             '新华社': {'end': ['来源：'], 'internal': ['图片来源：']},\n",
       "             '中国搜索': {'end': ['来源', '特别推荐']},\n",
       "             '央视新闻': {'end': ['本文来源', '更多新闻']},\n",
       "             '人民网': {'end': ['来源：', '责编：', '大家都在看']},\n",
       "             '中国青年报': {},\n",
       "             '新华网': {},\n",
       "             '南方都市报': {},\n",
       "             '中国新闻网': {},\n",
       "             '央视财经': {},\n",
       "             '央视网': {},\n",
       "             '共青团中央': {},\n",
       "             '半月谈': {},\n",
       "             '界面新闻': {},\n",
       "             '占豪': {},\n",
       "             '中国普法': {},\n",
       "             '共产党员': {},\n",
       "             '正商阅读': {},\n",
       "             '新财迷': {},\n",
       "             '讲武堂': {},\n",
       "             '军武次位面': {},\n",
       "             '凤凰网': {},\n",
       "             '中国新闻周刊': {},\n",
       "             '凤凰网财经': {},\n",
       "             '正商参阅': {},\n",
       "             '中央纪委国家监委网站': {},\n",
       "             '国魂': {},\n",
       "             'CCTV4': {},\n",
       "             '铁血军事': {},\n",
       "             '瞭望智库': {},\n",
       "             '今日防务观察': {},\n",
       "             '财经要参': {},\n",
       "             '凤凰网军事频道': {},\n",
       "             '中国政府网': {},\n",
       "             '中央政法委长安剑': {},\n",
       "             '米尔军事': {},\n",
       "             '军武榜': {},\n",
       "             '局座召忠': {},\n",
       "             '学习小组': {},\n",
       "             '侠客岛': {},\n",
       "             '今日平说': {}})"
      ]
     },
     "metadata": {},
     "output_type": "display_data"
    }
   ],
   "source": [
    "display(new_ads_removal)"
   ]
  },
  {
   "cell_type": "code",
   "execution_count": null,
   "metadata": {},
   "outputs": [],
   "source": []
  }
 ],
 "metadata": {
  "kernelspec": {
   "display_name": "Python 3",
   "language": "python",
   "name": "python3"
  },
  "language_info": {
   "codemirror_mode": {
    "name": "ipython",
    "version": 3
   },
   "file_extension": ".py",
   "mimetype": "text/x-python",
   "name": "python",
   "nbconvert_exporter": "python",
   "pygments_lexer": "ipython3",
   "version": "3.7.5"
  }
 },
 "nbformat": 4,
 "nbformat_minor": 4
}

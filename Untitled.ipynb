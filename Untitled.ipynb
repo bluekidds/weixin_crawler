{
 "cells": [
  {
   "cell_type": "code",
   "execution_count": 37,
   "metadata": {},
   "outputs": [],
   "source": [
    "from utility.DBUtility import DBUtility\n",
    "from datetime import date, timedelta, datetime"
   ]
  },
  {
   "cell_type": "code",
   "execution_count": 3,
   "metadata": {},
   "outputs": [],
   "source": [
    "dbutils = DBUtility()\n"
   ]
  },
  {
   "cell_type": "code",
   "execution_count": 47,
   "metadata": {},
   "outputs": [],
   "source": [
    "\n",
    "start = datetime(2019, 10, 1)\n",
    "end = datetime(2019, 10, 5)"
   ]
  },
  {
   "cell_type": "code",
   "execution_count": 40,
   "metadata": {},
   "outputs": [
    {
     "data": {
      "text/plain": [
       "datetime.datetime(2019, 10, 1, 0, 0)"
      ]
     },
     "metadata": {},
     "output_type": "display_data"
    }
   ],
   "source": [
    "display(start)"
   ]
  },
  {
   "cell_type": "code",
   "execution_count": 41,
   "metadata": {},
   "outputs": [],
   "source": [
    "start = date(2019, 10, 1)\n",
    "end=date.today()"
   ]
  },
  {
   "cell_type": "code",
   "execution_count": 48,
   "metadata": {},
   "outputs": [
    {
     "data": {
      "text/plain": [
       "1541"
      ]
     },
     "metadata": {},
     "output_type": "display_data"
    }
   ],
   "source": [
    "articles = dbutils.GetArticles({#\"time\": str(start), \"state\": \"cn\"}, \n",
    "                                \"time\": {'$gte':str(start),'$lt':str(end)}, \"state\": \"cn\"}, \n",
    "                                       [\"_id\", \"content\", \"segs\", \"author\", \"account\", \n",
    "                                        \"time\", \"official\", \"license\", \"forprofit\"])\n",
    "\n",
    "display(len(articles))"
   ]
  },
  {
   "cell_type": "code",
   "execution_count": 5,
   "metadata": {},
   "outputs": [],
   "source": [
    "wanted_word = \"香港\""
   ]
  },
  {
   "cell_type": "code",
   "execution_count": 8,
   "metadata": {},
   "outputs": [
    {
     "name": "stdout",
     "output_type": "stream",
     "text": [
      "72\n"
     ]
    }
   ],
   "source": [
    "#get_sentiment(start, end, wanted_word, dbutils, True)\n",
    "\n",
    "# Load Data\n",
    "\n",
    "days = (end - start).days\n",
    "\n",
    "print(days)"
   ]
  },
  {
   "cell_type": "code",
   "execution_count": 15,
   "metadata": {},
   "outputs": [],
   "source": [
    "now = start + timedelta(1)\n",
    "all_articles = dbutils.GetArticles({\"time\": str(now), \"state\": \"cn\"}, \n",
    "                                   [\"_id\", \"content\", \"segs\", \"author\", \n",
    "                                    \"account\", \"time\", \"official\", \"license\", \"forprofit\"])\n"
   ]
  },
  {
   "cell_type": "code",
   "execution_count": 11,
   "metadata": {},
   "outputs": [
    {
     "data": {
      "text/html": [
       "<div>\n",
       "<style scoped>\n",
       "    .dataframe tbody tr th:only-of-type {\n",
       "        vertical-align: middle;\n",
       "    }\n",
       "\n",
       "    .dataframe tbody tr th {\n",
       "        vertical-align: top;\n",
       "    }\n",
       "\n",
       "    .dataframe thead th {\n",
       "        text-align: right;\n",
       "    }\n",
       "</style>\n",
       "<table border=\"1\" class=\"dataframe\">\n",
       "  <thead>\n",
       "    <tr style=\"text-align: right;\">\n",
       "      <th></th>\n",
       "      <th>_id</th>\n",
       "      <th>account</th>\n",
       "      <th>author</th>\n",
       "      <th>content</th>\n",
       "      <th>forprofit</th>\n",
       "      <th>license</th>\n",
       "      <th>official</th>\n",
       "      <th>segs</th>\n",
       "      <th>time</th>\n",
       "    </tr>\n",
       "  </thead>\n",
       "  <tbody>\n",
       "    <tr>\n",
       "      <th>0</th>\n",
       "      <td>9517e803a99708424f8589530e16f0fe</td>\n",
       "      <td>央视财经</td>\n",
       "      <td>饭小二</td>\n",
       "      <td>两道毛血旺我们一一为大家介绍！经典版毛血旺 经典版毛血旺的食材与做法 改良版毛血旺为了让毛血...</td>\n",
       "      <td>0</td>\n",
       "      <td>0</td>\n",
       "      <td>1</td>\n",
       "      <td>[两道, 毛血旺, 为大家, 介绍, 经典版, 毛血旺,  , 经典版, 毛血旺, 食材, ...</td>\n",
       "      <td>2019-10-02</td>\n",
       "    </tr>\n",
       "    <tr>\n",
       "      <th>1</th>\n",
       "      <td>fff76833eff3b2511cef445476dfa8c2</td>\n",
       "      <td>新财迷</td>\n",
       "      <td>原創</td>\n",
       "      <td>热文点击挪威好样的！华为5G绝对不会让人失望！中国突然怎么做，日企如临寒冬！苹果能挽救大势吗？</td>\n",
       "      <td>1</td>\n",
       "      <td>0</td>\n",
       "      <td>0</td>\n",
       "      <td>[热文, 点击, 挪威, 好样的, 华为, 5G, 绝对不会, 让人失望, 中国, 怎么做,...</td>\n",
       "      <td>2019-10-02</td>\n",
       "    </tr>\n",
       "    <tr>\n",
       "      <th>2</th>\n",
       "      <td>4d27643a95b80c709c23fa9da0578475</td>\n",
       "      <td>新财迷</td>\n",
       "      <td>原創</td>\n",
       "      <td>热文点击挪威好样的！华为5G绝对不会让人失望！中国突然怎么做，日企如临寒冬！苹果能挽救大势吗？</td>\n",
       "      <td>1</td>\n",
       "      <td>0</td>\n",
       "      <td>0</td>\n",
       "      <td>[热文, 点击, 挪威, 好样的, 华为, 5G, 绝对不会, 让人失望, 中国, 怎么做,...</td>\n",
       "      <td>2019-10-02</td>\n",
       "    </tr>\n",
       "    <tr>\n",
       "      <th>3</th>\n",
       "      <td>15e9b3e87b80ab31a0adff23a73ddce5</td>\n",
       "      <td>新财迷</td>\n",
       "      <td>喃语</td>\n",
       "      <td>热文点击挪威好样的！华为5G绝对不会让人失望！中国突然怎么做，日企如临寒冬！苹果能挽救大势吗？</td>\n",
       "      <td>1</td>\n",
       "      <td>0</td>\n",
       "      <td>0</td>\n",
       "      <td>[热文, 点击, 挪威, 好样的, 华为, 5G, 绝对不会, 让人失望, 中国, 怎么做,...</td>\n",
       "      <td>2019-10-02</td>\n",
       "    </tr>\n",
       "    <tr>\n",
       "      <th>4</th>\n",
       "      <td>dd37e59b4ca0f7018b9f98db81bdbae8</td>\n",
       "      <td>铁血军事</td>\n",
       "      <td>原創</td>\n",
       "      <td>专栏 | 铁马小说这是一个精品军事、历史小说的阅读平台。金戈铁马跃纸上，刀光剑影入梦来。01...</td>\n",
       "      <td>1</td>\n",
       "      <td>0</td>\n",
       "      <td>0</td>\n",
       "      <td>[专栏, 铁马, 小说, 这是一个, 精品, 军事, 历史小说, 阅读, 平台, 金戈铁马,...</td>\n",
       "      <td>2019-10-02</td>\n",
       "    </tr>\n",
       "  </tbody>\n",
       "</table>\n",
       "</div>"
      ],
      "text/plain": [
       "                                _id account author  \\\n",
       "0  9517e803a99708424f8589530e16f0fe    央视财经    饭小二   \n",
       "1  fff76833eff3b2511cef445476dfa8c2     新财迷     原創   \n",
       "2  4d27643a95b80c709c23fa9da0578475     新财迷     原創   \n",
       "3  15e9b3e87b80ab31a0adff23a73ddce5     新财迷     喃语   \n",
       "4  dd37e59b4ca0f7018b9f98db81bdbae8    铁血军事     原創   \n",
       "\n",
       "                                             content forprofit license  \\\n",
       "0  两道毛血旺我们一一为大家介绍！经典版毛血旺 经典版毛血旺的食材与做法 改良版毛血旺为了让毛血...         0       0   \n",
       "1    热文点击挪威好样的！华为5G绝对不会让人失望！中国突然怎么做，日企如临寒冬！苹果能挽救大势吗？         1       0   \n",
       "2    热文点击挪威好样的！华为5G绝对不会让人失望！中国突然怎么做，日企如临寒冬！苹果能挽救大势吗？         1       0   \n",
       "3    热文点击挪威好样的！华为5G绝对不会让人失望！中国突然怎么做，日企如临寒冬！苹果能挽救大势吗？         1       0   \n",
       "4  专栏 | 铁马小说这是一个精品军事、历史小说的阅读平台。金戈铁马跃纸上，刀光剑影入梦来。01...         1       0   \n",
       "\n",
       "  official                                               segs        time  \n",
       "0        1  [两道, 毛血旺, 为大家, 介绍, 经典版, 毛血旺,  , 经典版, 毛血旺, 食材, ...  2019-10-02  \n",
       "1        0  [热文, 点击, 挪威, 好样的, 华为, 5G, 绝对不会, 让人失望, 中国, 怎么做,...  2019-10-02  \n",
       "2        0  [热文, 点击, 挪威, 好样的, 华为, 5G, 绝对不会, 让人失望, 中国, 怎么做,...  2019-10-02  \n",
       "3        0  [热文, 点击, 挪威, 好样的, 华为, 5G, 绝对不会, 让人失望, 中国, 怎么做,...  2019-10-02  \n",
       "4        0  [专栏, 铁马, 小说, 这是一个, 精品, 军事, 历史小说, 阅读, 平台, 金戈铁马,...  2019-10-02  "
      ]
     },
     "execution_count": 11,
     "metadata": {},
     "output_type": "execute_result"
    }
   ],
   "source": [
    "pd.DataFrame(all_articles).head()"
   ]
  },
  {
   "cell_type": "code",
   "execution_count": 16,
   "metadata": {},
   "outputs": [
    {
     "data": {
      "text/plain": [
       "392"
      ]
     },
     "execution_count": 16,
     "metadata": {},
     "output_type": "execute_result"
    }
   ],
   "source": [
    "len(all_articles)"
   ]
  },
  {
   "cell_type": "code",
   "execution_count": 23,
   "metadata": {},
   "outputs": [
    {
     "data": {
      "text/plain": [
       "(0, 0)"
      ]
     },
     "metadata": {},
     "output_type": "display_data"
    }
   ],
   "source": [
    "df = pd.DataFrame(all_articles)\n",
    "\n",
    "wanted_word = \"香港\"\n",
    "\n",
    "all_articles_df = pd.DataFrame(list())\n",
    "display(all_articles_df.shape)"
   ]
  },
  {
   "cell_type": "code",
   "execution_count": 25,
   "metadata": {},
   "outputs": [
    {
     "data": {
      "text/plain": [
       "Index(['_id', 'account', 'author', 'content', 'forprofit', 'license',\n",
       "       'official', 'segs', 'time'],\n",
       "      dtype='object')"
      ]
     },
     "metadata": {},
     "output_type": "display_data"
    }
   ],
   "source": [
    "df = pd.DataFrame(all_articles)\n",
    "\n",
    "display(df.columns)"
   ]
  },
  {
   "cell_type": "code",
   "execution_count": 27,
   "metadata": {},
   "outputs": [
    {
     "data": {
      "text/plain": [
       "(105, 9)"
      ]
     },
     "metadata": {},
     "output_type": "display_data"
    }
   ],
   "source": [
    "all_articles_df = all_articles_df.append(df[df['content'].str.contains(wanted_word)])\n",
    "display(all_articles_df.shape)\n",
    "#display(all_articles_df.head())"
   ]
  },
  {
   "cell_type": "markdown",
   "metadata": {},
   "source": [
    "## Fix plot to daily"
   ]
  },
  {
   "cell_type": "code",
   "execution_count": null,
   "metadata": {},
   "outputs": [],
   "source": [
    "parser.add_argument(\"--start\", help=\"start date: yyyy-mm-dd\", dest=\"start\", required=True)\n",
    "parser.add_argument(\"--end\", help=\"end date: yyyy-mm-dd\", dest=\"end\", required=True)\n",
    "parser.add_argument(\"--data\", help=\"Data Path\", dest=\"data\", required=True)\n"
   ]
  },
  {
   "cell_type": "code",
   "execution_count": 62,
   "metadata": {},
   "outputs": [],
   "source": [
    "start = '2019-10-01'\n",
    "end = '2019-12-03'"
   ]
  },
  {
   "cell_type": "code",
   "execution_count": 63,
   "metadata": {},
   "outputs": [],
   "source": [
    "data = '~/Downloads/Data.csv'"
   ]
  },
  {
   "cell_type": "code",
   "execution_count": 64,
   "metadata": {},
   "outputs": [
    {
     "data": {
      "text/html": [
       "<div>\n",
       "<style scoped>\n",
       "    .dataframe tbody tr th:only-of-type {\n",
       "        vertical-align: middle;\n",
       "    }\n",
       "\n",
       "    .dataframe tbody tr th {\n",
       "        vertical-align: top;\n",
       "    }\n",
       "\n",
       "    .dataframe thead th {\n",
       "        text-align: right;\n",
       "    }\n",
       "</style>\n",
       "<table border=\"1\" class=\"dataframe\">\n",
       "  <thead>\n",
       "    <tr style=\"text-align: right;\">\n",
       "      <th></th>\n",
       "      <th>Unnamed: 0</th>\n",
       "      <th>_id</th>\n",
       "      <th>account</th>\n",
       "      <th>author</th>\n",
       "      <th>censor</th>\n",
       "      <th>date</th>\n",
       "      <th>forprofit</th>\n",
       "      <th>license</th>\n",
       "      <th>official</th>\n",
       "      <th>segs</th>\n",
       "      <th>title</th>\n",
       "    </tr>\n",
       "  </thead>\n",
       "  <tbody>\n",
       "    <tr>\n",
       "      <th>0</th>\n",
       "      <td>0</td>\n",
       "      <td>8fe17988058f6089955c4928b60bc47c</td>\n",
       "      <td>新财迷</td>\n",
       "      <td>原創</td>\n",
       "      <td>0</td>\n",
       "      <td>2019-10-03</td>\n",
       "      <td>1</td>\n",
       "      <td>0</td>\n",
       "      <td>0</td>\n",
       "      <td>['热文', '点击', '香港', '风雨同行', '共享', '荣光', '南海', '...</td>\n",
       "      <td>70载沉淀，中国人最关切的这四个方面的惊变是……</td>\n",
       "    </tr>\n",
       "    <tr>\n",
       "      <th>1</th>\n",
       "      <td>1</td>\n",
       "      <td>ed1cad5992993fa02ae4781e163189d9</td>\n",
       "      <td>央视新闻</td>\n",
       "      <td>原創</td>\n",
       "      <td>0</td>\n",
       "      <td>2019-10-03</td>\n",
       "      <td>0</td>\n",
       "      <td>0</td>\n",
       "      <td>1</td>\n",
       "      <td>['今天是', '10', '月', '日', '有一期', '主播', '说', '联播'...</td>\n",
       "      <td>主播说联播丨海霞见到了她力挺的香港警员，还精心准备了一份礼物......</td>\n",
       "    </tr>\n",
       "    <tr>\n",
       "      <th>2</th>\n",
       "      <td>2</td>\n",
       "      <td>d1b9cb1e894aefe69b512d331df001ba</td>\n",
       "      <td>央视网</td>\n",
       "      <td>祝新宇</td>\n",
       "      <td>0</td>\n",
       "      <td>2019-10-03</td>\n",
       "      <td>0</td>\n",
       "      <td>1</td>\n",
       "      <td>1</td>\n",
       "      <td>['国庆', '群众游行', '方阵', '中', '五位', '领袖', '画像', '将...</td>\n",
       "      <td>【8点见】阅兵的荣光时刻，他20年内经历了5次</td>\n",
       "    </tr>\n",
       "    <tr>\n",
       "      <th>3</th>\n",
       "      <td>3</td>\n",
       "      <td>f01ea7a2252646628763c49a0518c1ba</td>\n",
       "      <td>环球时报</td>\n",
       "      <td>原創</td>\n",
       "      <td>0</td>\n",
       "      <td>2019-10-03</td>\n",
       "      <td>1</td>\n",
       "      <td>1</td>\n",
       "      <td>1</td>\n",
       "      <td>['月', '30', '日', '上线的', '我和我的祖国', '\\xa0', '电影'...</td>\n",
       "      <td>中国仪仗兵为啥不能眨眼？原因让人心疼</td>\n",
       "    </tr>\n",
       "    <tr>\n",
       "      <th>4</th>\n",
       "      <td>4</td>\n",
       "      <td>409a04a9718d06e05f35c1a091e20c09</td>\n",
       "      <td>中央政法委长安剑</td>\n",
       "      <td>原創</td>\n",
       "      <td>0</td>\n",
       "      <td>2019-10-03</td>\n",
       "      <td>0</td>\n",
       "      <td>0</td>\n",
       "      <td>1</td>\n",
       "      <td>['RAP', '香港', '青年', '喊话', '内地', '青年', '乐团', '钢...</td>\n",
       "      <td>中国青年摇滚唱祖国：有我站立的地方，就是中国的模样！</td>\n",
       "    </tr>\n",
       "  </tbody>\n",
       "</table>\n",
       "</div>"
      ],
      "text/plain": [
       "   Unnamed: 0                               _id   account author  censor  \\\n",
       "0           0  8fe17988058f6089955c4928b60bc47c       新财迷     原創       0   \n",
       "1           1  ed1cad5992993fa02ae4781e163189d9      央视新闻     原創       0   \n",
       "2           2  d1b9cb1e894aefe69b512d331df001ba       央视网    祝新宇       0   \n",
       "3           3  f01ea7a2252646628763c49a0518c1ba      环球时报     原創       0   \n",
       "4           4  409a04a9718d06e05f35c1a091e20c09  中央政法委长安剑     原創       0   \n",
       "\n",
       "         date  forprofit  license  official  \\\n",
       "0  2019-10-03          1        0         0   \n",
       "1  2019-10-03          0        0         1   \n",
       "2  2019-10-03          0        1         1   \n",
       "3  2019-10-03          1        1         1   \n",
       "4  2019-10-03          0        0         1   \n",
       "\n",
       "                                                segs  \\\n",
       "0  ['热文', '点击', '香港', '风雨同行', '共享', '荣光', '南海', '...   \n",
       "1  ['今天是', '10', '月', '日', '有一期', '主播', '说', '联播'...   \n",
       "2  ['国庆', '群众游行', '方阵', '中', '五位', '领袖', '画像', '将...   \n",
       "3  ['月', '30', '日', '上线的', '我和我的祖国', '\\xa0', '电影'...   \n",
       "4  ['RAP', '香港', '青年', '喊话', '内地', '青年', '乐团', '钢...   \n",
       "\n",
       "                                  title  \n",
       "0              70载沉淀，中国人最关切的这四个方面的惊变是……  \n",
       "1  主播说联播丨海霞见到了她力挺的香港警员，还精心准备了一份礼物......  \n",
       "2               【8点见】阅兵的荣光时刻，他20年内经历了5次  \n",
       "3                    中国仪仗兵为啥不能眨眼？原因让人心疼  \n",
       "4            中国青年摇滚唱祖国：有我站立的地方，就是中国的模样！  "
      ]
     },
     "execution_count": 64,
     "metadata": {},
     "output_type": "execute_result"
    }
   ],
   "source": [
    "df = pd.read_csv(data)\n",
    "df.head()"
   ]
  },
  {
   "cell_type": "code",
   "execution_count": 80,
   "metadata": {},
   "outputs": [],
   "source": [
    "def get_count_csv(df):\n",
    "    censor = df.loc[:, [\"account\", \"censor\"]]\n",
    "    group_censor = censor.groupby(\"account\", as_index = False)\n",
    "    sum_censor = group_censor.sum()\n",
    "\n",
    "    sum_total = pd.DataFrame({\"Total\": df.groupby(\"account\", as_index = False).size()}).reset_index()\n",
    "\n",
    "    attributes = df.loc[:, [\"account\", \"forprofit\", \"license\", \"official\"]].drop_duplicates().reset_index(drop=True)\n",
    "    ans = attributes.merge(sum_censor, on = \"account\")\n",
    "    ans = ans.merge(sum_total, on = \"account\")\n",
    "    ans.to_csv(os.path.join(output_path, \"count.csv\"), encoding = \"utf-8\")\n",
    "    return ans"
   ]
  },
  {
   "cell_type": "code",
   "execution_count": 66,
   "metadata": {},
   "outputs": [],
   "source": [
    "start_str = start.split(\"-\")\n",
    "end_str = end.split(\"-\")\n",
    "    \n",
    "start = date(int(start_str[0]), int(start_str[1]), int(start_str[2]))\n",
    "end = date(int(end_str[0]), int(end_str[1]), int(end_str[2]))"
   ]
  },
  {
   "cell_type": "code",
   "execution_count": 71,
   "metadata": {},
   "outputs": [],
   "source": [
    "\n",
    "\n",
    "output_path = \"plots_Output\""
   ]
  },
  {
   "cell_type": "code",
   "execution_count": 68,
   "metadata": {},
   "outputs": [
    {
     "data": {
      "text/html": [
       "<div>\n",
       "<style scoped>\n",
       "    .dataframe tbody tr th:only-of-type {\n",
       "        vertical-align: middle;\n",
       "    }\n",
       "\n",
       "    .dataframe tbody tr th {\n",
       "        vertical-align: top;\n",
       "    }\n",
       "\n",
       "    .dataframe thead th {\n",
       "        text-align: right;\n",
       "    }\n",
       "</style>\n",
       "<table border=\"1\" class=\"dataframe\">\n",
       "  <thead>\n",
       "    <tr style=\"text-align: right;\">\n",
       "      <th></th>\n",
       "      <th>_id</th>\n",
       "      <th>account</th>\n",
       "      <th>author</th>\n",
       "      <th>censor</th>\n",
       "      <th>date</th>\n",
       "      <th>forprofit</th>\n",
       "      <th>license</th>\n",
       "      <th>official</th>\n",
       "      <th>segs</th>\n",
       "      <th>title</th>\n",
       "    </tr>\n",
       "  </thead>\n",
       "  <tbody>\n",
       "    <tr>\n",
       "      <th>0</th>\n",
       "      <td>8fe17988058f6089955c4928b60bc47c</td>\n",
       "      <td>新财迷</td>\n",
       "      <td>原創</td>\n",
       "      <td>0</td>\n",
       "      <td>2019-10-03</td>\n",
       "      <td>1</td>\n",
       "      <td>0</td>\n",
       "      <td>0</td>\n",
       "      <td>['热文', '点击', '香港', '风雨同行', '共享', '荣光', '南海', '...</td>\n",
       "      <td>70载沉淀，中国人最关切的这四个方面的惊变是……</td>\n",
       "    </tr>\n",
       "    <tr>\n",
       "      <th>1</th>\n",
       "      <td>ed1cad5992993fa02ae4781e163189d9</td>\n",
       "      <td>央视新闻</td>\n",
       "      <td>原創</td>\n",
       "      <td>0</td>\n",
       "      <td>2019-10-03</td>\n",
       "      <td>0</td>\n",
       "      <td>0</td>\n",
       "      <td>1</td>\n",
       "      <td>['今天是', '10', '月', '日', '有一期', '主播', '说', '联播'...</td>\n",
       "      <td>主播说联播丨海霞见到了她力挺的香港警员，还精心准备了一份礼物......</td>\n",
       "    </tr>\n",
       "    <tr>\n",
       "      <th>2</th>\n",
       "      <td>d1b9cb1e894aefe69b512d331df001ba</td>\n",
       "      <td>央视网</td>\n",
       "      <td>祝新宇</td>\n",
       "      <td>0</td>\n",
       "      <td>2019-10-03</td>\n",
       "      <td>0</td>\n",
       "      <td>1</td>\n",
       "      <td>1</td>\n",
       "      <td>['国庆', '群众游行', '方阵', '中', '五位', '领袖', '画像', '将...</td>\n",
       "      <td>【8点见】阅兵的荣光时刻，他20年内经历了5次</td>\n",
       "    </tr>\n",
       "    <tr>\n",
       "      <th>3</th>\n",
       "      <td>f01ea7a2252646628763c49a0518c1ba</td>\n",
       "      <td>环球时报</td>\n",
       "      <td>原創</td>\n",
       "      <td>0</td>\n",
       "      <td>2019-10-03</td>\n",
       "      <td>1</td>\n",
       "      <td>1</td>\n",
       "      <td>1</td>\n",
       "      <td>['月', '30', '日', '上线的', '我和我的祖国', '\\xa0', '电影'...</td>\n",
       "      <td>中国仪仗兵为啥不能眨眼？原因让人心疼</td>\n",
       "    </tr>\n",
       "    <tr>\n",
       "      <th>4</th>\n",
       "      <td>409a04a9718d06e05f35c1a091e20c09</td>\n",
       "      <td>中央政法委长安剑</td>\n",
       "      <td>原創</td>\n",
       "      <td>0</td>\n",
       "      <td>2019-10-03</td>\n",
       "      <td>0</td>\n",
       "      <td>0</td>\n",
       "      <td>1</td>\n",
       "      <td>['RAP', '香港', '青年', '喊话', '内地', '青年', '乐团', '钢...</td>\n",
       "      <td>中国青年摇滚唱祖国：有我站立的地方，就是中国的模样！</td>\n",
       "    </tr>\n",
       "  </tbody>\n",
       "</table>\n",
       "</div>"
      ],
      "text/plain": [
       "                                _id   account author  censor        date  \\\n",
       "0  8fe17988058f6089955c4928b60bc47c       新财迷     原創       0  2019-10-03   \n",
       "1  ed1cad5992993fa02ae4781e163189d9      央视新闻     原創       0  2019-10-03   \n",
       "2  d1b9cb1e894aefe69b512d331df001ba       央视网    祝新宇       0  2019-10-03   \n",
       "3  f01ea7a2252646628763c49a0518c1ba      环球时报     原創       0  2019-10-03   \n",
       "4  409a04a9718d06e05f35c1a091e20c09  中央政法委长安剑     原創       0  2019-10-03   \n",
       "\n",
       "   forprofit  license  official  \\\n",
       "0          1        0         0   \n",
       "1          0        0         1   \n",
       "2          0        1         1   \n",
       "3          1        1         1   \n",
       "4          0        0         1   \n",
       "\n",
       "                                                segs  \\\n",
       "0  ['热文', '点击', '香港', '风雨同行', '共享', '荣光', '南海', '...   \n",
       "1  ['今天是', '10', '月', '日', '有一期', '主播', '说', '联播'...   \n",
       "2  ['国庆', '群众游行', '方阵', '中', '五位', '领袖', '画像', '将...   \n",
       "3  ['月', '30', '日', '上线的', '我和我的祖国', '\\xa0', '电影'...   \n",
       "4  ['RAP', '香港', '青年', '喊话', '内地', '青年', '乐团', '钢...   \n",
       "\n",
       "                                  title  \n",
       "0              70载沉淀，中国人最关切的这四个方面的惊变是……  \n",
       "1  主播说联播丨海霞见到了她力挺的香港警员，还精心准备了一份礼物......  \n",
       "2               【8点见】阅兵的荣光时刻，他20年内经历了5次  \n",
       "3                    中国仪仗兵为啥不能眨眼？原因让人心疼  \n",
       "4            中国青年摇滚唱祖国：有我站立的地方，就是中国的模样！  "
      ]
     },
     "metadata": {},
     "output_type": "display_data"
    }
   ],
   "source": [
    "df = pd.read_csv(data, encoding = \"utf-8\", index_col = 0)\n",
    "\n",
    "display(df.head())"
   ]
  },
  {
   "cell_type": "code",
   "execution_count": 81,
   "metadata": {},
   "outputs": [],
   "source": [
    "df[\"date\"] = pd.to_datetime(df[\"date\"])    \n",
    "ans = get_count_csv(df)"
   ]
  },
  {
   "cell_type": "code",
   "execution_count": 108,
   "metadata": {},
   "outputs": [
    {
     "data": {
      "text/html": [
       "<div>\n",
       "<style scoped>\n",
       "    .dataframe tbody tr th:only-of-type {\n",
       "        vertical-align: middle;\n",
       "    }\n",
       "\n",
       "    .dataframe tbody tr th {\n",
       "        vertical-align: top;\n",
       "    }\n",
       "\n",
       "    .dataframe thead th {\n",
       "        text-align: right;\n",
       "    }\n",
       "</style>\n",
       "<table border=\"1\" class=\"dataframe\">\n",
       "  <thead>\n",
       "    <tr style=\"text-align: right;\">\n",
       "      <th></th>\n",
       "      <th>_id</th>\n",
       "      <th>account</th>\n",
       "      <th>author</th>\n",
       "      <th>censor</th>\n",
       "      <th>date</th>\n",
       "      <th>forprofit</th>\n",
       "      <th>license</th>\n",
       "      <th>official</th>\n",
       "      <th>segs</th>\n",
       "      <th>title</th>\n",
       "    </tr>\n",
       "  </thead>\n",
       "  <tbody>\n",
       "    <tr>\n",
       "      <th>0</th>\n",
       "      <td>8fe17988058f6089955c4928b60bc47c</td>\n",
       "      <td>新财迷</td>\n",
       "      <td>原創</td>\n",
       "      <td>0</td>\n",
       "      <td>2019-10-03</td>\n",
       "      <td>1</td>\n",
       "      <td>0</td>\n",
       "      <td>0</td>\n",
       "      <td>['热文', '点击', '香港', '风雨同行', '共享', '荣光', '南海', '...</td>\n",
       "      <td>70载沉淀，中国人最关切的这四个方面的惊变是……</td>\n",
       "    </tr>\n",
       "    <tr>\n",
       "      <th>1</th>\n",
       "      <td>ed1cad5992993fa02ae4781e163189d9</td>\n",
       "      <td>央视新闻</td>\n",
       "      <td>原創</td>\n",
       "      <td>0</td>\n",
       "      <td>2019-10-03</td>\n",
       "      <td>0</td>\n",
       "      <td>0</td>\n",
       "      <td>1</td>\n",
       "      <td>['今天是', '10', '月', '日', '有一期', '主播', '说', '联播'...</td>\n",
       "      <td>主播说联播丨海霞见到了她力挺的香港警员，还精心准备了一份礼物......</td>\n",
       "    </tr>\n",
       "    <tr>\n",
       "      <th>2</th>\n",
       "      <td>d1b9cb1e894aefe69b512d331df001ba</td>\n",
       "      <td>央视网</td>\n",
       "      <td>祝新宇</td>\n",
       "      <td>0</td>\n",
       "      <td>2019-10-03</td>\n",
       "      <td>0</td>\n",
       "      <td>1</td>\n",
       "      <td>1</td>\n",
       "      <td>['国庆', '群众游行', '方阵', '中', '五位', '领袖', '画像', '将...</td>\n",
       "      <td>【8点见】阅兵的荣光时刻，他20年内经历了5次</td>\n",
       "    </tr>\n",
       "    <tr>\n",
       "      <th>3</th>\n",
       "      <td>f01ea7a2252646628763c49a0518c1ba</td>\n",
       "      <td>环球时报</td>\n",
       "      <td>原創</td>\n",
       "      <td>0</td>\n",
       "      <td>2019-10-03</td>\n",
       "      <td>1</td>\n",
       "      <td>1</td>\n",
       "      <td>1</td>\n",
       "      <td>['月', '30', '日', '上线的', '我和我的祖国', '\\xa0', '电影'...</td>\n",
       "      <td>中国仪仗兵为啥不能眨眼？原因让人心疼</td>\n",
       "    </tr>\n",
       "    <tr>\n",
       "      <th>4</th>\n",
       "      <td>409a04a9718d06e05f35c1a091e20c09</td>\n",
       "      <td>中央政法委长安剑</td>\n",
       "      <td>原創</td>\n",
       "      <td>0</td>\n",
       "      <td>2019-10-03</td>\n",
       "      <td>0</td>\n",
       "      <td>0</td>\n",
       "      <td>1</td>\n",
       "      <td>['RAP', '香港', '青年', '喊话', '内地', '青年', '乐团', '钢...</td>\n",
       "      <td>中国青年摇滚唱祖国：有我站立的地方，就是中国的模样！</td>\n",
       "    </tr>\n",
       "  </tbody>\n",
       "</table>\n",
       "</div>"
      ],
      "text/plain": [
       "                                _id   account author  censor       date  \\\n",
       "0  8fe17988058f6089955c4928b60bc47c       新财迷     原創       0 2019-10-03   \n",
       "1  ed1cad5992993fa02ae4781e163189d9      央视新闻     原創       0 2019-10-03   \n",
       "2  d1b9cb1e894aefe69b512d331df001ba       央视网    祝新宇       0 2019-10-03   \n",
       "3  f01ea7a2252646628763c49a0518c1ba      环球时报     原創       0 2019-10-03   \n",
       "4  409a04a9718d06e05f35c1a091e20c09  中央政法委长安剑     原創       0 2019-10-03   \n",
       "\n",
       "   forprofit  license  official  \\\n",
       "0          1        0         0   \n",
       "1          0        0         1   \n",
       "2          0        1         1   \n",
       "3          1        1         1   \n",
       "4          0        0         1   \n",
       "\n",
       "                                                segs  \\\n",
       "0  ['热文', '点击', '香港', '风雨同行', '共享', '荣光', '南海', '...   \n",
       "1  ['今天是', '10', '月', '日', '有一期', '主播', '说', '联播'...   \n",
       "2  ['国庆', '群众游行', '方阵', '中', '五位', '领袖', '画像', '将...   \n",
       "3  ['月', '30', '日', '上线的', '我和我的祖国', '\\xa0', '电影'...   \n",
       "4  ['RAP', '香港', '青年', '喊话', '内地', '青年', '乐团', '钢...   \n",
       "\n",
       "                                  title  \n",
       "0              70载沉淀，中国人最关切的这四个方面的惊变是……  \n",
       "1  主播说联播丨海霞见到了她力挺的香港警员，还精心准备了一份礼物......  \n",
       "2               【8点见】阅兵的荣光时刻，他20年内经历了5次  \n",
       "3                    中国仪仗兵为啥不能眨眼？原因让人心疼  \n",
       "4            中国青年摇滚唱祖国：有我站立的地方，就是中国的模样！  "
      ]
     },
     "execution_count": 108,
     "metadata": {},
     "output_type": "execute_result"
    }
   ],
   "source": [
    "df.head()"
   ]
  },
  {
   "cell_type": "code",
   "execution_count": 202,
   "metadata": {},
   "outputs": [],
   "source": [
    "def get_week_count_plot1(df, start, end):\n",
    "    now = start\n",
    "    dt = list()\n",
    "    res = list()\n",
    "    while True:\n",
    "        \n",
    "        if now == end:\n",
    "            break\n",
    "        df2 = df.loc[(df[\"date\"] >= pd.Timestamp(now)) & (df[\"date\"] < pd.Timestamp(now + timedelta(days = 1)))]\n",
    "        res.append(df2.shape[0])\n",
    "        dt.append(str(now))\n",
    "        now += timedelta(days = 1)\n",
    "\n",
    "\n",
    "    #index = pd.date_range(start = str(start), end = str(end - timedelta(days = 7)), freq = \"W\")\n",
    "    index = pd.date_range(start = str(start), end = str(end - timedelta(days = 1)), freq = \"D\")\n",
    "    index = [pd.to_datetime(date, format='%d-%m-%Y').date() for date in index]\n",
    "        \n",
    "    results = pd.DataFrame({\n",
    "            \"文章總數\": res\n",
    "        }, index = index)\n",
    "    #display(results)\n",
    "    ax = results.plot(figsize=(18, 9), marker=\".\")\n",
    "    ax.margins(0.01, 0)\n",
    "    #ax.xaxis.set_major_locator(mdates.WeekdayLocator(byweekday=mdates.SU, interval=1))\n",
    "    ax.xaxis.set_major_locator(mdates.DayLocator())\n",
    "    ax.xaxis.set_major_formatter(mdates.DateFormatter('%Y-%m-%d'))\n",
    "    ax.xaxis.label.set_size(15)\n",
    "    ax.yaxis.label.set_size(15)\n",
    "    \n",
    "    ax.set_xlabel(\"日\")\n",
    "    ax.set_ylabel(\"文章總數\")\n",
    "    \n",
    "    # plt.gcf().autofmt_xdate()\n",
    "    plt.xticks(rotation=90)\n",
    "    plt.subplots_adjust(bottom=0.2)\n",
    "    plt.savefig(os.path.join(output_path, \"week_count.png\"))"
   ]
  },
  {
   "cell_type": "code",
   "execution_count": 203,
   "metadata": {},
   "outputs": [
    {
     "data": {
      "image/png": "[encoded data removed]",
      "text/plain": [
       "<Figure size 1296x648 with 1 Axes>"
      ]
     },
     "metadata": {
      "needs_background": "light"
     },
     "output_type": "display_data"
    }
   ],
   "source": [
    "get_week_count_plot1(df, start, end)"
   ]
  },
  {
   "cell_type": "code",
   "execution_count": 196,
   "metadata": {},
   "outputs": [],
   "source": [
    "def get_week_count_plot(df, start, end):\n",
    "    now = start\n",
    "    dt = list()\n",
    "    res = list()\n",
    "    \n",
    "    \n",
    "    \n",
    "    '''\n",
    "    while True:\n",
    "        print('Running to.. '+ str(now))\n",
    "        if now >= end:\n",
    "            break\n",
    "        df2 = df.loc[(df[\"date\"] >= pd.Timestamp(now)) & (df[\"date\"] < pd.Timestamp(now + timedelta(weeks = 1)))]\n",
    "        res.append(df2.shape[0])\n",
    "        dt.append(str(now))\n",
    "        now += timedelta(weeks = 1)\n",
    "\n",
    "\n",
    "    #index = pd.date_range(start = str(start), end = str(end - timedelta(days = 7)), freq = \"W\")\n",
    "    index = pd.date_range(start = str(start), end = str(end), freq = \"W\")\n",
    "    index = [pd.to_datetime(date, format='%d-%m-%Y').date() for date in index]\n",
    "        \n",
    "    results = pd.DataFrame({\n",
    "            \"文章總數\": res\n",
    "        }, index = index)\n",
    "    display(results)\n",
    "    '''\n",
    "    #results = df.resample('D', on='date').count()\n",
    "    results = df.groupby(['date']).size().reset_index(name='文章總數').set_index('date')\n",
    "    results.index = pd.to_datetime(results.index, format='%d-%m-%Y')\n",
    "    #results.index = pd.to_datetime(results.index)\n",
    "    display(results)\n",
    "    ax = results.plot(figsize=(18, 9), marker=\".\")\n",
    "    ax.margins(0.01, 0.5)\n",
    "    ax.xaxis.set_major_locator(mdates.WeekdayLocator(byweekday=mdates.SU, interval=1))\n",
    "    #ax.xaxis.set_major_locator(mdates.DayLocator())\n",
    "    ax.xaxis.set_major_formatter(mdates.DateFormatter('%d-%m-%Y'))\n",
    "    ax.xaxis.label.set_size(15)\n",
    "    ax.yaxis.label.set_size(15)\n",
    "    \n",
    "    ax.set_xlabel(\"日\")\n",
    "    ax.set_ylabel(\"文章總數\")\n",
    "    \n",
    "    plt.gcf().autofmt_xdate()\n",
    "    plt.xticks(rotation=90)\n",
    "    plt.subplots_adjust(bottom=0.2)\n",
    "    plt.plot()\n",
    "    plt.savefig(os.path.join(output_path, \"week_count.png\"))"
   ]
  },
  {
   "cell_type": "code",
   "execution_count": 180,
   "metadata": {},
   "outputs": [
    {
     "data": {
      "text/html": [
       "<div>\n",
       "<style scoped>\n",
       "    .dataframe tbody tr th:only-of-type {\n",
       "        vertical-align: middle;\n",
       "    }\n",
       "\n",
       "    .dataframe tbody tr th {\n",
       "        vertical-align: top;\n",
       "    }\n",
       "\n",
       "    .dataframe thead th {\n",
       "        text-align: right;\n",
       "    }\n",
       "</style>\n",
       "<table border=\"1\" class=\"dataframe\">\n",
       "  <thead>\n",
       "    <tr style=\"text-align: right;\">\n",
       "      <th></th>\n",
       "      <th>文章總數</th>\n",
       "    </tr>\n",
       "    <tr>\n",
       "      <th>date</th>\n",
       "      <th></th>\n",
       "    </tr>\n",
       "  </thead>\n",
       "  <tbody>\n",
       "    <tr>\n",
       "      <th>2019-10-01</th>\n",
       "      <td>22</td>\n",
       "    </tr>\n",
       "    <tr>\n",
       "      <th>2019-10-02</th>\n",
       "      <td>18</td>\n",
       "    </tr>\n",
       "    <tr>\n",
       "      <th>2019-10-03</th>\n",
       "      <td>15</td>\n",
       "    </tr>\n",
       "    <tr>\n",
       "      <th>2019-10-04</th>\n",
       "      <td>50</td>\n",
       "    </tr>\n",
       "    <tr>\n",
       "      <th>2019-10-05</th>\n",
       "      <td>80</td>\n",
       "    </tr>\n",
       "    <tr>\n",
       "      <th>2019-10-06</th>\n",
       "      <td>65</td>\n",
       "    </tr>\n",
       "    <tr>\n",
       "      <th>2019-10-07</th>\n",
       "      <td>78</td>\n",
       "    </tr>\n",
       "    <tr>\n",
       "      <th>2019-10-08</th>\n",
       "      <td>25</td>\n",
       "    </tr>\n",
       "    <tr>\n",
       "      <th>2019-10-09</th>\n",
       "      <td>23</td>\n",
       "    </tr>\n",
       "    <tr>\n",
       "      <th>2019-10-10</th>\n",
       "      <td>54</td>\n",
       "    </tr>\n",
       "    <tr>\n",
       "      <th>...</th>\n",
       "      <td>...</td>\n",
       "    </tr>\n",
       "    <tr>\n",
       "      <th>2019-11-22</th>\n",
       "      <td>102</td>\n",
       "    </tr>\n",
       "    <tr>\n",
       "      <th>2019-11-23</th>\n",
       "      <td>83</td>\n",
       "    </tr>\n",
       "    <tr>\n",
       "      <th>2019-11-24</th>\n",
       "      <td>83</td>\n",
       "    </tr>\n",
       "    <tr>\n",
       "      <th>2019-11-25</th>\n",
       "      <td>42</td>\n",
       "    </tr>\n",
       "    <tr>\n",
       "      <th>2019-11-26</th>\n",
       "      <td>36</td>\n",
       "    </tr>\n",
       "    <tr>\n",
       "      <th>2019-11-27</th>\n",
       "      <td>56</td>\n",
       "    </tr>\n",
       "    <tr>\n",
       "      <th>2019-11-28</th>\n",
       "      <td>116</td>\n",
       "    </tr>\n",
       "    <tr>\n",
       "      <th>2019-11-29</th>\n",
       "      <td>94</td>\n",
       "    </tr>\n",
       "    <tr>\n",
       "      <th>2019-11-30</th>\n",
       "      <td>85</td>\n",
       "    </tr>\n",
       "    <tr>\n",
       "      <th>2019-12-01</th>\n",
       "      <td>36</td>\n",
       "    </tr>\n",
       "  </tbody>\n",
       "</table>\n",
       "<p>62 rows × 1 columns</p>\n",
       "</div>"
      ],
      "text/plain": [
       "            文章總數\n",
       "date            \n",
       "2019-10-01    22\n",
       "2019-10-02    18\n",
       "2019-10-03    15\n",
       "2019-10-04    50\n",
       "2019-10-05    80\n",
       "2019-10-06    65\n",
       "2019-10-07    78\n",
       "2019-10-08    25\n",
       "2019-10-09    23\n",
       "2019-10-10    54\n",
       "...          ...\n",
       "2019-11-22   102\n",
       "2019-11-23    83\n",
       "2019-11-24    83\n",
       "2019-11-25    42\n",
       "2019-11-26    36\n",
       "2019-11-27    56\n",
       "2019-11-28   116\n",
       "2019-11-29    94\n",
       "2019-11-30    85\n",
       "2019-12-01    36\n",
       "\n",
       "[62 rows x 1 columns]"
      ]
     },
     "metadata": {},
     "output_type": "display_data"
    },
    {
     "data": {
      "image/png": "[encoded data removed]",
      "text/plain": [
       "<Figure size 1296x648 with 1 Axes>"
      ]
     },
     "metadata": {
      "needs_background": "light"
     },
     "output_type": "display_data"
    }
   ],
   "source": [
    "get_week_count_plot(df, start, end)"
   ]
  },
  {
   "cell_type": "code",
   "execution_count": 86,
   "metadata": {},
   "outputs": [],
   "source": [
    "import pandas as pd\n",
    "import matplotlib.pyplot as plt\n",
    "import matplotlib.dates as mdates\n",
    "from matplotlib.font_manager import FontProperties\n",
    "from argparse import ArgumentParser\n",
    "from datetime import date, timedelta\n",
    "import os"
   ]
  },
  {
   "cell_type": "code",
   "execution_count": 161,
   "metadata": {},
   "outputs": [
    {
     "data": {
      "text/html": [
       "<div>\n",
       "<style scoped>\n",
       "    .dataframe tbody tr th:only-of-type {\n",
       "        vertical-align: middle;\n",
       "    }\n",
       "\n",
       "    .dataframe tbody tr th {\n",
       "        vertical-align: top;\n",
       "    }\n",
       "\n",
       "    .dataframe thead th {\n",
       "        text-align: right;\n",
       "    }\n",
       "</style>\n",
       "<table border=\"1\" class=\"dataframe\">\n",
       "  <thead>\n",
       "    <tr style=\"text-align: right;\">\n",
       "      <th></th>\n",
       "      <th>_id</th>\n",
       "      <th>account</th>\n",
       "      <th>author</th>\n",
       "      <th>censor</th>\n",
       "      <th>date</th>\n",
       "      <th>forprofit</th>\n",
       "      <th>license</th>\n",
       "      <th>official</th>\n",
       "      <th>segs</th>\n",
       "      <th>title</th>\n",
       "    </tr>\n",
       "    <tr>\n",
       "      <th>date</th>\n",
       "      <th></th>\n",
       "      <th></th>\n",
       "      <th></th>\n",
       "      <th></th>\n",
       "      <th></th>\n",
       "      <th></th>\n",
       "      <th></th>\n",
       "      <th></th>\n",
       "      <th></th>\n",
       "      <th></th>\n",
       "    </tr>\n",
       "  </thead>\n",
       "  <tbody>\n",
       "    <tr>\n",
       "      <th>2019-10-01</th>\n",
       "      <td>22</td>\n",
       "      <td>22</td>\n",
       "      <td>22</td>\n",
       "      <td>22</td>\n",
       "      <td>22</td>\n",
       "      <td>22</td>\n",
       "      <td>22</td>\n",
       "      <td>22</td>\n",
       "      <td>22</td>\n",
       "      <td>22</td>\n",
       "    </tr>\n",
       "    <tr>\n",
       "      <th>2019-10-02</th>\n",
       "      <td>18</td>\n",
       "      <td>18</td>\n",
       "      <td>18</td>\n",
       "      <td>18</td>\n",
       "      <td>18</td>\n",
       "      <td>18</td>\n",
       "      <td>18</td>\n",
       "      <td>18</td>\n",
       "      <td>18</td>\n",
       "      <td>18</td>\n",
       "    </tr>\n",
       "    <tr>\n",
       "      <th>2019-10-03</th>\n",
       "      <td>15</td>\n",
       "      <td>15</td>\n",
       "      <td>15</td>\n",
       "      <td>15</td>\n",
       "      <td>15</td>\n",
       "      <td>15</td>\n",
       "      <td>15</td>\n",
       "      <td>15</td>\n",
       "      <td>15</td>\n",
       "      <td>15</td>\n",
       "    </tr>\n",
       "    <tr>\n",
       "      <th>2019-10-04</th>\n",
       "      <td>50</td>\n",
       "      <td>50</td>\n",
       "      <td>50</td>\n",
       "      <td>50</td>\n",
       "      <td>50</td>\n",
       "      <td>50</td>\n",
       "      <td>50</td>\n",
       "      <td>50</td>\n",
       "      <td>50</td>\n",
       "      <td>50</td>\n",
       "    </tr>\n",
       "    <tr>\n",
       "      <th>2019-10-05</th>\n",
       "      <td>80</td>\n",
       "      <td>80</td>\n",
       "      <td>80</td>\n",
       "      <td>80</td>\n",
       "      <td>80</td>\n",
       "      <td>80</td>\n",
       "      <td>80</td>\n",
       "      <td>80</td>\n",
       "      <td>80</td>\n",
       "      <td>80</td>\n",
       "    </tr>\n",
       "  </tbody>\n",
       "</table>\n",
       "</div>"
      ],
      "text/plain": [
       "            _id  account  author  censor  date  forprofit  license  official  \\\n",
       "date                                                                           \n",
       "2019-10-01   22       22      22      22    22         22       22        22   \n",
       "2019-10-02   18       18      18      18    18         18       18        18   \n",
       "2019-10-03   15       15      15      15    15         15       15        15   \n",
       "2019-10-04   50       50      50      50    50         50       50        50   \n",
       "2019-10-05   80       80      80      80    80         80       80        80   \n",
       "\n",
       "            segs  title  \n",
       "date                     \n",
       "2019-10-01    22     22  \n",
       "2019-10-02    18     18  \n",
       "2019-10-03    15     15  \n",
       "2019-10-04    50     50  \n",
       "2019-10-05    80     80  "
      ]
     },
     "metadata": {},
     "output_type": "display_data"
    },
    {
     "data": {
      "text/plain": [
       "<matplotlib.axes._subplots.AxesSubplot at 0x11e043eb8>"
      ]
     },
     "execution_count": 161,
     "metadata": {},
     "output_type": "execute_result"
    },
    {
     "data": {
      "image/png": "[encoded data removed]",
      "text/plain": [
       "<Figure size 432x288 with 1 Axes>"
      ]
     },
     "metadata": {
      "needs_background": "light"
     },
     "output_type": "display_data"
    }
   ],
   "source": [
    "df1 = df.resample('D', on='date').count()\n",
    "#df1 = df.groupby(['date']).size().reset_index('文章總數')\n",
    "display(df1.head())\n",
    "\n",
    "df1.account.plot()"
   ]
  },
  {
   "cell_type": "code",
   "execution_count": 115,
   "metadata": {},
   "outputs": [
    {
     "data": {
      "text/html": [
       "<div>\n",
       "<style scoped>\n",
       "    .dataframe tbody tr th:only-of-type {\n",
       "        vertical-align: middle;\n",
       "    }\n",
       "\n",
       "    .dataframe tbody tr th {\n",
       "        vertical-align: top;\n",
       "    }\n",
       "\n",
       "    .dataframe thead th {\n",
       "        text-align: right;\n",
       "    }\n",
       "</style>\n",
       "<table border=\"1\" class=\"dataframe\">\n",
       "  <thead>\n",
       "    <tr style=\"text-align: right;\">\n",
       "      <th></th>\n",
       "      <th>文章總數</th>\n",
       "    </tr>\n",
       "    <tr>\n",
       "      <th>date</th>\n",
       "      <th></th>\n",
       "    </tr>\n",
       "  </thead>\n",
       "  <tbody>\n",
       "    <tr>\n",
       "      <th>2019-10-01</th>\n",
       "      <td>22</td>\n",
       "    </tr>\n",
       "    <tr>\n",
       "      <th>2019-10-02</th>\n",
       "      <td>18</td>\n",
       "    </tr>\n",
       "    <tr>\n",
       "      <th>2019-10-03</th>\n",
       "      <td>15</td>\n",
       "    </tr>\n",
       "    <tr>\n",
       "      <th>2019-10-04</th>\n",
       "      <td>50</td>\n",
       "    </tr>\n",
       "    <tr>\n",
       "      <th>2019-10-05</th>\n",
       "      <td>80</td>\n",
       "    </tr>\n",
       "  </tbody>\n",
       "</table>\n",
       "</div>"
      ],
      "text/plain": [
       "            文章總數\n",
       "date            \n",
       "2019-10-01    22\n",
       "2019-10-02    18\n",
       "2019-10-03    15\n",
       "2019-10-04    50\n",
       "2019-10-05    80"
      ]
     },
     "metadata": {},
     "output_type": "display_data"
    },
    {
     "data": {
      "text/plain": [
       "DatetimeIndex(['2019-10-01', '2019-10-02', '2019-10-03', '2019-10-04',\n",
       "               '2019-10-05', '2019-10-06', '2019-10-07', '2019-10-08',\n",
       "               '2019-10-09', '2019-10-10', '2019-10-11', '2019-10-12',\n",
       "               '2019-10-13', '2019-10-14', '2019-10-15', '2019-10-16',\n",
       "               '2019-10-17', '2019-10-18', '2019-10-19', '2019-10-20',\n",
       "               '2019-10-21', '2019-10-22', '2019-10-23', '2019-10-24',\n",
       "               '2019-10-25', '2019-10-26', '2019-10-27', '2019-10-28',\n",
       "               '2019-10-29', '2019-10-30', '2019-10-31', '2019-11-01',\n",
       "               '2019-11-02', '2019-11-03', '2019-11-04', '2019-11-05',\n",
       "               '2019-11-06', '2019-11-07', '2019-11-08', '2019-11-09',\n",
       "               '2019-11-10', '2019-11-11', '2019-11-12', '2019-11-13',\n",
       "               '2019-11-14', '2019-11-15', '2019-11-16', '2019-11-17',\n",
       "               '2019-11-18', '2019-11-19', '2019-11-20', '2019-11-21',\n",
       "               '2019-11-22', '2019-11-23', '2019-11-24', '2019-11-25',\n",
       "               '2019-11-26', '2019-11-27', '2019-11-28', '2019-11-29',\n",
       "               '2019-11-30', '2019-12-01'],\n",
       "              dtype='datetime64[ns]', name='date', freq=None)"
      ]
     },
     "metadata": {},
     "output_type": "display_data"
    }
   ],
   "source": [
    "df1 = df1.set_index('date')\n",
    "display(df1.head())\n",
    "display(df1.index)"
   ]
  },
  {
   "cell_type": "code",
   "execution_count": 97,
   "metadata": {},
   "outputs": [
    {
     "data": {
      "text/html": [
       "<div>\n",
       "<style scoped>\n",
       "    .dataframe tbody tr th:only-of-type {\n",
       "        vertical-align: middle;\n",
       "    }\n",
       "\n",
       "    .dataframe tbody tr th {\n",
       "        vertical-align: top;\n",
       "    }\n",
       "\n",
       "    .dataframe thead th {\n",
       "        text-align: right;\n",
       "    }\n",
       "</style>\n",
       "<table border=\"1\" class=\"dataframe\">\n",
       "  <thead>\n",
       "    <tr style=\"text-align: right;\">\n",
       "      <th></th>\n",
       "      <th>_id</th>\n",
       "      <th>account</th>\n",
       "      <th>author</th>\n",
       "      <th>censor</th>\n",
       "      <th>date</th>\n",
       "      <th>forprofit</th>\n",
       "      <th>license</th>\n",
       "      <th>official</th>\n",
       "      <th>segs</th>\n",
       "      <th>title</th>\n",
       "    </tr>\n",
       "  </thead>\n",
       "  <tbody>\n",
       "    <tr>\n",
       "      <th>0</th>\n",
       "      <td>8fe17988058f6089955c4928b60bc47c</td>\n",
       "      <td>新财迷</td>\n",
       "      <td>原創</td>\n",
       "      <td>0</td>\n",
       "      <td>2019-10-03</td>\n",
       "      <td>1</td>\n",
       "      <td>0</td>\n",
       "      <td>0</td>\n",
       "      <td>['热文', '点击', '香港', '风雨同行', '共享', '荣光', '南海', '...</td>\n",
       "      <td>70载沉淀，中国人最关切的这四个方面的惊变是……</td>\n",
       "    </tr>\n",
       "    <tr>\n",
       "      <th>1</th>\n",
       "      <td>ed1cad5992993fa02ae4781e163189d9</td>\n",
       "      <td>央视新闻</td>\n",
       "      <td>原創</td>\n",
       "      <td>0</td>\n",
       "      <td>2019-10-03</td>\n",
       "      <td>0</td>\n",
       "      <td>0</td>\n",
       "      <td>1</td>\n",
       "      <td>['今天是', '10', '月', '日', '有一期', '主播', '说', '联播'...</td>\n",
       "      <td>主播说联播丨海霞见到了她力挺的香港警员，还精心准备了一份礼物......</td>\n",
       "    </tr>\n",
       "    <tr>\n",
       "      <th>2</th>\n",
       "      <td>d1b9cb1e894aefe69b512d331df001ba</td>\n",
       "      <td>央视网</td>\n",
       "      <td>祝新宇</td>\n",
       "      <td>0</td>\n",
       "      <td>2019-10-03</td>\n",
       "      <td>0</td>\n",
       "      <td>1</td>\n",
       "      <td>1</td>\n",
       "      <td>['国庆', '群众游行', '方阵', '中', '五位', '领袖', '画像', '将...</td>\n",
       "      <td>【8点见】阅兵的荣光时刻，他20年内经历了5次</td>\n",
       "    </tr>\n",
       "    <tr>\n",
       "      <th>3</th>\n",
       "      <td>f01ea7a2252646628763c49a0518c1ba</td>\n",
       "      <td>环球时报</td>\n",
       "      <td>原創</td>\n",
       "      <td>0</td>\n",
       "      <td>2019-10-03</td>\n",
       "      <td>1</td>\n",
       "      <td>1</td>\n",
       "      <td>1</td>\n",
       "      <td>['月', '30', '日', '上线的', '我和我的祖国', '\\xa0', '电影'...</td>\n",
       "      <td>中国仪仗兵为啥不能眨眼？原因让人心疼</td>\n",
       "    </tr>\n",
       "    <tr>\n",
       "      <th>4</th>\n",
       "      <td>409a04a9718d06e05f35c1a091e20c09</td>\n",
       "      <td>中央政法委长安剑</td>\n",
       "      <td>原創</td>\n",
       "      <td>0</td>\n",
       "      <td>2019-10-03</td>\n",
       "      <td>0</td>\n",
       "      <td>0</td>\n",
       "      <td>1</td>\n",
       "      <td>['RAP', '香港', '青年', '喊话', '内地', '青年', '乐团', '钢...</td>\n",
       "      <td>中国青年摇滚唱祖国：有我站立的地方，就是中国的模样！</td>\n",
       "    </tr>\n",
       "  </tbody>\n",
       "</table>\n",
       "</div>"
      ],
      "text/plain": [
       "                                _id   account author  censor       date  \\\n",
       "0  8fe17988058f6089955c4928b60bc47c       新财迷     原創       0 2019-10-03   \n",
       "1  ed1cad5992993fa02ae4781e163189d9      央视新闻     原創       0 2019-10-03   \n",
       "2  d1b9cb1e894aefe69b512d331df001ba       央视网    祝新宇       0 2019-10-03   \n",
       "3  f01ea7a2252646628763c49a0518c1ba      环球时报     原創       0 2019-10-03   \n",
       "4  409a04a9718d06e05f35c1a091e20c09  中央政法委长安剑     原創       0 2019-10-03   \n",
       "\n",
       "   forprofit  license  official  \\\n",
       "0          1        0         0   \n",
       "1          0        0         1   \n",
       "2          0        1         1   \n",
       "3          1        1         1   \n",
       "4          0        0         1   \n",
       "\n",
       "                                                segs  \\\n",
       "0  ['热文', '点击', '香港', '风雨同行', '共享', '荣光', '南海', '...   \n",
       "1  ['今天是', '10', '月', '日', '有一期', '主播', '说', '联播'...   \n",
       "2  ['国庆', '群众游行', '方阵', '中', '五位', '领袖', '画像', '将...   \n",
       "3  ['月', '30', '日', '上线的', '我和我的祖国', '\\xa0', '电影'...   \n",
       "4  ['RAP', '香港', '青年', '喊话', '内地', '青年', '乐团', '钢...   \n",
       "\n",
       "                                  title  \n",
       "0              70载沉淀，中国人最关切的这四个方面的惊变是……  \n",
       "1  主播说联播丨海霞见到了她力挺的香港警员，还精心准备了一份礼物......  \n",
       "2               【8点见】阅兵的荣光时刻，他20年内经历了5次  \n",
       "3                    中国仪仗兵为啥不能眨眼？原因让人心疼  \n",
       "4            中国青年摇滚唱祖国：有我站立的地方，就是中国的模样！  "
      ]
     },
     "metadata": {},
     "output_type": "display_data"
    }
   ],
   "source": [
    "display(df.head())"
   ]
  },
  {
   "cell_type": "code",
   "execution_count": 99,
   "metadata": {},
   "outputs": [
    {
     "data": {
      "text/html": [
       "<div>\n",
       "<style scoped>\n",
       "    .dataframe tbody tr th:only-of-type {\n",
       "        vertical-align: middle;\n",
       "    }\n",
       "\n",
       "    .dataframe tbody tr th {\n",
       "        vertical-align: top;\n",
       "    }\n",
       "\n",
       "    .dataframe thead th {\n",
       "        text-align: right;\n",
       "    }\n",
       "</style>\n",
       "<table border=\"1\" class=\"dataframe\">\n",
       "  <thead>\n",
       "    <tr style=\"text-align: right;\">\n",
       "      <th></th>\n",
       "      <th>censor</th>\n",
       "      <th>forprofit</th>\n",
       "      <th>license</th>\n",
       "      <th>official</th>\n",
       "    </tr>\n",
       "    <tr>\n",
       "      <th>date</th>\n",
       "      <th></th>\n",
       "      <th></th>\n",
       "      <th></th>\n",
       "      <th></th>\n",
       "    </tr>\n",
       "  </thead>\n",
       "  <tbody>\n",
       "    <tr>\n",
       "      <th>2019-11-27</th>\n",
       "      <td>0</td>\n",
       "      <td>42</td>\n",
       "      <td>18</td>\n",
       "      <td>40</td>\n",
       "    </tr>\n",
       "    <tr>\n",
       "      <th>2019-11-28</th>\n",
       "      <td>0</td>\n",
       "      <td>72</td>\n",
       "      <td>70</td>\n",
       "      <td>84</td>\n",
       "    </tr>\n",
       "    <tr>\n",
       "      <th>2019-11-29</th>\n",
       "      <td>0</td>\n",
       "      <td>58</td>\n",
       "      <td>46</td>\n",
       "      <td>61</td>\n",
       "    </tr>\n",
       "    <tr>\n",
       "      <th>2019-11-30</th>\n",
       "      <td>0</td>\n",
       "      <td>58</td>\n",
       "      <td>50</td>\n",
       "      <td>61</td>\n",
       "    </tr>\n",
       "    <tr>\n",
       "      <th>2019-12-01</th>\n",
       "      <td>0</td>\n",
       "      <td>15</td>\n",
       "      <td>21</td>\n",
       "      <td>30</td>\n",
       "    </tr>\n",
       "  </tbody>\n",
       "</table>\n",
       "</div>"
      ],
      "text/plain": [
       "            censor  forprofit  license  official\n",
       "date                                            \n",
       "2019-11-27       0         42       18        40\n",
       "2019-11-28       0         72       70        84\n",
       "2019-11-29       0         58       46        61\n",
       "2019-11-30       0         58       50        61\n",
       "2019-12-01       0         15       21        30"
      ]
     },
     "metadata": {},
     "output_type": "display_data"
    }
   ],
   "source": [
    "display(df1.tail())"
   ]
  },
  {
   "cell_type": "code",
   "execution_count": 222,
   "metadata": {},
   "outputs": [],
   "source": [
    "def get_week_countrate_plot(df, start, end):\n",
    "    dt = list()\n",
    "    official_list = list()\n",
    "    forprofit_list = list()\n",
    "    license_list = list()\n",
    "    now = start\n",
    "    while True:\n",
    "        \n",
    "        if now >= end:\n",
    "            break\n",
    "        \n",
    "        \n",
    "        all_df = df.loc[(df[\"date\"] >= pd.Timestamp(now)) & (df[\"date\"] < pd.Timestamp(now + timedelta(days = 1)))]\n",
    "        \n",
    "        total = all_df.shape[0]\n",
    "        official = all_df.loc[df[\"official\"] == 1].shape[0]\n",
    "        forprofit = all_df.loc[df[\"forprofit\"] == 1].shape[0]\n",
    "        license = all_df.loc[df[\"license\"] == 1].shape[0]\n",
    "        \n",
    "        if total == 0:\n",
    "            print('Found total = 0 in ' + str(now))\n",
    "            official_list.append(0)\n",
    "            forprofit_list.append(0)\n",
    "            license_list.append(0)\n",
    "        else:\n",
    "        \n",
    "            official_list.append(official/total)\n",
    "            forprofit_list.append(forprofit/total)\n",
    "            license_list.append(license/total)\n",
    "        dt.append(str(now))\n",
    "        now += timedelta(days = 1)\n",
    "    \n",
    "    #index = pd.date_range(start = str(start), end = str(end - timedelta(days = 7)), freq = \"W\")\n",
    "    index = pd.date_range(start = str(start), end = str(end - timedelta(days = 1)), freq = \"D\")\n",
    "    index = [pd.to_datetime(date, format='%d-%m-%Y').date() for date in index]\n",
    "    print(len(official_list))\n",
    "    print(forprofit_list)\n",
    "    print(index)\n",
    "    print(len(index), len(forprofit_list))\n",
    "    results = pd.DataFrame({\n",
    "            \"商業號/全部\": forprofit_list,\n",
    "            \"官方/全部\": official_list,\n",
    "            \"有許可證/全部\": license_list\n",
    "        }, index = index)\n",
    "    \n",
    "    \n",
    "    ax = results.plot(figsize=(18, 9), marker = \".\")\n",
    "    ax.margins(0.02, 0.2)\n",
    "    #ax.xaxis.set_major_locator(mdates.WeekdayLocator(byweekday=mdates.SU, interval=1))\n",
    "    ax.xaxis.set_major_locator(mdates.DayLocator())\n",
    "    ax.xaxis.set_major_formatter(mdates.DateFormatter('%Y-%m-%d'))\n",
    "    ax.xaxis.label.set_size(15)\n",
    "    ax.yaxis.label.set_size(15)\n",
    "    plt.xticks(rotation=90)\n",
    "    # plt.gcf().autofmt_xdate()\n",
    "    ax.set_xlabel(\"日\")\n",
    "    ax.set_ylabel(\"比例\")\n",
    "    plt.subplots_adjust(bottom=0.2)\n",
    "    plt.savefig(os.path.join(output_path, \"week_count_rate.png\"))"
   ]
  },
  {
   "cell_type": "code",
   "execution_count": 285,
   "metadata": {},
   "outputs": [
    {
     "name": "stdout",
     "output_type": "stream",
     "text": [
      "Found total = 0 in 2019-12-02\n",
      "63\n",
      "[0.6818181818181818, 0.5555555555555556, 0.6, 0.62, 0.55, 0.6461538461538462, 0.6410256410256411, 0.56, 0.43478260869565216, 0.5555555555555556, 0.7358490566037735, 0.6410256410256411, 0.6122448979591837, 0.5740740740740741, 0.68, 0.6371681415929203, 0.42857142857142855, 0.5370370370370371, 0.5285714285714286, 0.75, 0.6451612903225806, 0.75, 0.6582278481012658, 0.6206896551724138, 0.49122807017543857, 0.5217391304347826, 0.6122448979591837, 0.5471698113207547, 0.711864406779661, 0.6790123456790124, 0.5394736842105263, 0.7, 0.7205882352941176, 0.5684210526315789, 0.6666666666666666, 0.5882352941176471, 0.4675324675324675, 0.6333333333333333, 0.5903614457831325, 0.6818181818181818, 0.6721311475409836, 0.5882352941176471, 0.625, 0.723404255319149, 0.5540540540540541, 0.4943820224719101, 0.4492753623188406, 0.3670886075949367, 0.5333333333333333, 0.4098360655737705, 0.43352601156069365, 0.6209677419354839, 0.7254901960784313, 0.6746987951807228, 0.5783132530120482, 0.5238095238095238, 0.9166666666666666, 0.75, 0.6206896551724138, 0.6170212765957447, 0.6823529411764706, 0.4166666666666667, 0]\n",
      "[datetime.date(2019, 10, 1), datetime.date(2019, 10, 2), datetime.date(2019, 10, 3), datetime.date(2019, 10, 4), datetime.date(2019, 10, 5), datetime.date(2019, 10, 6), datetime.date(2019, 10, 7), datetime.date(2019, 10, 8), datetime.date(2019, 10, 9), datetime.date(2019, 10, 10), datetime.date(2019, 10, 11), datetime.date(2019, 10, 12), datetime.date(2019, 10, 13), datetime.date(2019, 10, 14), datetime.date(2019, 10, 15), datetime.date(2019, 10, 16), datetime.date(2019, 10, 17), datetime.date(2019, 10, 18), datetime.date(2019, 10, 19), datetime.date(2019, 10, 20), datetime.date(2019, 10, 21), datetime.date(2019, 10, 22), datetime.date(2019, 10, 23), datetime.date(2019, 10, 24), datetime.date(2019, 10, 25), datetime.date(2019, 10, 26), datetime.date(2019, 10, 27), datetime.date(2019, 10, 28), datetime.date(2019, 10, 29), datetime.date(2019, 10, 30), datetime.date(2019, 10, 31), datetime.date(2019, 11, 1), datetime.date(2019, 11, 2), datetime.date(2019, 11, 3), datetime.date(2019, 11, 4), datetime.date(2019, 11, 5), datetime.date(2019, 11, 6), datetime.date(2019, 11, 7), datetime.date(2019, 11, 8), datetime.date(2019, 11, 9), datetime.date(2019, 11, 10), datetime.date(2019, 11, 11), datetime.date(2019, 11, 12), datetime.date(2019, 11, 13), datetime.date(2019, 11, 14), datetime.date(2019, 11, 15), datetime.date(2019, 11, 16), datetime.date(2019, 11, 17), datetime.date(2019, 11, 18), datetime.date(2019, 11, 19), datetime.date(2019, 11, 20), datetime.date(2019, 11, 21), datetime.date(2019, 11, 22), datetime.date(2019, 11, 23), datetime.date(2019, 11, 24), datetime.date(2019, 11, 25), datetime.date(2019, 11, 26), datetime.date(2019, 11, 27), datetime.date(2019, 11, 28), datetime.date(2019, 11, 29), datetime.date(2019, 11, 30), datetime.date(2019, 12, 1), datetime.date(2019, 12, 2)]\n",
      "63 63\n"
     ]
    },
    {
     "data": {
      "image/png": "[encoded data removed]",
      "text/plain": [
       "<Figure size 1296x648 with 1 Axes>"
      ]
     },
     "metadata": {
      "needs_background": "light"
     },
     "output_type": "display_data"
    }
   ],
   "source": [
    "get_week_countrate_plot(df, start, end)"
   ]
  },
  {
   "cell_type": "code",
   "execution_count": 216,
   "metadata": {},
   "outputs": [],
   "source": [
    "def get_week_ratio_plot(df, start, end):\n",
    "    dt = list()\n",
    "    official_list = list()\n",
    "    forprofit_list = list()\n",
    "    license_list = list()\n",
    "    now = start\n",
    "    while True:\n",
    "        if now >= end:\n",
    "            break\n",
    "        all_df = df.loc[(df[\"date\"] >= pd.Timestamp(now)) & (df[\"date\"] < pd.Timestamp(now + timedelta(days = 1)))]\n",
    "        total = all_df.shape[0]\n",
    "        \n",
    "        if total == 0:\n",
    "            print('Found total = 0 in ' + str(now))\n",
    "            official_list.append(0)\n",
    "            forprofit_list.append(0)\n",
    "            license_list.append(0)\n",
    "        else:\n",
    "        \n",
    "            official = all_df.loc[df[\"official\"] == 1].shape[0]\n",
    "            forprofit = all_df.loc[df[\"forprofit\"] == 1].shape[0]\n",
    "            license = all_df.loc[df[\"license\"] == 1].shape[0]\n",
    "        \n",
    "            official_list.append(official/(total - official))\n",
    "            forprofit_list.append(forprofit/(total - forprofit))\n",
    "            license_list.append(license/(total - license))\n",
    "        \n",
    "        #official = all_df.loc[df[\"official\"] == 1].shape[0]\n",
    "        #forprofit = all_df.loc[df[\"forprofit\"] == 1].shape[0]\n",
    "        #license = all_df.loc[df[\"license\"] == 1].shape[0]\n",
    "        \n",
    "        #official_list.append(official/(total - official))\n",
    "        #forprofit_list.append(forprofit/(total - forprofit))\n",
    "        #license_list.append(license/(total - license))\n",
    "        dt.append(str(now))\n",
    "        now += timedelta(days = 1)\n",
    "    \n",
    "    #index = pd.date_range(start = str(start), end = str(end - timedelta(days = 7)), freq = \"W\")\n",
    "    index = pd.date_range(start = str(start), end = str(end - timedelta(days = 1)), freq = \"D\")\n",
    "    index = [pd.to_datetime(date, format='%d-%m-%Y').date() for date in index]\n",
    "    results = pd.DataFrame({\n",
    "            \"商業號/非商業號\": forprofit_list,\n",
    "            \"官方/非官方\": official_list,\n",
    "            \"有許可證/無許可證\": license_list\n",
    "        }, index = index)\n",
    "    \n",
    "    \n",
    "    ax = results.plot(figsize=(18, 9), marker = \".\")\n",
    "    ax.margins(0.02, 0.1)\n",
    "    #ax.xaxis.set_major_locator(mdates.WeekdayLocator(byweekday=mdates.SU, interval=1))\n",
    "    ax.xaxis.set_major_locator(mdates.DayLocator())\n",
    "    ax.xaxis.set_major_formatter(mdates.DateFormatter('%Y-%m-%d'))\n",
    "    ax.xaxis.label.set_size(15)\n",
    "    ax.yaxis.label.set_size(15)\n",
    "    plt.xticks(rotation=90)\n",
    "    # plt.gcf().autofmt_xdate()\n",
    "    ax.set_xlabel(\"日\")\n",
    "    ax.set_ylabel(\"比例\")\n",
    "    plt.subplots_adjust(bottom=0.2)\n",
    "    plt.savefig(os.path.join(output_path, \"week_count_rate2.png\"))"
   ]
  },
  {
   "cell_type": "code",
   "execution_count": 286,
   "metadata": {},
   "outputs": [],
   "source": [
    "df.to_csv('Outputs/daily_count_rate.csv', index=0)"
   ]
  },
  {
   "cell_type": "code",
   "execution_count": 217,
   "metadata": {},
   "outputs": [
    {
     "name": "stdout",
     "output_type": "stream",
     "text": [
      "Found total = 0 in 2019-12-02\n"
     ]
    },
    {
     "data": {
      "image/png": "[encoded data removed]",
      "text/plain": [
       "<Figure size 1296x648 with 1 Axes>"
      ]
     },
     "metadata": {
      "needs_background": "light"
     },
     "output_type": "display_data"
    }
   ],
   "source": [
    "get_week_ratio_plot(df, start, end)"
   ]
  },
  {
   "cell_type": "code",
   "execution_count": 229,
   "metadata": {},
   "outputs": [
    {
     "name": "stdout",
     "output_type": "stream",
     "text": [
      "Current day: 2019-10-01 Size is: 473 Keyword size: 39\n",
      "Current day: 2019-10-02 Size is: 392 Keyword size: 35\n",
      "Current day: 2019-10-03 Size is: 384 Keyword size: 20\n",
      "Current day: 2019-10-04 Size is: 389 Keyword size: 58\n",
      "Current day: 2019-10-05 Size is: 376 Keyword size: 96\n",
      "Current day: 2019-10-06 Size is: 381 Keyword size: 72\n",
      "Current day: 2019-10-07 Size is: 410 Keyword size: 85\n",
      "Current day: 2019-10-08 Size is: 285 Keyword size: 27\n",
      "Current day: 2019-10-09 Size is: 306 Keyword size: 29\n",
      "Current day: 2019-10-10 Size is: 384 Keyword size: 59\n",
      "Current day: 2019-10-11 Size is: 486 Keyword size: 59\n",
      "Current day: 2019-10-12 Size is: 505 Keyword size: 49\n",
      "Current day: 2019-10-13 Size is: 429 Keyword size: 57\n",
      "Current day: 2019-10-14 Size is: 528 Keyword size: 57\n",
      "Current day: 2019-10-15 Size is: 497 Keyword size: 52\n",
      "Current day: 2019-10-16 Size is: 516 Keyword size: 116\n",
      "Current day: 2019-10-17 Size is: 508 Keyword size: 89\n",
      "Current day: 2019-10-18 Size is: 507 Keyword size: 64\n",
      "Current day: 2019-10-19 Size is: 445 Keyword size: 73\n",
      "Current day: 2019-10-20 Size is: 444 Keyword size: 63\n",
      "Current day: 2019-10-21 Size is: 519 Keyword size: 65\n",
      "Current day: 2019-10-22 Size is: 511 Keyword size: 57\n",
      "Current day: 2019-10-23 Size is: 516 Keyword size: 83\n",
      "Current day: 2019-10-24 Size is: 534 Keyword size: 63\n",
      "Current day: 2019-10-25 Size is: 521 Keyword size: 60\n",
      "Current day: 2019-10-26 Size is: 465 Keyword size: 47\n",
      "Current day: 2019-10-27 Size is: 443 Keyword size: 53\n",
      "Current day: 2019-10-28 Size is: 523 Keyword size: 53\n",
      "Current day: 2019-10-29 Size is: 517 Keyword size: 63\n",
      "Current day: 2019-10-30 Size is: 512 Keyword size: 85\n",
      "Current day: 2019-10-31 Size is: 528 Keyword size: 77\n",
      "Current day: 2019-11-01 Size is: 509 Keyword size: 72\n",
      "Current day: 2019-11-02 Size is: 473 Keyword size: 70\n",
      "Current day: 2019-11-03 Size is: 474 Keyword size: 97\n",
      "Current day: 2019-11-04 Size is: 542 Keyword size: 67\n",
      "Current day: 2019-11-05 Size is: 537 Keyword size: 107\n",
      "Current day: 2019-11-06 Size is: 507 Keyword size: 81\n",
      "Current day: 2019-11-07 Size is: 477 Keyword size: 102\n",
      "Current day: 2019-11-08 Size is: 535 Keyword size: 86\n",
      "Current day: 2019-11-09 Size is: 446 Keyword size: 68\n",
      "Current day: 2019-11-10 Size is: 432 Keyword size: 65\n",
      "Current day: 2019-11-11 Size is: 128 Keyword size: 17\n",
      "Current day: 2019-11-12 Size is: 159 Keyword size: 32\n",
      "Current day: 2019-11-13 Size is: 218 Keyword size: 48\n",
      "Current day: 2019-11-14 Size is: 283 Keyword size: 76\n",
      "Current day: 2019-11-15 Size is: 367 Keyword size: 90\n",
      "Current day: 2019-11-16 Size is: 346 Keyword size: 74\n",
      "Current day: 2019-11-17 Size is: 363 Keyword size: 84\n",
      "Current day: 2019-11-18 Size is: 311 Keyword size: 61\n",
      "Current day: 2019-11-19 Size is: 419 Keyword size: 133\n",
      "Current day: 2019-11-20 Size is: 510 Keyword size: 182\n",
      "Current day: 2019-11-21 Size is: 527 Keyword size: 130\n",
      "Current day: 2019-11-22 Size is: 518 Keyword size: 105\n",
      "Current day: 2019-11-23 Size is: 448 Keyword size: 91\n",
      "Current day: 2019-11-24 Size is: 318 Keyword size: 87\n",
      "Current day: 2019-11-25 Size is: 225 Keyword size: 42\n",
      "Current day: 2019-11-26 Size is: 282 Keyword size: 39\n",
      "Current day: 2019-11-27 Size is: 356 Keyword size: 69\n",
      "Current day: 2019-11-28 Size is: 486 Keyword size: 121\n",
      "Current day: 2019-11-29 Size is: 496 Keyword size: 96\n",
      "Current day: 2019-11-30 Size is: 459 Keyword size: 87\n",
      "Current day: 2019-12-01 Size is: 446 Keyword size: 76\n",
      "Current day: 2019-12-02 Size is: 516 Keyword size: 104\n",
      "Current day: 2019-12-03 Size is: 511 Keyword size: 85\n",
      "Current day: 2019-12-04 Size is: 522 Keyword size: 71\n",
      "Current day: 2019-12-05 Size is: 527 Keyword size: 53\n",
      "Current day: 2019-12-06 Size is: 521 Keyword size: 77\n",
      "Current day: 2019-12-07 Size is: 455 Keyword size: 77\n",
      "Current day: 2019-12-08 Size is: 438 Keyword size: 70\n",
      "Current day: 2019-12-09 Size is: 506 Keyword size: 81\n",
      "Current day: 2019-12-10 Size is: 506 Keyword size: 73\n",
      "Current day: 2019-12-11 Size is: 489 Keyword size: 63\n",
      "Current day: 2019-12-12 Size is: 21 Keyword size: 4\n"
     ]
    }
   ],
   "source": [
    "day_sizes=list()\n",
    "dates = list()\n",
    "keywords_sizes=list()\n",
    "all_articles = list()\n",
    "for i in range(days+1):\n",
    "    keyword_ids = list()\n",
    "    now = start + timedelta(days = i)\n",
    "\n",
    "    articles = dbutils.GetArticles({\"time\": str(now), \"state\": \"cn\"}, \n",
    "    #articles = dbutils.GetArticles({\"time\": {'$gte':start,'$lt':end}, \"state\": \"cn\"}, \n",
    "                                   [\"_id\", \"time\", \"content\"])\n",
    "    day_sizes.append(len(articles))\n",
    "    all_articles = all_articles + articles\n",
    "    #df = pd.DataFrame(articles)\n",
    "\n",
    "   \n",
    "    for article in articles:\n",
    "        if wanted_word in article[\"content\"]:\n",
    "            keyword_ids.append(article[\"_id\"])\n",
    "    \n",
    "    keywords_sizes.append(len(keyword_ids))\n",
    "    dates.append(now)\n",
    "    print(\"Current day: \" + str(now) + ' Size is: ' +str(len(articles)) + \" Keyword size: \" + str(len(keyword_ids)))\n",
    "    \n"
   ]
  },
  {
   "cell_type": "code",
   "execution_count": 248,
   "metadata": {},
   "outputs": [
    {
     "data": {
      "text/plain": [
       "4"
      ]
     },
     "metadata": {},
     "output_type": "display_data"
    },
    {
     "data": {
      "text/plain": [
       "73"
      ]
     },
     "metadata": {},
     "output_type": "display_data"
    }
   ],
   "source": [
    "display(len(keyword_ids), len(day_sizes))"
   ]
  },
  {
   "cell_type": "code",
   "execution_count": 234,
   "metadata": {},
   "outputs": [
    {
     "data": {
      "text/plain": [
       "datetime.date(2019, 12, 13)"
      ]
     },
     "metadata": {},
     "output_type": "display_data"
    }
   ],
   "source": [
    "end1 = date.today()\n",
    "display(end1)"
   ]
  },
  {
   "cell_type": "code",
   "execution_count": 247,
   "metadata": {},
   "outputs": [
    {
     "data": {
      "text/plain": [
       "DatetimeIndex(['2019-10-01', '2019-10-02', '2019-10-03', '2019-10-04',\n",
       "               '2019-10-05', '2019-10-06', '2019-10-07', '2019-10-08',\n",
       "               '2019-10-09', '2019-10-10', '2019-10-11', '2019-10-12',\n",
       "               '2019-10-13', '2019-10-14', '2019-10-15', '2019-10-16',\n",
       "               '2019-10-17', '2019-10-18', '2019-10-19', '2019-10-20',\n",
       "               '2019-10-21', '2019-10-22', '2019-10-23', '2019-10-24',\n",
       "               '2019-10-25', '2019-10-26', '2019-10-27', '2019-10-28',\n",
       "               '2019-10-29', '2019-10-30', '2019-10-31', '2019-11-01',\n",
       "               '2019-11-02', '2019-11-03', '2019-11-04', '2019-11-05',\n",
       "               '2019-11-06', '2019-11-07', '2019-11-08', '2019-11-09',\n",
       "               '2019-11-10', '2019-11-11', '2019-11-12', '2019-11-13',\n",
       "               '2019-11-14', '2019-11-15', '2019-11-16', '2019-11-17',\n",
       "               '2019-11-18', '2019-11-19', '2019-11-20', '2019-11-21',\n",
       "               '2019-11-22', '2019-11-23', '2019-11-24', '2019-11-25',\n",
       "               '2019-11-26', '2019-11-27', '2019-11-28', '2019-11-29',\n",
       "               '2019-11-30', '2019-12-01', '2019-12-02', '2019-12-03',\n",
       "               '2019-12-04', '2019-12-05', '2019-12-06', '2019-12-07',\n",
       "               '2019-12-08', '2019-12-09', '2019-12-10', '2019-12-11',\n",
       "               '2019-12-12'],\n",
       "              dtype='datetime64[ns]', freq='D')"
      ]
     },
     "metadata": {},
     "output_type": "display_data"
    }
   ],
   "source": [
    "index = pd.date_range(start = str(start), end = str(end1 - timedelta(days = 1)), freq = \"D\")\n",
    "\n",
    "display(index)"
   ]
  },
  {
   "cell_type": "code",
   "execution_count": 265,
   "metadata": {},
   "outputs": [
    {
     "data": {
      "text/plain": [
       "72"
      ]
     },
     "execution_count": 265,
     "metadata": {},
     "output_type": "execute_result"
    }
   ],
   "source": [
    "date_index = pd.date_range(start = str(start), end = str(end1 - timedelta(days = 2)), freq = \"D\")\n",
    "\n",
    "len(date_index)"
   ]
  },
  {
   "cell_type": "code",
   "execution_count": 274,
   "metadata": {},
   "outputs": [
    {
     "data": {
      "text/plain": [
       "73"
      ]
     },
     "execution_count": 274,
     "metadata": {},
     "output_type": "execute_result"
    }
   ],
   "source": [
    "len(keywords_sizes)"
   ]
  },
  {
   "cell_type": "code",
   "execution_count": 276,
   "metadata": {},
   "outputs": [
    {
     "data": {
      "text/plain": [
       "array([0.08245243, 0.08928571, 0.05208333, 0.14910026, 0.25531915,\n",
       "       0.18897638, 0.20731707, 0.09473684, 0.09477124, 0.15364583,\n",
       "       0.12139918, 0.0970297 , 0.13286713, 0.10795455, 0.10462777,\n",
       "       0.2248062 , 0.17519685, 0.12623274, 0.16404494, 0.14189189,\n",
       "       0.12524085, 0.11154599, 0.16085271, 0.11797753, 0.11516315,\n",
       "       0.10107527, 0.11963883, 0.10133843, 0.12185687, 0.16601562,\n",
       "       0.14583333, 0.14145383, 0.14799154, 0.20464135, 0.12361624,\n",
       "       0.19925512, 0.15976331, 0.21383648, 0.16074766, 0.15246637,\n",
       "       0.15046296, 0.1328125 , 0.20125786, 0.22018349, 0.26855124,\n",
       "       0.24523161, 0.21387283, 0.23140496, 0.19614148, 0.31742243,\n",
       "       0.35686275, 0.24667932, 0.2027027 , 0.203125  , 0.27358491,\n",
       "       0.18666667, 0.13829787, 0.19382022, 0.24897119, 0.19354839,\n",
       "       0.18954248, 0.17040359, 0.20155039, 0.16634051, 0.13601533,\n",
       "       0.10056926, 0.14779271, 0.16923077, 0.15981735, 0.16007905,\n",
       "       0.14426877, 0.12883436])"
      ]
     },
     "metadata": {},
     "output_type": "display_data"
    }
   ],
   "source": [
    "import numpy as np\n",
    "\n",
    "day_sizes_np=np.asarray(day_sizes[:-1])\n",
    "keywords_sizes_np=np.asarray(keywords_sizes[:-1])\n",
    "\n",
    "ratio_np = keywords_sizes_np/day_sizes_np\n",
    "\n",
    "display(ratio_np)"
   ]
  },
  {
   "cell_type": "code",
   "execution_count": 279,
   "metadata": {},
   "outputs": [],
   "source": [
    "date_index = pd.date_range(start = str(start), end = str(end1 - timedelta(days = 2)), freq = \"D\")\n",
    "date_index = [pd.to_datetime(date, format='%d-%m-%Y').date() for date in date_index]\n",
    "new_results = pd.DataFrame({\n",
    "        \"每日涉港報導比例\": ratio_np\n",
    "        \n",
    "    }, index = date_index)\n",
    "    \n",
    "    \n"
   ]
  },
  {
   "cell_type": "code",
   "execution_count": 282,
   "metadata": {},
   "outputs": [
    {
     "data": {
      "text/html": [
       "<div>\n",
       "<style scoped>\n",
       "    .dataframe tbody tr th:only-of-type {\n",
       "        vertical-align: middle;\n",
       "    }\n",
       "\n",
       "    .dataframe tbody tr th {\n",
       "        vertical-align: top;\n",
       "    }\n",
       "\n",
       "    .dataframe thead th {\n",
       "        text-align: right;\n",
       "    }\n",
       "</style>\n",
       "<table border=\"1\" class=\"dataframe\">\n",
       "  <thead>\n",
       "    <tr style=\"text-align: right;\">\n",
       "      <th></th>\n",
       "      <th>每日涉港報導比例</th>\n",
       "    </tr>\n",
       "  </thead>\n",
       "  <tbody>\n",
       "    <tr>\n",
       "      <th>2019-10-01</th>\n",
       "      <td>0.082452</td>\n",
       "    </tr>\n",
       "    <tr>\n",
       "      <th>2019-10-02</th>\n",
       "      <td>0.089286</td>\n",
       "    </tr>\n",
       "    <tr>\n",
       "      <th>2019-10-03</th>\n",
       "      <td>0.052083</td>\n",
       "    </tr>\n",
       "    <tr>\n",
       "      <th>2019-10-04</th>\n",
       "      <td>0.149100</td>\n",
       "    </tr>\n",
       "    <tr>\n",
       "      <th>2019-10-05</th>\n",
       "      <td>0.255319</td>\n",
       "    </tr>\n",
       "    <tr>\n",
       "      <th>2019-10-06</th>\n",
       "      <td>0.188976</td>\n",
       "    </tr>\n",
       "    <tr>\n",
       "      <th>2019-10-07</th>\n",
       "      <td>0.207317</td>\n",
       "    </tr>\n",
       "    <tr>\n",
       "      <th>2019-10-08</th>\n",
       "      <td>0.094737</td>\n",
       "    </tr>\n",
       "    <tr>\n",
       "      <th>2019-10-09</th>\n",
       "      <td>0.094771</td>\n",
       "    </tr>\n",
       "    <tr>\n",
       "      <th>2019-10-10</th>\n",
       "      <td>0.153646</td>\n",
       "    </tr>\n",
       "    <tr>\n",
       "      <th>...</th>\n",
       "      <td>...</td>\n",
       "    </tr>\n",
       "    <tr>\n",
       "      <th>2019-12-02</th>\n",
       "      <td>0.201550</td>\n",
       "    </tr>\n",
       "    <tr>\n",
       "      <th>2019-12-03</th>\n",
       "      <td>0.166341</td>\n",
       "    </tr>\n",
       "    <tr>\n",
       "      <th>2019-12-04</th>\n",
       "      <td>0.136015</td>\n",
       "    </tr>\n",
       "    <tr>\n",
       "      <th>2019-12-05</th>\n",
       "      <td>0.100569</td>\n",
       "    </tr>\n",
       "    <tr>\n",
       "      <th>2019-12-06</th>\n",
       "      <td>0.147793</td>\n",
       "    </tr>\n",
       "    <tr>\n",
       "      <th>2019-12-07</th>\n",
       "      <td>0.169231</td>\n",
       "    </tr>\n",
       "    <tr>\n",
       "      <th>2019-12-08</th>\n",
       "      <td>0.159817</td>\n",
       "    </tr>\n",
       "    <tr>\n",
       "      <th>2019-12-09</th>\n",
       "      <td>0.160079</td>\n",
       "    </tr>\n",
       "    <tr>\n",
       "      <th>2019-12-10</th>\n",
       "      <td>0.144269</td>\n",
       "    </tr>\n",
       "    <tr>\n",
       "      <th>2019-12-11</th>\n",
       "      <td>0.128834</td>\n",
       "    </tr>\n",
       "  </tbody>\n",
       "</table>\n",
       "<p>72 rows × 1 columns</p>\n",
       "</div>"
      ],
      "text/plain": [
       "            每日涉港報導比例\n",
       "2019-10-01  0.082452\n",
       "2019-10-02  0.089286\n",
       "2019-10-03  0.052083\n",
       "2019-10-04  0.149100\n",
       "2019-10-05  0.255319\n",
       "2019-10-06  0.188976\n",
       "2019-10-07  0.207317\n",
       "2019-10-08  0.094737\n",
       "2019-10-09  0.094771\n",
       "2019-10-10  0.153646\n",
       "...              ...\n",
       "2019-12-02  0.201550\n",
       "2019-12-03  0.166341\n",
       "2019-12-04  0.136015\n",
       "2019-12-05  0.100569\n",
       "2019-12-06  0.147793\n",
       "2019-12-07  0.169231\n",
       "2019-12-08  0.159817\n",
       "2019-12-09  0.160079\n",
       "2019-12-10  0.144269\n",
       "2019-12-11  0.128834\n",
       "\n",
       "[72 rows x 1 columns]"
      ]
     },
     "execution_count": 282,
     "metadata": {},
     "output_type": "execute_result"
    }
   ],
   "source": [
    "new_results"
   ]
  },
  {
   "cell_type": "code",
   "execution_count": 281,
   "metadata": {},
   "outputs": [
    {
     "data": {
      "text/plain": [
       "(array([737324., 737331., 737338., 737345., 737352., 737359., 737366.,\n",
       "        737373., 737380., 737387., 737394., 737401., 737408., 737415.]),\n",
       " <a list of 14 Text xticklabel objects>)"
      ]
     },
     "execution_count": 281,
     "metadata": {},
     "output_type": "execute_result"
    },
    {
     "data": {
      "text/plain": [
       "Text(0.5,0,'日')"
      ]
     },
     "execution_count": 281,
     "metadata": {},
     "output_type": "execute_result"
    },
    {
     "data": {
      "text/plain": [
       "Text(0,0.5,'每日涉港報導比例')"
      ]
     },
     "execution_count": 281,
     "metadata": {},
     "output_type": "execute_result"
    },
    {
     "data": {
      "image/png": "[encoded data removed]",
      "text/plain": [
       "<Figure size 1296x648 with 1 Axes>"
      ]
     },
     "metadata": {
      "needs_background": "light"
     },
     "output_type": "display_data"
    }
   ],
   "source": [
    "ax = new_results.plot(figsize=(18, 9), marker = \".\")\n",
    "ax.margins(0.2, 0.2)\n",
    "ax.xaxis.set_major_locator(mdates.WeekdayLocator(byweekday=mdates.SU, interval=1))\n",
    "ax.xaxis.set_major_formatter(mdates.DateFormatter('%Y-%m-%d'))\n",
    "ax.xaxis.label.set_size(15)\n",
    "ax.yaxis.label.set_size(15)\n",
    "plt.xticks(rotation=90)\n",
    "# plt.gcf().autofmt_xdate()\n",
    "ax.set_xlabel(\"日\")\n",
    "ax.set_ylabel(\"每日涉港報導比例\")\n",
    "plt.subplots_adjust(bottom=0.2)\n",
    "plt.savefig(os.path.join(output_path, \"week_count_rate4.png\"))"
   ]
  },
  {
   "cell_type": "code",
   "execution_count": 287,
   "metadata": {},
   "outputs": [],
   "source": [
    "new_results.iloc[:-2].to_csv('Outputs/hk_ratio.csv')"
   ]
  },
  {
   "cell_type": "code",
   "execution_count": null,
   "metadata": {},
   "outputs": [],
   "source": []
  }
 ],
 "metadata": {
  "kernelspec": {
   "display_name": "Python 3",
   "language": "python",
   "name": "python3"
  },
  "language_info": {
   "codemirror_mode": {
    "name": "ipython",
    "version": 3
   },
   "file_extension": ".py",
   "mimetype": "text/x-python",
   "name": "python",
   "nbconvert_exporter": "python",
   "pygments_lexer": "ipython3",
   "version": "3.5.5"
  },
  "toc": {
   "base_numbering": 1,
   "nav_menu": {},
   "number_sections": true,
   "sideBar": true,
   "skip_h1_title": false,
   "title_cell": "Table of Contents",
   "title_sidebar": "Contents",
   "toc_cell": false,
   "toc_position": {},
   "toc_section_display": true,
   "toc_window_display": false
  },
  "varInspector": {
   "cols": {
    "lenName": 16,
    "lenType": 16,
    "lenVar": 40
   },
   "kernels_config": {
    "python": {
     "delete_cmd_postfix": "",
     "delete_cmd_prefix": "del ",
     "library": "var_list.py",
     "varRefreshCmd": "print(var_dic_list())"
    },
    "r": {
     "delete_cmd_postfix": ") ",
     "delete_cmd_prefix": "rm(",
     "library": "var_list.r",
     "varRefreshCmd": "cat(var_dic_list()) "
    }
   },
   "types_to_exclude": [
    "module",
    "function",
    "builtin_function_or_method",
    "instance",
    "_Feature"
   ],
   "window_display": false
  }
 },
 "nbformat": 4,
 "nbformat_minor": 2
}

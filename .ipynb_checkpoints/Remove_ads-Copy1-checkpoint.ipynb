{
 "cells": [
  {
   "cell_type": "code",
   "execution_count": 9,
   "metadata": {},
   "outputs": [
    {
     "ename": "ImportError",
     "evalue": "Dask dataframe requirements are not installed.\n\nPlease either conda or pip install as follows:\n\n  conda install dask                     # either conda install\n  python -m pip install \"dask[dataframe]\" --upgrade  # or python -m pip install",
     "output_type": "error",
     "traceback": [
      "\u001b[0;31m---------------------------------------------------------------------------\u001b[0m",
      "\u001b[0;31mImportError\u001b[0m                               Traceback (most recent call last)",
      "\u001b[0;32m~/miniconda3/envs/convAI/lib/python3.7/site-packages/dask/array/__init__.py\u001b[0m in \u001b[0;36m<module>\u001b[0;34m\u001b[0m\n\u001b[1;32m      2\u001b[0m     \u001b[0;32mfrom\u001b[0m \u001b[0;34m.\u001b[0m\u001b[0mblockwise\u001b[0m \u001b[0;32mimport\u001b[0m \u001b[0mblockwise\u001b[0m\u001b[0;34m,\u001b[0m \u001b[0matop\u001b[0m\u001b[0;34m\u001b[0m\u001b[0;34m\u001b[0m\u001b[0m\n\u001b[0;32m----> 3\u001b[0;31m     from .core import (\n\u001b[0m\u001b[1;32m      4\u001b[0m         \u001b[0mArray\u001b[0m\u001b[0;34m,\u001b[0m\u001b[0;34m\u001b[0m\u001b[0;34m\u001b[0m\u001b[0m\n",
      "\u001b[0;32m~/miniconda3/envs/convAI/lib/python3.7/site-packages/dask/array/core.py\u001b[0m in \u001b[0;36m<module>\u001b[0;34m\u001b[0m\n\u001b[1;32m     22\u001b[0m \u001b[0;32mfrom\u001b[0m \u001b[0;34m.\u001b[0m \u001b[0;32mimport\u001b[0m \u001b[0mchunk\u001b[0m\u001b[0;34m\u001b[0m\u001b[0;34m\u001b[0m\u001b[0m\n\u001b[0;32m---> 23\u001b[0;31m \u001b[0;32mfrom\u001b[0m \u001b[0;34m.\u001b[0m\u001b[0;34m.\u001b[0m \u001b[0;32mimport\u001b[0m \u001b[0mconfig\u001b[0m\u001b[0;34m,\u001b[0m \u001b[0mcompute\u001b[0m\u001b[0;34m\u001b[0m\u001b[0;34m\u001b[0m\u001b[0m\n\u001b[0m\u001b[1;32m     24\u001b[0m from ..base import (\n",
      "\u001b[0;31mImportError\u001b[0m: cannot import name 'compute' from 'dask' (/Users/bluekidds/miniconda3/envs/convAI/lib/python3.7/site-packages/dask/__init__.py)",
      "\nThe above exception was the direct cause of the following exception:\n",
      "\u001b[0;31mImportError\u001b[0m                               Traceback (most recent call last)",
      "\u001b[0;32m~/miniconda3/envs/convAI/lib/python3.7/site-packages/dask/dataframe/__init__.py\u001b[0m in \u001b[0;36m<module>\u001b[0;34m\u001b[0m\n\u001b[1;32m      1\u001b[0m \u001b[0;32mtry\u001b[0m\u001b[0;34m:\u001b[0m\u001b[0;34m\u001b[0m\u001b[0;34m\u001b[0m\u001b[0m\n\u001b[0;32m----> 2\u001b[0;31m     from .core import (\n\u001b[0m\u001b[1;32m      3\u001b[0m         \u001b[0mDataFrame\u001b[0m\u001b[0;34m,\u001b[0m\u001b[0;34m\u001b[0m\u001b[0;34m\u001b[0m\u001b[0m\n",
      "\u001b[0;32m~/miniconda3/envs/convAI/lib/python3.7/site-packages/dask/dataframe/core.py\u001b[0m in \u001b[0;36m<module>\u001b[0;34m\u001b[0m\n\u001b[1;32m     24\u001b[0m \u001b[0;34m\u001b[0m\u001b[0m\n\u001b[0;32m---> 25\u001b[0;31m \u001b[0;32mfrom\u001b[0m \u001b[0;34m.\u001b[0m\u001b[0;34m.\u001b[0m \u001b[0;32mimport\u001b[0m \u001b[0marray\u001b[0m \u001b[0;32mas\u001b[0m \u001b[0mda\u001b[0m\u001b[0;34m\u001b[0m\u001b[0;34m\u001b[0m\u001b[0m\n\u001b[0m\u001b[1;32m     26\u001b[0m \u001b[0;32mfrom\u001b[0m \u001b[0;34m.\u001b[0m\u001b[0;34m.\u001b[0m \u001b[0;32mimport\u001b[0m \u001b[0mcore\u001b[0m\u001b[0;34m\u001b[0m\u001b[0;34m\u001b[0m\u001b[0m\n",
      "\u001b[0;32m~/miniconda3/envs/convAI/lib/python3.7/site-packages/dask/array/__init__.py\u001b[0m in \u001b[0;36m<module>\u001b[0;34m\u001b[0m\n\u001b[1;32m    249\u001b[0m     )\n\u001b[0;32m--> 250\u001b[0;31m     \u001b[0;32mraise\u001b[0m \u001b[0mImportError\u001b[0m\u001b[0;34m(\u001b[0m\u001b[0mstr\u001b[0m\u001b[0;34m(\u001b[0m\u001b[0me\u001b[0m\u001b[0;34m)\u001b[0m \u001b[0;34m+\u001b[0m \u001b[0;34m\"\\n\\n\"\u001b[0m \u001b[0;34m+\u001b[0m \u001b[0mmsg\u001b[0m\u001b[0;34m)\u001b[0m \u001b[0;32mfrom\u001b[0m \u001b[0me\u001b[0m\u001b[0;34m\u001b[0m\u001b[0;34m\u001b[0m\u001b[0m\n\u001b[0m",
      "\u001b[0;31mImportError\u001b[0m: cannot import name 'compute' from 'dask' (/Users/bluekidds/miniconda3/envs/convAI/lib/python3.7/site-packages/dask/__init__.py)\n\nDask array requirements are not installed.\n\nPlease either conda or pip install as follows:\n\n  conda install dask                 # either conda install\n  python -m pip install \"dask[array]\" --upgrade  # or python -m pip install",
      "\nThe above exception was the direct cause of the following exception:\n",
      "\u001b[0;31mImportError\u001b[0m                               Traceback (most recent call last)",
      "\u001b[0;32m<ipython-input-9-a9d4d507d418>\u001b[0m in \u001b[0;36m<module>\u001b[0;34m\u001b[0m\n\u001b[0;32m----> 1\u001b[0;31m \u001b[0;32mimport\u001b[0m \u001b[0mdask\u001b[0m\u001b[0;34m.\u001b[0m\u001b[0mdataframe\u001b[0m \u001b[0;32mas\u001b[0m \u001b[0mdd\u001b[0m\u001b[0;34m\u001b[0m\u001b[0;34m\u001b[0m\u001b[0m\n\u001b[0m\u001b[1;32m      2\u001b[0m \u001b[0;32mfrom\u001b[0m \u001b[0mcollections\u001b[0m \u001b[0;32mimport\u001b[0m \u001b[0mdefaultdict\u001b[0m\u001b[0;34m\u001b[0m\u001b[0;34m\u001b[0m\u001b[0m\n",
      "\u001b[0;32m~/miniconda3/envs/convAI/lib/python3.7/site-packages/dask/dataframe/__init__.py\u001b[0m in \u001b[0;36m<module>\u001b[0;34m\u001b[0m\n\u001b[1;32m     55\u001b[0m         \u001b[0;34m'  python -m pip install \"dask[dataframe]\" --upgrade  # or python -m pip install'\u001b[0m\u001b[0;34m\u001b[0m\u001b[0;34m\u001b[0m\u001b[0m\n\u001b[1;32m     56\u001b[0m     )\n\u001b[0;32m---> 57\u001b[0;31m     \u001b[0;32mraise\u001b[0m \u001b[0mImportError\u001b[0m\u001b[0;34m(\u001b[0m\u001b[0mmsg\u001b[0m\u001b[0;34m)\u001b[0m \u001b[0;32mfrom\u001b[0m \u001b[0me\u001b[0m\u001b[0;34m\u001b[0m\u001b[0;34m\u001b[0m\u001b[0m\n\u001b[0m",
      "\u001b[0;31mImportError\u001b[0m: Dask dataframe requirements are not installed.\n\nPlease either conda or pip install as follows:\n\n  conda install dask                     # either conda install\n  python -m pip install \"dask[dataframe]\" --upgrade  # or python -m pip install"
     ]
    }
   ],
   "source": [
    "import dask.dataframe as dd\n",
    "from collections import defaultdict"
   ]
  },
  {
   "cell_type": "code",
   "execution_count": null,
   "metadata": {},
   "outputs": [],
   "source": [
    "ads_removal.iloc[4]['url']"
   ]
  },
  {
   "cell_type": "code",
   "execution_count": null,
   "metadata": {},
   "outputs": [],
   "source": [
    "ads_removal.account.value_counts()"
   ]
  },
  {
   "cell_type": "code",
   "execution_count": null,
   "metadata": {},
   "outputs": [],
   "source": [
    "ads_removal.iloc[0]['url']"
   ]
  },
  {
   "cell_type": "code",
   "execution_count": 3,
   "metadata": {},
   "outputs": [],
   "source": [
    "data = dd.read_csv('../data/19_20_sentiment_remove_ads.csv',blocksize=640 * 1024 * 1024).set_index('_id')"
   ]
  },
  {
   "cell_type": "code",
   "execution_count": null,
   "metadata": {},
   "outputs": [],
   "source": [
    "result = data.account.value_counts()\n",
    "result = result.compute(num_workers=4)\n"
   ]
  },
  {
   "cell_type": "code",
   "execution_count": null,
   "metadata": {},
   "outputs": [],
   "source": [
    "for re in result.items():\n",
    "    display(re)"
   ]
  },
  {
   "cell_type": "code",
   "execution_count": null,
   "metadata": {},
   "outputs": [],
   "source": [
    "data.columns"
   ]
  },
  {
   "cell_type": "code",
   "execution_count": null,
   "metadata": {},
   "outputs": [],
   "source": [
    "data[data['account']=='观察者网'].head(10)"
   ]
  },
  {
   "cell_type": "code",
   "execution_count": null,
   "metadata": {},
   "outputs": [],
   "source": [
    "content = data.head(5)[['content', 'url']]"
   ]
  },
  {
   "cell_type": "code",
   "execution_count": null,
   "metadata": {},
   "outputs": [],
   "source": [
    "display(content.iloc[1]['url'])\n",
    "display(content.iloc[1]['content'])"
   ]
  },
  {
   "cell_type": "code",
   "execution_count": null,
   "metadata": {},
   "outputs": [],
   "source": [
    "display(content.iloc[2]['url'])\n",
    "display(content.iloc[2]['content'])"
   ]
  },
  {
   "cell_type": "code",
   "execution_count": null,
   "metadata": {},
   "outputs": [],
   "source": [
    "from collections import defaultdict"
   ]
  },
  {
   "cell_type": "code",
   "execution_count": null,
   "metadata": {},
   "outputs": [],
   "source": [
    "#new_ads_removal = dict.fromkeys(result.keys(), {})\n",
    "new_ads_removal = defaultdict(dict)\n",
    "new_ads_removal.update((k, {}) for k in result.keys())\n",
    "display(new_ads_removal)"
   ]
  },
  {
   "cell_type": "markdown",
   "metadata": {},
   "source": [
    "## 1 - 观察者网"
   ]
  },
  {
   "cell_type": "code",
   "execution_count": null,
   "metadata": {},
   "outputs": [],
   "source": [
    "obs = data[data['account']=='观察者网'][['url','content']].head(1)\n",
    "#display(obs)"
   ]
  },
  {
   "cell_type": "code",
   "execution_count": null,
   "metadata": {},
   "outputs": [],
   "source": [
    "new_ads_removal['观察者网']['front'] = ['你正在变好看！']\n",
    "new_ads_removal['观察者网']['end'] = ['观察者网 综合']\n",
    "new_ads_removal['观察者网']['end'].append('观察者网综合')\n",
    "new_ads_removal['观察者网']['internal'] = ['视频来源：']\n",
    "new_ads_removal['观察者网']['internal'].append('素材来源：')\n",
    "display(new_ads_removal['观察者网'])"
   ]
  },
  {
   "cell_type": "markdown",
   "metadata": {},
   "source": [
    "## 2 - 澎湃新闻"
   ]
  },
  {
   "cell_type": "code",
   "execution_count": null,
   "metadata": {},
   "outputs": [],
   "source": [
    "data[data['account']=='澎湃新闻'].shape"
   ]
  },
  {
   "cell_type": "code",
   "execution_count": null,
   "metadata": {},
   "outputs": [],
   "source": [
    "obs = data[data['account']=='澎湃新闻'][['url','content']].head(1)\n",
    "#display(obs)"
   ]
  },
  {
   "cell_type": "code",
   "execution_count": null,
   "metadata": {},
   "outputs": [],
   "source": [
    "new_ads_removal['澎湃新闻']['end'] = ['本期编辑']\n",
    "new_ads_removal['澎湃新闻']['internal'] = ['视频来源：']\n",
    "new_ads_removal['澎湃新闻']['internal'].append('素材来源：')\n",
    "display(new_ads_removal['澎湃新闻'])"
   ]
  },
  {
   "cell_type": "markdown",
   "metadata": {},
   "source": [
    "## 3 - 人民日报\n"
   ]
  },
  {
   "cell_type": "code",
   "execution_count": null,
   "metadata": {},
   "outputs": [],
   "source": [
    "#obs = data[data['account']=='人民日报'][['url','content']].head(20)\n",
    "#display(obs)"
   ]
  },
  {
   "cell_type": "code",
   "execution_count": null,
   "metadata": {},
   "outputs": [],
   "source": [
    "new_ads_removal['人民日报']['end'] = ['来源：']\n",
    "new_ads_removal['人民日报']['internal'] = ['视频来源：']\n",
    "new_ads_removal['人民日报']['internal'].append('素材来源：')\n",
    "display(new_ads_removal['人民日报'])\n"
   ]
  },
  {
   "cell_type": "markdown",
   "metadata": {},
   "source": [
    "## 4 - 环球网"
   ]
  },
  {
   "cell_type": "code",
   "execution_count": null,
   "metadata": {},
   "outputs": [],
   "source": [
    "obs = data[data['account']=='环球网'][['url','content']].head(20)\n"
   ]
  },
  {
   "cell_type": "code",
   "execution_count": null,
   "metadata": {},
   "outputs": [],
   "source": [
    "new_ads_removal['环球网']['end'] = ['来源：']\n",
    "new_ads_removal['环球网']['internal'] = ['视频来源：']\n",
    "new_ads_removal['环球网']['internal'].append('素材来源：')\n",
    "display(new_ads_removal['环球网'])\n"
   ]
  },
  {
   "cell_type": "markdown",
   "metadata": {},
   "source": [
    "## 5 - 参考消息"
   ]
  },
  {
   "cell_type": "code",
   "execution_count": null,
   "metadata": {},
   "outputs": [],
   "source": [
    "obs = data[data['account']=='参考消息'][['url','content']].head(20)\n"
   ]
  },
  {
   "cell_type": "code",
   "execution_count": null,
   "metadata": {},
   "outputs": [],
   "source": [
    "new_ads_removal['参考消息']['end'] = ['本期推送']\n",
    "new_ads_removal['参考消息']['internal'] = ['视频来源：']\n",
    "new_ads_removal['参考消息']['internal'].append('素材来源：')\n",
    "new_ads_removal['参考消息']['end'].append('来源')\n",
    "new_ads_removal['参考消息']['end'].append('文章编辑')\n",
    "display(new_ads_removal['参考消息'])\n"
   ]
  },
  {
   "cell_type": "markdown",
   "metadata": {},
   "source": [
    "## 6 - 中国经济网"
   ]
  },
  {
   "cell_type": "code",
   "execution_count": null,
   "metadata": {},
   "outputs": [],
   "source": [
    "obs = data[data['account']=='中国经济网'][['url','content']].head(20)\n",
    "#display(obs)"
   ]
  },
  {
   "cell_type": "code",
   "execution_count": null,
   "metadata": {},
   "outputs": [],
   "source": [
    "new_ads_removal['中国经济网']['end'] = ['来源']\n",
    "new_ads_removal['中国经济网']['internal'] = ['视频来源：']\n",
    "new_ads_removal['中国经济网']['internal'].append('素材来源：')\n",
    "display(new_ads_removal['中国经济网'])\n"
   ]
  },
  {
   "cell_type": "markdown",
   "metadata": {},
   "source": [
    "## 7 - 环球时报"
   ]
  },
  {
   "cell_type": "code",
   "execution_count": null,
   "metadata": {},
   "outputs": [],
   "source": [
    "global_news = data[data['account']=='环球时报'][['url','content']].head(20)\n",
    "#display(global_news)"
   ]
  },
  {
   "cell_type": "code",
   "execution_count": null,
   "metadata": {},
   "outputs": [],
   "source": [
    "new_ads_removal['环球时报']['end'] = ['来源']\n",
    "new_ads_removal['环球时报']['internal'] = ['视频来源：']\n",
    "new_ads_removal['环球时报']['internal'].append('素材来源：')\n",
    "new_ads_removal['环球时报']['end'].append('了解《环球时报')\n",
    "display(new_ads_removal['环球时报'])"
   ]
  },
  {
   "cell_type": "markdown",
   "metadata": {},
   "source": [
    "## 8 - 新华社"
   ]
  },
  {
   "cell_type": "code",
   "execution_count": null,
   "metadata": {},
   "outputs": [],
   "source": [
    "global_news = data[data['account']=='新华社'][['url','content']].head(10)\n",
    "#display(global_news)"
   ]
  },
  {
   "cell_type": "code",
   "execution_count": null,
   "metadata": {},
   "outputs": [],
   "source": [
    "new_ads_removal['新华社']['end'] = ['来源：']\n",
    "new_ads_removal['新华社']['internal'] = ['视频来源：']\n",
    "new_ads_removal['新华社']['internal'].append('素材来源：')\n",
    "new_ads_removal['新华社']['internal'].append('图片来源：') # Remove internal first\n",
    "display(new_ads_removal['新华社'])"
   ]
  },
  {
   "cell_type": "markdown",
   "metadata": {},
   "source": [
    "## 9 - 中国搜索"
   ]
  },
  {
   "cell_type": "code",
   "execution_count": null,
   "metadata": {},
   "outputs": [],
   "source": [
    "global_news = data[data['account']=='中国搜索'][['url','content']].head(15)\n"
   ]
  },
  {
   "cell_type": "code",
   "execution_count": null,
   "metadata": {},
   "outputs": [],
   "source": [
    "new_ads_removal['中国搜索']['internal'] = ['视频来源：']\n",
    "new_ads_removal['中国搜索']['internal'].append('素材来源：')\n",
    "new_ads_removal['中国搜索']['internal'].append('图片来源：')\n",
    "new_ads_removal['中国搜索']['end'] = ['来源']\n",
    "new_ads_removal['中国搜索']['end'].append('特别推荐')\n",
    "display(new_ads_removal['中国搜索'])"
   ]
  },
  {
   "cell_type": "code",
   "execution_count": null,
   "metadata": {},
   "outputs": [],
   "source": []
  },
  {
   "cell_type": "markdown",
   "metadata": {},
   "source": [
    "## 10 - 央视新闻"
   ]
  },
  {
   "cell_type": "code",
   "execution_count": null,
   "metadata": {},
   "outputs": [],
   "source": [
    "obs = data[data['account']=='央视新闻'][['url','content']].head(15)\n",
    "#display(obs)"
   ]
  },
  {
   "cell_type": "code",
   "execution_count": null,
   "metadata": {},
   "outputs": [],
   "source": [
    "new_ads_removal['央视新闻']['end'] = ['本文来源']\n",
    "new_ads_removal['央视新闻']['end'].append('更多新闻')\n",
    "display(new_ads_removal['央视新闻'])"
   ]
  },
  {
   "cell_type": "markdown",
   "metadata": {},
   "source": [
    "## 11 - 人民网"
   ]
  },
  {
   "cell_type": "code",
   "execution_count": null,
   "metadata": {},
   "outputs": [],
   "source": [
    "obs = data[data['account']=='人民网'][['url','content']].head(15)\n",
    "#display(obs)"
   ]
  },
  {
   "cell_type": "code",
   "execution_count": null,
   "metadata": {},
   "outputs": [],
   "source": [
    "new_ads_removal['人民网']['end'] = ['来源：']\n",
    "new_ads_removal['人民网']['end'].append('责编：')\n",
    "new_ads_removal['人民网']['end'].append('大家都在看')\n",
    "display(new_ads_removal['人民网'])"
   ]
  },
  {
   "cell_type": "markdown",
   "metadata": {},
   "source": [
    "## 12 - 中国青年报"
   ]
  },
  {
   "cell_type": "code",
   "execution_count": null,
   "metadata": {},
   "outputs": [],
   "source": [
    "obs = data[data['account']=='中国青年报'][['url','content']].head(15)\n",
    "#display(obs)"
   ]
  },
  {
   "cell_type": "code",
   "execution_count": null,
   "metadata": {},
   "outputs": [],
   "source": [
    "new_ads_removal['中国青年报']['end'] = ['来源：']\n",
    "new_ads_removal['中国青年报']['end'].append('戳视频')\n",
    "new_ads_removal['中国青年报']['end'].append('青年报（ID：')\n",
    "display(new_ads_removal['中国青年报'])"
   ]
  },
  {
   "cell_type": "markdown",
   "metadata": {},
   "source": [
    "## 13 - 新华网"
   ]
  },
  {
   "cell_type": "code",
   "execution_count": null,
   "metadata": {},
   "outputs": [],
   "source": [
    "obs = data[data['account']=='新华网'][['url','content']].head(15)\n",
    "#display(obs)"
   ]
  },
  {
   "cell_type": "code",
   "execution_count": null,
   "metadata": {},
   "outputs": [],
   "source": [
    "new_ads_removal['新华网']['end'] = ['来源：']\n",
    "display(new_ads_removal['新华网'])"
   ]
  },
  {
   "cell_type": "markdown",
   "metadata": {},
   "source": [
    "## 14 - 南方都市报\n",
    "\n",
    "- 光头刘Sir的太太开微博\n",
    "- 南方都市报（nddaily）"
   ]
  },
  {
   "cell_type": "code",
   "execution_count": null,
   "metadata": {},
   "outputs": [],
   "source": [
    "obs = data[data['account']=='南方都市报'][['url','content']].head(15)\n",
    "#display(obs)"
   ]
  },
  {
   "cell_type": "code",
   "execution_count": null,
   "metadata": {},
   "outputs": [],
   "source": [
    "new_ads_removal['南方都市报']['end'] = ['来源：']\n",
    "new_ads_removal['南方都市报']['end'].append('光头刘Sir')\n",
    "new_ads_removal['南方都市报']['end'].append('南方都市报（nddaily）')\n",
    "display(new_ads_removal['南方都市报'])"
   ]
  },
  {
   "cell_type": "markdown",
   "metadata": {},
   "source": [
    "## 15 - 中国新闻网\n",
    "\n",
    "效果可能低於預期。\n",
    "\n",
    "- ●"
   ]
  },
  {
   "cell_type": "code",
   "execution_count": null,
   "metadata": {},
   "outputs": [],
   "source": [
    "obs = data[data['account']=='中国新闻网'][['url','content']].head(15)\n",
    "#display(obs)"
   ]
  },
  {
   "cell_type": "code",
   "execution_count": null,
   "metadata": {},
   "outputs": [],
   "source": [
    "s = '●'\n",
    "'●' in s"
   ]
  },
  {
   "cell_type": "code",
   "execution_count": null,
   "metadata": {},
   "outputs": [],
   "source": [
    "new_ads_removal['中国新闻网']['end'] = ['●']\n",
    "display(new_ads_removal['中国新闻网'])"
   ]
  },
  {
   "cell_type": "markdown",
   "metadata": {},
   "source": [
    "## 16 - 央视财经\n",
    "\n",
    "- 转载请注明\n",
    "- 来源："
   ]
  },
  {
   "cell_type": "code",
   "execution_count": null,
   "metadata": {},
   "outputs": [],
   "source": [
    "obs = data[data['account']=='央视财经'][['url','content']].head(15)\n",
    "#display(obs)"
   ]
  },
  {
   "cell_type": "code",
   "execution_count": null,
   "metadata": {},
   "outputs": [],
   "source": [
    "new_ads_removal['央视财经']['end'] = ['来源：']\n",
    "new_ads_removal['央视财经']['end'].append('转载请注明')\n",
    "display(new_ads_removal['央视财经'])"
   ]
  },
  {
   "cell_type": "markdown",
   "metadata": {},
   "source": [
    "## 17 - 央视网\n",
    "\n",
    "com: 頗乾淨\n",
    "\n",
    "- 来源：\n"
   ]
  },
  {
   "cell_type": "code",
   "execution_count": null,
   "metadata": {},
   "outputs": [],
   "source": [
    "obs = data[data['account']=='央视网'][['url','content']].head(15)\n",
    "#display(obs)"
   ]
  },
  {
   "cell_type": "code",
   "execution_count": null,
   "metadata": {},
   "outputs": [],
   "source": [
    "new_ads_removal['央视网']['end'] = ['来源：']\n",
    "\n",
    "display(new_ads_removal['央视网'])"
   ]
  },
  {
   "cell_type": "markdown",
   "metadata": {},
   "source": [
    "## 18 - 共青团中央\n",
    "\n",
    "com: 抓到比例偏低\n",
    "\n",
    "- 扫描图片上的二维码\n",
    "- 欢迎转发点赞\n",
    "- 校 审"
   ]
  },
  {
   "cell_type": "code",
   "execution_count": null,
   "metadata": {},
   "outputs": [],
   "source": [
    "obs = data[data['account']=='共青团中央'][['url','content']].head(15)\n",
    "#display(obs)"
   ]
  },
  {
   "cell_type": "code",
   "execution_count": null,
   "metadata": {},
   "outputs": [],
   "source": [
    "new_ads_removal['共青团中央']['end'] = ['扫描图片上的二维码']\n",
    "new_ads_removal['共青团中央']['end'].append('扫描图片上的二维码')\n",
    "new_ads_removal['共青团中央']['end'].append('校 审')\n",
    "display(new_ads_removal['共青团中央'])"
   ]
  },
  {
   "cell_type": "markdown",
   "metadata": {},
   "source": [
    "## 19 - 半月谈\n",
    "\n",
    "- 来源："
   ]
  },
  {
   "cell_type": "code",
   "execution_count": null,
   "metadata": {},
   "outputs": [],
   "source": [
    "obs = data[data['account']=='半月谈'][['url','content']].head(15)\n",
    "#display(obs)"
   ]
  },
  {
   "cell_type": "code",
   "execution_count": null,
   "metadata": {},
   "outputs": [],
   "source": [
    "new_ads_removal['半月谈']['end'] = ['来源：']\n",
    "\n",
    "display(new_ads_removal['半月谈'])"
   ]
  },
  {
   "cell_type": "markdown",
   "metadata": {},
   "source": [
    "## 20 - 界面新闻\n",
    "\n",
    "com: 頗為乾淨\n",
    "\n",
    "\n",
    "- 未经授权，严禁转载\n",
    "- 长按识别二维码"
   ]
  },
  {
   "cell_type": "code",
   "execution_count": null,
   "metadata": {},
   "outputs": [],
   "source": [
    "#obs = data[data['account']=='界面新闻'][['url','content']].head(15)\n",
    "#display(obs)"
   ]
  },
  {
   "cell_type": "code",
   "execution_count": null,
   "metadata": {},
   "outputs": [],
   "source": [
    "new_ads_removal['界面新闻']['end'] = ['未经授权，严禁转载']\n",
    "new_ads_removal['界面新闻']['end'].append('长按识别二维码')\n",
    "display(new_ads_removal['界面新闻'])"
   ]
  },
  {
   "cell_type": "markdown",
   "metadata": {},
   "source": [
    "## 21 - 占豪\n",
    "\n",
    "- 附：\n",
    "- 另：\n",
    "- 在右下角点下【好看】\n",
    "- 右下角【好看】"
   ]
  },
  {
   "cell_type": "code",
   "execution_count": null,
   "metadata": {},
   "outputs": [],
   "source": [
    "obs = data[data['account']=='占豪'][['url','content']].head(15)\n",
    "#display(obs)"
   ]
  },
  {
   "cell_type": "code",
   "execution_count": null,
   "metadata": {},
   "outputs": [],
   "source": [
    "new_ads_removal['占豪']['end'] = ['附']\n",
    "new_ads_removal['占豪']['end'].append('另：')\n",
    "new_ads_removal['占豪']['end'].append('右下角【好看】')\n",
    "new_ads_removal['占豪']['end'].append('在右下角点下【好看】')\n",
    "display(new_ads_removal['占豪'])"
   ]
  },
  {
   "cell_type": "markdown",
   "metadata": {},
   "source": [
    "## 22 - 中国普法\n",
    "\n",
    "- 往期精彩\n",
    "- 来源：\n",
    "\n"
   ]
  },
  {
   "cell_type": "code",
   "execution_count": null,
   "metadata": {},
   "outputs": [],
   "source": [
    "#obs = data[data['account']=='中国普法'][['url','content']].head(15)\n",
    "#display(obs)"
   ]
  },
  {
   "cell_type": "code",
   "execution_count": null,
   "metadata": {},
   "outputs": [],
   "source": [
    "new_ads_removal['中国普法']['end'] = ['往期精彩']\n",
    "new_ads_removal['中国普法']['end'].append('来源：')\n",
    "display(new_ads_removal['中国普法'])"
   ]
  },
  {
   "cell_type": "markdown",
   "metadata": {},
   "source": [
    "## 23 - 共产党员\n",
    "\n",
    "- 来源："
   ]
  },
  {
   "cell_type": "code",
   "execution_count": null,
   "metadata": {},
   "outputs": [],
   "source": [
    "#obs = data[data['account']=='共产党员'][['url','content']].head(15)\n",
    "#display(obs)"
   ]
  },
  {
   "cell_type": "code",
   "execution_count": null,
   "metadata": {},
   "outputs": [],
   "source": [
    "new_ads_removal['共产党员']['end'] = ['来源']\n",
    "display(new_ads_removal['共产党员'])"
   ]
  },
  {
   "cell_type": "markdown",
   "metadata": {},
   "source": [
    "## 24 - 正商阅读\n",
    "\n",
    "- 点击下方\n"
   ]
  },
  {
   "cell_type": "code",
   "execution_count": null,
   "metadata": {},
   "outputs": [],
   "source": [
    "#obs = data[data['account']=='正商阅读'][['url','content']].head(15)\n",
    "#display(obs)"
   ]
  },
  {
   "cell_type": "code",
   "execution_count": null,
   "metadata": {},
   "outputs": [],
   "source": [
    "new_ads_removal['正商阅读']['end'] = ['点击下方']\n",
    "display(new_ads_removal['正商阅读'])"
   ]
  },
  {
   "cell_type": "markdown",
   "metadata": {},
   "source": [
    "## 25 - 新财迷\n",
    "\n",
    "- 热文点击\n"
   ]
  },
  {
   "cell_type": "code",
   "execution_count": null,
   "metadata": {},
   "outputs": [],
   "source": [
    "#obs = data[data['account']=='新财迷'][['url','content']].head(15)\n",
    "#display(obs)"
   ]
  },
  {
   "cell_type": "code",
   "execution_count": null,
   "metadata": {},
   "outputs": [],
   "source": [
    "new_ads_removal['新财迷']['end'] = ['热文点击']\n",
    "display(new_ads_removal['新财迷'])"
   ]
  },
  {
   "cell_type": "markdown",
   "metadata": {},
   "source": [
    "## 26 - 讲武堂\n",
    "\n",
    "- 搜索ID\n"
   ]
  },
  {
   "cell_type": "code",
   "execution_count": null,
   "metadata": {},
   "outputs": [],
   "source": [
    "#obs = data[data['account']=='讲武堂'][['url','content']].head(15)\n",
    "#display(obs)"
   ]
  },
  {
   "cell_type": "code",
   "execution_count": null,
   "metadata": {},
   "outputs": [],
   "source": [
    "new_ads_removal['讲武堂']['end'] = ['搜索ID']\n",
    "display(new_ads_removal['讲武堂'])"
   ]
  },
  {
   "cell_type": "markdown",
   "metadata": {},
   "source": [
    "## 27 - 军武次位面\n",
    "\n",
    "- 本文转载\n",
    "- 点击阅读原文\n"
   ]
  },
  {
   "cell_type": "code",
   "execution_count": null,
   "metadata": {},
   "outputs": [],
   "source": [
    "#obs = data[data['account']=='军武次位面'][['url','content']].head(15)\n",
    "#display(obs)"
   ]
  },
  {
   "cell_type": "code",
   "execution_count": null,
   "metadata": {},
   "outputs": [],
   "source": [
    "new_ads_removal['军武次位面']['end'] = ['本文转载']\n",
    "new_ads_removal['军武次位面']['end'].append('点击阅读原文')\n",
    "new_ads_removal['军武次位面']['end'].append('点击阅读')\n",
    "display(new_ads_removal['军武次位面'])"
   ]
  },
  {
   "cell_type": "markdown",
   "metadata": {},
   "source": [
    "## 28 - 凤凰网\n",
    "\n",
    "- 本文来自\n"
   ]
  },
  {
   "cell_type": "code",
   "execution_count": null,
   "metadata": {},
   "outputs": [],
   "source": [
    "#obs = data[data['account']=='凤凰网'][['url','content']].head(15)\n",
    "#display(obs)"
   ]
  },
  {
   "cell_type": "code",
   "execution_count": null,
   "metadata": {},
   "outputs": [],
   "source": [
    "new_ads_removal['凤凰网']['end'] = ['本文来自']\n",
    "display(new_ads_removal['凤凰网'])"
   ]
  },
  {
   "cell_type": "markdown",
   "metadata": {},
   "source": [
    "## 29 - 中国新闻周刊\n",
    "\n",
    "- 值班编辑"
   ]
  },
  {
   "cell_type": "code",
   "execution_count": null,
   "metadata": {},
   "outputs": [],
   "source": [
    "#obs = data[data['account']=='中国新闻周刊'][['url','content']].head(15)\n",
    "#display(obs)"
   ]
  },
  {
   "cell_type": "code",
   "execution_count": null,
   "metadata": {},
   "outputs": [],
   "source": [
    "new_ads_removal['中国新闻周刊']['end'] = ['值班编辑']\n",
    "display(new_ads_removal['中国新闻周刊'])"
   ]
  },
  {
   "cell_type": "markdown",
   "metadata": {},
   "source": [
    "## 30 - 凤凰网财经\n",
    "\n",
    "- 喜欢此文\n",
    "- 来源：\n",
    "- finance_ifeng\n"
   ]
  },
  {
   "cell_type": "code",
   "execution_count": null,
   "metadata": {},
   "outputs": [],
   "source": []
  },
  {
   "cell_type": "code",
   "execution_count": null,
   "metadata": {},
   "outputs": [],
   "source": [
    "#obs = data[data['account']=='凤凰网财经'][['url','content']].head(15)\n",
    "#display(obs)"
   ]
  },
  {
   "cell_type": "code",
   "execution_count": null,
   "metadata": {},
   "outputs": [],
   "source": [
    "new_ads_removal['凤凰网财经']['end'] = ['喜欢此文']\n",
    "new_ads_removal['凤凰网财经']['end'].append('来源：')\n",
    "new_ads_removal['凤凰网财经']['end'].append('finance_ifeng')\n",
    "display(new_ads_removal['凤凰网财经'])"
   ]
  },
  {
   "cell_type": "markdown",
   "metadata": {},
   "source": [
    "## 31 - 正商参阅\n",
    "\n",
    "- 商务合作\n",
    "- 点击正商参阅"
   ]
  },
  {
   "cell_type": "code",
   "execution_count": null,
   "metadata": {},
   "outputs": [],
   "source": [
    "#obs = data[data['account']=='正商参阅'][['url','content']].head(15)\n",
    "#display(obs)"
   ]
  },
  {
   "cell_type": "code",
   "execution_count": null,
   "metadata": {},
   "outputs": [],
   "source": [
    "new_ads_removal['正商参阅']['end'] = ['商务合作']\n",
    "new_ads_removal['正商参阅']['end'].append('点击正商参阅')\n",
    "display(new_ads_removal['正商参阅'])"
   ]
  },
  {
   "cell_type": "markdown",
   "metadata": {},
   "source": [
    "## 32 - 中央纪委国家监委网站\n",
    "\n",
    "- 更多内容，为您推荐\n",
    "- 更多精彩，为您推荐"
   ]
  },
  {
   "cell_type": "code",
   "execution_count": null,
   "metadata": {},
   "outputs": [],
   "source": [
    "#obs = data[data['account']=='中央纪委国家监委网站'][['url','content']].head(15)\n",
    "#display(obs)"
   ]
  },
  {
   "cell_type": "code",
   "execution_count": null,
   "metadata": {},
   "outputs": [],
   "source": [
    "new_ads_removal['中央纪委国家监委网站']['end'] = ['更多内容，为您推荐']\n",
    "new_ads_removal['中央纪委国家监委网站']['end'].append('更多内容，为您推荐')\n",
    "display(new_ads_removal['中央纪委国家监委网站'])"
   ]
  },
  {
   "cell_type": "markdown",
   "metadata": {},
   "source": [
    "## 33 - 国魂\n",
    "\n",
    "- 长按2秒\n"
   ]
  },
  {
   "cell_type": "code",
   "execution_count": null,
   "metadata": {},
   "outputs": [],
   "source": [
    "#obs = data[data['account']=='国魂'][['url','content']].head(15)\n",
    "#display(obs)"
   ]
  },
  {
   "cell_type": "code",
   "execution_count": null,
   "metadata": {},
   "outputs": [],
   "source": [
    "new_ads_removal['国魂']['end'] = ['长按2秒']\n",
    "\n",
    "display(new_ads_removal['国魂'])"
   ]
  },
  {
   "cell_type": "markdown",
   "metadata": {},
   "source": [
    "## 34 - CCTV4\n",
    "\n",
    "- 更多精彩内容\n",
    "- 本期编辑\n",
    "- 本文编辑\n",
    "\n"
   ]
  },
  {
   "cell_type": "code",
   "execution_count": null,
   "metadata": {},
   "outputs": [],
   "source": [
    "#obs = data[data['account']=='CCTV4'][['url','content']].head(15)\n",
    "#display(obs)"
   ]
  },
  {
   "cell_type": "code",
   "execution_count": null,
   "metadata": {},
   "outputs": [],
   "source": [
    "new_ads_removal['CCTV4']['end'] = ['更多精彩内容']\n",
    "new_ads_removal['CCTV4']['end'].append('本期编辑')\n",
    "new_ads_removal['CCTV4']['end'].append('本文编辑')\n",
    "display(new_ads_removal['CCTV4'])"
   ]
  },
  {
   "cell_type": "markdown",
   "metadata": {},
   "source": [
    "## 35 - 铁血军事\n",
    "\n",
    "- 为您推荐\n",
    "- 专栏\n",
    "\n"
   ]
  },
  {
   "cell_type": "code",
   "execution_count": null,
   "metadata": {},
   "outputs": [],
   "source": [
    "#obs = data[data['account']=='铁血军事'][['url','content']].head(15)\n",
    "#display(obs)\n"
   ]
  },
  {
   "cell_type": "code",
   "execution_count": null,
   "metadata": {},
   "outputs": [],
   "source": [
    "new_ads_removal['铁血军事']['end'] = ['为您推荐']\n",
    "new_ads_removal['铁血军事']['end'].append('专栏')\n",
    "display(new_ads_removal['铁血军事'])"
   ]
  },
  {
   "cell_type": "markdown",
   "metadata": {},
   "source": [
    "## 36 - 瞭望智库\n",
    "\n",
    "- 本文中除标明来源\n"
   ]
  },
  {
   "cell_type": "code",
   "execution_count": null,
   "metadata": {},
   "outputs": [],
   "source": [
    "#obs = data[data['account']=='瞭望智库'][['url','content']].head(15)\n",
    "#display(obs)"
   ]
  },
  {
   "cell_type": "code",
   "execution_count": null,
   "metadata": {},
   "outputs": [],
   "source": [
    "new_ads_removal['瞭望智库']['end'] = ['本文中除标明来源']\n",
    "\n",
    "display(new_ads_removal['瞭望智库'])"
   ]
  },
  {
   "cell_type": "markdown",
   "metadata": {},
   "source": [
    "## 37 - 今日防务观察\n",
    "\n",
    "- 扫码回复\n",
    "- 铁血游戏"
   ]
  },
  {
   "cell_type": "code",
   "execution_count": null,
   "metadata": {},
   "outputs": [],
   "source": [
    "obs = data[data['account']=='今日防务观察'][['url','content']].head(15)\n",
    "#display(obs)"
   ]
  },
  {
   "cell_type": "code",
   "execution_count": null,
   "metadata": {},
   "outputs": [],
   "source": [
    "new_ads_removal['今日防务观察']['end'] = ['扫码回复']\n",
    "new_ads_removal['今日防务观察']['end'].append('铁血游戏')\n",
    "\n",
    "display(new_ads_removal['今日防务观察'])"
   ]
  },
  {
   "cell_type": "markdown",
   "metadata": {},
   "source": [
    "## 38 - 财经要参\n",
    "\n",
    "- 另：\n",
    "- 来源：\n"
   ]
  },
  {
   "cell_type": "code",
   "execution_count": null,
   "metadata": {},
   "outputs": [],
   "source": [
    "#obs = data[data['account']=='财经要参'][['url','content']].head(15)\n",
    "#display(obs)"
   ]
  },
  {
   "cell_type": "code",
   "execution_count": null,
   "metadata": {},
   "outputs": [],
   "source": [
    "new_ads_removal['财经要参']['end'] = ['另：']\n",
    "new_ads_removal['财经要参']['end'].append('来源：')\n",
    "\n",
    "display(new_ads_removal['财经要参'])"
   ]
  },
  {
   "cell_type": "markdown",
   "metadata": {},
   "source": [
    "## 39 - 凤凰网军事频道\n",
    "\n",
    "- 点击左下角\n",
    "- 阅读原文\n",
    "\n",
    "\n",
    "\n"
   ]
  },
  {
   "cell_type": "code",
   "execution_count": null,
   "metadata": {},
   "outputs": [],
   "source": [
    "#obs = data[data['account']=='凤凰网军事频道'][['url','content']].head(15)\n",
    "#display(obs)\n"
   ]
  },
  {
   "cell_type": "code",
   "execution_count": null,
   "metadata": {},
   "outputs": [],
   "source": [
    "new_ads_removal['凤凰网军事频道']['end'] = ['点击左下角']\n",
    "new_ads_removal['凤凰网军事频道']['end'].append('阅读原文')\n",
    "\n",
    "display(new_ads_removal['凤凰网军事频道'])"
   ]
  },
  {
   "cell_type": "markdown",
   "metadata": {},
   "source": [
    "## 40 - 中国政府网\n",
    "\n",
    "- 更多要闻\n",
    "\n"
   ]
  },
  {
   "cell_type": "code",
   "execution_count": null,
   "metadata": {},
   "outputs": [],
   "source": [
    "#obs = data[data['account']=='中国政府网'][['url','content']].head(15)\n",
    "#display(obs)"
   ]
  },
  {
   "cell_type": "code",
   "execution_count": null,
   "metadata": {},
   "outputs": [],
   "source": [
    "new_ads_removal['中国政府网']['end'] = ['点击左下角']\n",
    "new_ads_removal['中国政府网']['end'].append('更多要闻')\n",
    "display(new_ads_removal['中国政府网'])"
   ]
  },
  {
   "cell_type": "markdown",
   "metadata": {},
   "source": [
    "## 41 - 中央政法委长安剑\n",
    "\n",
    "- 还不知道这些事\n",
    "- 声明："
   ]
  },
  {
   "cell_type": "code",
   "execution_count": null,
   "metadata": {},
   "outputs": [],
   "source": [
    "#obs = data[data['account']=='中央政法委长安剑'][['url','content']].head(15)\n",
    "#display(obs)"
   ]
  },
  {
   "cell_type": "code",
   "execution_count": null,
   "metadata": {},
   "outputs": [],
   "source": [
    "new_ads_removal['中央政法委长安剑']['end'] = ['还不知道这些事']\n",
    "new_ads_removal['中央政法委长安剑']['end'].append('声明：')\n",
    "display(new_ads_removal['中央政法委长安剑'])"
   ]
  },
  {
   "cell_type": "markdown",
   "metadata": {},
   "source": [
    "## 42 - 米尔军事\n",
    "\n",
    "文章已被刪除\n",
    "\n",
    "-\n"
   ]
  },
  {
   "cell_type": "code",
   "execution_count": null,
   "metadata": {},
   "outputs": [],
   "source": [
    "obs = data[data['account']=='米尔军事']"
   ]
  },
  {
   "cell_type": "code",
   "execution_count": null,
   "metadata": {},
   "outputs": [],
   "source": [
    "#obs = data[data['account']=='米尔军事'][['url','content']].tail(15)\n",
    "\n",
    "time_filtered = obs[obs['time'] > '2020-01-31']\n",
    "display(time_filtered.head())"
   ]
  },
  {
   "cell_type": "markdown",
   "metadata": {},
   "source": [
    "## 43 - 军武榜\n",
    "\n",
    "此帐号已被屏蔽, 内容无法查看\n",
    "-"
   ]
  },
  {
   "cell_type": "markdown",
   "metadata": {},
   "source": [
    "## 44 - 局座召忠\n",
    "\n",
    "- 本文到此为止\n"
   ]
  },
  {
   "cell_type": "code",
   "execution_count": null,
   "metadata": {},
   "outputs": [],
   "source": [
    "#obs = data[data['account']=='局座召忠'][['url','content']].head(15)\n",
    "#display(obs)"
   ]
  },
  {
   "cell_type": "code",
   "execution_count": null,
   "metadata": {},
   "outputs": [],
   "source": [
    "new_ads_removal['局座召忠']['end'] = ['本文到此为止']\n",
    "display(new_ads_removal['局座召忠'])"
   ]
  },
  {
   "cell_type": "code",
   "execution_count": null,
   "metadata": {},
   "outputs": [],
   "source": [
    "new_ads_removal.pop('本文到此为止')"
   ]
  },
  {
   "cell_type": "markdown",
   "metadata": {},
   "source": [
    "## 45 - 学习小组\n",
    "\n",
    "頗為乾淨\n",
    "\n",
    "- 来源/\n"
   ]
  },
  {
   "cell_type": "code",
   "execution_count": null,
   "metadata": {},
   "outputs": [],
   "source": [
    "#obs = data[data['account']=='学习小组'][['url','content']].head(15)\n",
    "#display(obs)"
   ]
  },
  {
   "cell_type": "code",
   "execution_count": null,
   "metadata": {},
   "outputs": [],
   "source": [
    "new_ads_removal['学习小组']['end'] = ['来源/']\n",
    "display(new_ads_removal['学习小组'])"
   ]
  },
  {
   "cell_type": "markdown",
   "metadata": {},
   "source": [
    "## 46 - 侠客岛\n",
    "\n",
    "- 来源：\n",
    "- 来源/\n"
   ]
  },
  {
   "cell_type": "code",
   "execution_count": null,
   "metadata": {},
   "outputs": [],
   "source": [
    "new_ads_removal['侠客岛']['end'] = ['来源/']\n",
    "new_ads_removal['侠客岛']['end'].append('来源：')\n",
    "display(new_ads_removal['侠客岛'])"
   ]
  },
  {
   "cell_type": "code",
   "execution_count": null,
   "metadata": {},
   "outputs": [],
   "source": [
    "#obs = data[data['account']=='侠客岛'][['url','content']].head(15)\n",
    "#display(obs)"
   ]
  },
  {
   "cell_type": "markdown",
   "metadata": {},
   "source": [
    "## 47 - 今日平说\n",
    "\n",
    "- 更多精彩文章\n",
    "- 原创不易\n",
    "\n"
   ]
  },
  {
   "cell_type": "code",
   "execution_count": null,
   "metadata": {},
   "outputs": [],
   "source": [
    "obs = data[data['account']=='今日平说'][['url','content']].head()\n",
    "#display(obs)"
   ]
  },
  {
   "cell_type": "code",
   "execution_count": null,
   "metadata": {},
   "outputs": [],
   "source": [
    "new_ads_removal['今日平说']['end'] = ['更多精彩文章']\n",
    "new_ads_removal['今日平说']['end'].append('原创不易')\n",
    "display(new_ads_removal['今日平说'])"
   ]
  },
  {
   "cell_type": "markdown",
   "metadata": {},
   "source": [
    "# 刪除廣告\n",
    "\n"
   ]
  },
  {
   "cell_type": "code",
   "execution_count": null,
   "metadata": {},
   "outputs": [],
   "source": [
    "#string.partition('stopword')\n",
    "#df['val'] = np.where(df['category'] == 'c1', df['val'].apply(f), df['val'])\n",
    "#df['NewCol'] = df.apply(lambda x: segmentMatch(x['TimeCol'], x['ResponseCol']), axis=1)\n"
   ]
  },
  {
   "cell_type": "code",
   "execution_count": null,
   "metadata": {},
   "outputs": [],
   "source": [
    "with open(\"ads_rule.txt\",\"w\") as f:\n",
    "    f.write(str(dict(new_ads_removal)))\n"
   ]
  },
  {
   "cell_type": "code",
   "execution_count": null,
   "metadata": {},
   "outputs": [],
   "source": [
    "test_data = obs.iloc[0]\n",
    "display(test_data['content'])\n",
    "\n",
    "display(test_data['content'].partition('今日平说')[2])"
   ]
  },
  {
   "cell_type": "code",
   "execution_count": null,
   "metadata": {},
   "outputs": [],
   "source": [
    "def remove_ads(text, row_key, new_ads_removal):\n",
    "    if not isinstance(text, str):\n",
    "        return text\n",
    "    local_dict = new_ads_removal[row_key]\n",
    "    for key, value in local_dict.items():\n",
    "        if not isinstance(text, str):\n",
    "            return text\n",
    "        if key == 'front':\n",
    "            text = text.partition(value)[2]\n",
    "        if key == 'internal':\n",
    "            text = text.partition(value)[0] + text.partition(value)[2]\n",
    "        if key == 'end':\n",
    "            text = text.partition(value)[0]\n",
    "    \n",
    "    return text"
   ]
  },
  {
   "cell_type": "code",
   "execution_count": null,
   "metadata": {},
   "outputs": [],
   "source": [
    "def remove_ads(text, row_key, new_ads_removal):\n",
    "    if not isinstance(text, str):\n",
    "        return text\n",
    "    local_dict = new_ads_removal[row_key]\n",
    "    for key, value in local_dict.items():\n",
    "        if key == 'front':\n",
    "            for stop_word in value:\n",
    "                text = text.partition(stop_word)[2]\n",
    "        if key == 'internal':\n",
    "            for stop_word in value:\n",
    "                text = text.partition(stop_word)[0] + text.partition(stop_word)[2]\n",
    "        if key == 'end':\n",
    "            for stop_word in value:\n",
    "                text = text.partition(stop_word)[0]\n",
    "\n",
    "    return text"
   ]
  },
  {
   "cell_type": "code",
   "execution_count": null,
   "metadata": {},
   "outputs": [],
   "source": [
    "\n",
    "data = data[~data.index.to_series().duplicated()]"
   ]
  },
  {
   "cell_type": "code",
   "execution_count": null,
   "metadata": {},
   "outputs": [],
   "source": [
    "data['filtered_content'] = data.apply(lambda x: remove_ads(x['content'], x['account'], new_ads_removal), axis=1).compute()\n",
    "new_data = data.drop('content', axis=1)\n",
    "\n",
    "# conversion to pandas\n",
    "new_data = new_data.compute()\n",
    "new_data.to_csv('19_20_sentiment_remove_ads.csv')"
   ]
  },
  {
   "cell_type": "code",
   "execution_count": null,
   "metadata": {},
   "outputs": [],
   "source": [
    "new_data[['filtered_content']].head()"
   ]
  },
  {
   "cell_type": "markdown",
   "metadata": {},
   "source": [
    "## 切詞POS修正\n",
    "\n",
    "Goal: 排除一詞多情緒\n",
    "\n",
    "- 將資料加入詞性\n",
    "- 直接刪除 - do this"
   ]
  },
  {
   "cell_type": "code",
   "execution_count": 11,
   "metadata": {},
   "outputs": [
    {
     "ename": "ImportError",
     "evalue": "Dask dataframe requirements are not installed.\n\nPlease either conda or pip install as follows:\n\n  conda install dask                     # either conda install\n  python -m pip install \"dask[dataframe]\" --upgrade  # or python -m pip install",
     "output_type": "error",
     "traceback": [
      "\u001b[0;31m---------------------------------------------------------------------------\u001b[0m",
      "\u001b[0;31mImportError\u001b[0m                               Traceback (most recent call last)",
      "\u001b[0;32m~/miniconda3/envs/convAI/lib/python3.7/site-packages/dask/array/__init__.py\u001b[0m in \u001b[0;36m<module>\u001b[0;34m\u001b[0m\n\u001b[1;32m      2\u001b[0m     \u001b[0;32mfrom\u001b[0m \u001b[0;34m.\u001b[0m\u001b[0mblockwise\u001b[0m \u001b[0;32mimport\u001b[0m \u001b[0mblockwise\u001b[0m\u001b[0;34m,\u001b[0m \u001b[0matop\u001b[0m\u001b[0;34m\u001b[0m\u001b[0;34m\u001b[0m\u001b[0m\n\u001b[0;32m----> 3\u001b[0;31m     from .core import (\n\u001b[0m\u001b[1;32m      4\u001b[0m         \u001b[0mArray\u001b[0m\u001b[0;34m,\u001b[0m\u001b[0;34m\u001b[0m\u001b[0;34m\u001b[0m\u001b[0m\n",
      "\u001b[0;32m~/miniconda3/envs/convAI/lib/python3.7/site-packages/dask/array/core.py\u001b[0m in \u001b[0;36m<module>\u001b[0;34m\u001b[0m\n\u001b[1;32m     22\u001b[0m \u001b[0;32mfrom\u001b[0m \u001b[0;34m.\u001b[0m \u001b[0;32mimport\u001b[0m \u001b[0mchunk\u001b[0m\u001b[0;34m\u001b[0m\u001b[0;34m\u001b[0m\u001b[0m\n\u001b[0;32m---> 23\u001b[0;31m \u001b[0;32mfrom\u001b[0m \u001b[0;34m.\u001b[0m\u001b[0;34m.\u001b[0m \u001b[0;32mimport\u001b[0m \u001b[0mconfig\u001b[0m\u001b[0;34m,\u001b[0m \u001b[0mcompute\u001b[0m\u001b[0;34m\u001b[0m\u001b[0;34m\u001b[0m\u001b[0m\n\u001b[0m\u001b[1;32m     24\u001b[0m from ..base import (\n",
      "\u001b[0;31mImportError\u001b[0m: cannot import name 'compute' from 'dask' (/Users/bluekidds/miniconda3/envs/convAI/lib/python3.7/site-packages/dask/__init__.py)",
      "\nThe above exception was the direct cause of the following exception:\n",
      "\u001b[0;31mImportError\u001b[0m                               Traceback (most recent call last)",
      "\u001b[0;32m~/miniconda3/envs/convAI/lib/python3.7/site-packages/dask/dataframe/__init__.py\u001b[0m in \u001b[0;36m<module>\u001b[0;34m\u001b[0m\n\u001b[1;32m      1\u001b[0m \u001b[0;32mtry\u001b[0m\u001b[0;34m:\u001b[0m\u001b[0;34m\u001b[0m\u001b[0;34m\u001b[0m\u001b[0m\n\u001b[0;32m----> 2\u001b[0;31m     from .core import (\n\u001b[0m\u001b[1;32m      3\u001b[0m         \u001b[0mDataFrame\u001b[0m\u001b[0;34m,\u001b[0m\u001b[0;34m\u001b[0m\u001b[0;34m\u001b[0m\u001b[0m\n",
      "\u001b[0;32m~/miniconda3/envs/convAI/lib/python3.7/site-packages/dask/dataframe/core.py\u001b[0m in \u001b[0;36m<module>\u001b[0;34m\u001b[0m\n\u001b[1;32m     24\u001b[0m \u001b[0;34m\u001b[0m\u001b[0m\n\u001b[0;32m---> 25\u001b[0;31m \u001b[0;32mfrom\u001b[0m \u001b[0;34m.\u001b[0m\u001b[0;34m.\u001b[0m \u001b[0;32mimport\u001b[0m \u001b[0marray\u001b[0m \u001b[0;32mas\u001b[0m \u001b[0mda\u001b[0m\u001b[0;34m\u001b[0m\u001b[0;34m\u001b[0m\u001b[0m\n\u001b[0m\u001b[1;32m     26\u001b[0m \u001b[0;32mfrom\u001b[0m \u001b[0;34m.\u001b[0m\u001b[0;34m.\u001b[0m \u001b[0;32mimport\u001b[0m \u001b[0mcore\u001b[0m\u001b[0;34m\u001b[0m\u001b[0;34m\u001b[0m\u001b[0m\n",
      "\u001b[0;32m~/miniconda3/envs/convAI/lib/python3.7/site-packages/dask/array/__init__.py\u001b[0m in \u001b[0;36m<module>\u001b[0;34m\u001b[0m\n\u001b[1;32m    249\u001b[0m     )\n\u001b[0;32m--> 250\u001b[0;31m     \u001b[0;32mraise\u001b[0m \u001b[0mImportError\u001b[0m\u001b[0;34m(\u001b[0m\u001b[0mstr\u001b[0m\u001b[0;34m(\u001b[0m\u001b[0me\u001b[0m\u001b[0;34m)\u001b[0m \u001b[0;34m+\u001b[0m \u001b[0;34m\"\\n\\n\"\u001b[0m \u001b[0;34m+\u001b[0m \u001b[0mmsg\u001b[0m\u001b[0;34m)\u001b[0m \u001b[0;32mfrom\u001b[0m \u001b[0me\u001b[0m\u001b[0;34m\u001b[0m\u001b[0;34m\u001b[0m\u001b[0m\n\u001b[0m",
      "\u001b[0;31mImportError\u001b[0m: cannot import name 'compute' from 'dask' (/Users/bluekidds/miniconda3/envs/convAI/lib/python3.7/site-packages/dask/__init__.py)\n\nDask array requirements are not installed.\n\nPlease either conda or pip install as follows:\n\n  conda install dask                 # either conda install\n  python -m pip install \"dask[array]\" --upgrade  # or python -m pip install",
      "\nThe above exception was the direct cause of the following exception:\n",
      "\u001b[0;31mImportError\u001b[0m                               Traceback (most recent call last)",
      "\u001b[0;32m<ipython-input-11-420aeb5f905d>\u001b[0m in \u001b[0;36m<module>\u001b[0;34m\u001b[0m\n\u001b[0;32m----> 1\u001b[0;31m \u001b[0;32mimport\u001b[0m \u001b[0mdask\u001b[0m\u001b[0;34m.\u001b[0m\u001b[0mdataframe\u001b[0m \u001b[0;32mas\u001b[0m \u001b[0mdd\u001b[0m\u001b[0;34m\u001b[0m\u001b[0;34m\u001b[0m\u001b[0m\n\u001b[0m",
      "\u001b[0;32m~/miniconda3/envs/convAI/lib/python3.7/site-packages/dask/dataframe/__init__.py\u001b[0m in \u001b[0;36m<module>\u001b[0;34m\u001b[0m\n\u001b[1;32m     55\u001b[0m         \u001b[0;34m'  python -m pip install \"dask[dataframe]\" --upgrade  # or python -m pip install'\u001b[0m\u001b[0;34m\u001b[0m\u001b[0;34m\u001b[0m\u001b[0m\n\u001b[1;32m     56\u001b[0m     )\n\u001b[0;32m---> 57\u001b[0;31m     \u001b[0;32mraise\u001b[0m \u001b[0mImportError\u001b[0m\u001b[0;34m(\u001b[0m\u001b[0mmsg\u001b[0m\u001b[0;34m)\u001b[0m \u001b[0;32mfrom\u001b[0m \u001b[0me\u001b[0m\u001b[0;34m\u001b[0m\u001b[0;34m\u001b[0m\u001b[0m\n\u001b[0m",
      "\u001b[0;31mImportError\u001b[0m: Dask dataframe requirements are not installed.\n\nPlease either conda or pip install as follows:\n\n  conda install dask                     # either conda install\n  python -m pip install \"dask[dataframe]\" --upgrade  # or python -m pip install"
     ]
    }
   ],
   "source": [
    "import dask.dataframe as dd"
   ]
  },
  {
   "cell_type": "code",
   "execution_count": 2,
   "metadata": {},
   "outputs": [],
   "source": [
    "import jieba.posseg as pseg"
   ]
  },
  {
   "cell_type": "code",
   "execution_count": 3,
   "metadata": {},
   "outputs": [
    {
     "name": "stderr",
     "output_type": "stream",
     "text": [
      "Installing paddle-tiny, please wait a minute......\n",
      "Paddle enabled successfully......\n"
     ]
    },
    {
     "name": "stdout",
     "output_type": "stream",
     "text": [
      "我 r\n",
      "爱 v\n",
      "北京 LOC\n",
      "天安门 LOC\n"
     ]
    }
   ],
   "source": [
    "import jieba\n",
    "import jieba.posseg as pseg\n",
    "words = pseg.cut(\"我爱北京天安门\") #jieba默认模式\n",
    "jieba.enable_paddle() #启动paddle模式。 0.40版之后开始支持，早期版本不支持\n",
    "words = pseg.cut(\"我爱北京天安门\",use_paddle=True) #paddle模式\n",
    "for word, flag in words:\n",
    "    print('%s %s' % (word, flag))"
   ]
  },
  {
   "cell_type": "code",
   "execution_count": null,
   "metadata": {},
   "outputs": [],
   "source": [
    "display(new_ads_removal)"
   ]
  },
  {
   "cell_type": "code",
   "execution_count": null,
   "metadata": {},
   "outputs": [],
   "source": [
    "stop_words = ['视频来源：', '素材来源：', '图片来源：']\n"
   ]
  },
  {
   "cell_type": "markdown",
   "metadata": {},
   "source": [
    "## Test url is deleted"
   ]
  },
  {
   "cell_type": "code",
   "execution_count": null,
   "metadata": {},
   "outputs": [],
   "source": [
    "!pip install beautifulsoup4\n"
   ]
  },
  {
   "cell_type": "code",
   "execution_count": null,
   "metadata": {},
   "outputs": [],
   "source": [
    "%load_ext autoreload\n",
    "\n",
    "%autoreload 2\n"
   ]
  },
  {
   "cell_type": "code",
   "execution_count": 4,
   "metadata": {},
   "outputs": [],
   "source": [
    "from bs4 import BeautifulSoup"
   ]
  },
  {
   "cell_type": "code",
   "execution_count": null,
   "metadata": {},
   "outputs": [],
   "source": [
    "url='http://mp.weixin.qq.com/s?__biz=MzU1MjU1NzM3MQ==&amp;mid=2247489740&amp;idx=1&amp;sn=fcab3fa2985ce622bdca416936630d05&amp;chksm=fb811698ccf69f8e6ba6689b9b15fac618616431463680fbf481c5de946f4a5f5be5e5202ed2&amp;scene=38#wechat_redirect'"
   ]
  },
  {
   "cell_type": "code",
   "execution_count": null,
   "metadata": {},
   "outputs": [],
   "source": [
    "\n",
    "status_code = urllib.request.urlopen(url).getcode()\n",
    "display(status_code)"
   ]
  },
  {
   "cell_type": "code",
   "execution_count": null,
   "metadata": {},
   "outputs": [],
   "source": [
    "with urllib.request.urlopen(url) as response:\n",
    "    html = response.read()\n",
    "    display(html)"
   ]
  },
  {
   "cell_type": "code",
   "execution_count": null,
   "metadata": {},
   "outputs": [],
   "source": []
  }
 ],
 "metadata": {
  "kernelspec": {
   "display_name": "Python 3",
   "language": "python",
   "name": "python3"
  },
  "language_info": {
   "codemirror_mode": {
    "name": "ipython",
    "version": 3
   },
   "file_extension": ".py",
   "mimetype": "text/x-python",
   "name": "python",
   "nbconvert_exporter": "python",
   "pygments_lexer": "ipython3",
   "version": "3.7.2"
  }
 },
 "nbformat": 4,
 "nbformat_minor": 4
}
